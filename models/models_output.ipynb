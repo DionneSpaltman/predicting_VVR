{
 "cells": [
  {
   "cell_type": "markdown",
   "metadata": {},
   "source": [
    "# Models output"
   ]
  },
  {
   "cell_type": "markdown",
   "metadata": {},
   "source": [
    "### Dummy model \n",
    "Accuracy: 0.529\n",
    "AUC-PR: 0.735\n",
    "\n",
    "|              | precision | recall | f1-score | support |\n",
    "|--------------|-----------|--------|----------|---------|\n",
    "| 0            | 0.53      | 1.00   | 0.69     | 18      |\n",
    "| 1            | 0.00      | 0.00   | 0.00     | 16      |\n",
    "| accuracy     |           |        | 0.53     | 34      |\n",
    "| macro avg    | 0.26      | 0.50   | 0.35     | 34      |\n",
    "| weighted avg | 0.28      | 0.53   | 0.37     | 34      |\n"
   ]
  },
  {
   "cell_type": "markdown",
   "metadata": {},
   "source": [
    "### Random forest\n",
    "Accuracy: 0.882\n",
    "AUC-PR: 0.904\n",
    "\n",
    "|              | precision | recall | f1-score | support |\n",
    "|--------------|-----------|--------|----------|---------|\n",
    "| 0            | 0.89      | 0.89   | 0.89     | 18      |\n",
    "| 1            | 0.88      | 0.88   | 0.88     | 16      |\n",
    "| accuracy     |           |        | 0.88     | 34      |\n",
    "| macro avg    | 0.88      | 0.88   | 0.88     | 34      |\n",
    "| weighted avg | 0.88      | 0.88   | 0.88     | 34      |\n"
   ]
  },
  {
   "cell_type": "markdown",
   "metadata": {},
   "source": [
    "### SVM Model \n",
    "Accuracy: 0.794\n",
    "AUC-PR: 0.834\n",
    "\n",
    "|              | precision | recall | f1-score | support |\n",
    "|--------------|-----------|--------|----------|---------|\n",
    "| 0            | 0.79      | 0.83   | 0.81     | 18      |\n",
    "| 1            | 0.80      | 0.75   | 0.77     | 16      |\n",
    "| accuracy     |           |        | 0.79     | 34      |\n",
    "| macro avg    | 0.79      | 0.79   | 0.79     | 34      |\n",
    "| weighted avg | 0.79      | 0.79   | 0.79     | 34      |\n"
   ]
  },
  {
   "cell_type": "markdown",
   "metadata": {},
   "source": [
    "### Multiclass SVM \n",
    "Accuracy: 0.794\n",
    "AUC-PR: 0.834\n",
    "\n",
    "|              | precision | recall | f1-score | support |\n",
    "|--------------|-----------|--------|----------|---------|\n",
    "| 0            | 0.79      | 0.83   | 0.81     | 18      |\n",
    "| 1            | 0.80      | 0.75   | 0.77     | 16      |\n",
    "| accuracy     |           |        | 0.79     | 34      |\n",
    "| macro avg    | 0.79      | 0.79   | 0.79     | 34      |\n",
    "| weighted avg | 0.79      | 0.79   | 0.79     | 34      |\n"
   ]
  },
  {
   "cell_type": "markdown",
   "metadata": {},
   "source": [
    "### XGBoost model \n",
    "Accuracy: 0.853\n",
    "AUC-PR: 0.881\n",
    "\n",
    "|              | precision | recall | f1-score | support |\n",
    "|--------------|-----------|--------|----------|---------|\n",
    "| 0            | 1.00      | 0.72   | 0.84     | 18      |\n",
    "| 1            | 0.76      | 1.00   | 0.86     | 16      |\n",
    "| accuracy     |           |        | 0.85     | 34      |\n",
    "| macro avg    | 0.88      | 0.86   | 0.85     | 34      |\n",
    "| weighted avg | 0.89      | 0.85   | 0.85     | 34      |\n"
   ]
  },
  {
   "cell_type": "markdown",
   "metadata": {},
   "source": [
    "### Neural Network / MLP model\n",
    "Accuracy: 0.824\n",
    "AUC-PR: 0.857\n",
    "\n",
    "|              | precision | recall | f1-score | support |\n",
    "|--------------|-----------|--------|----------|---------|\n",
    "| 0            | 0.83      | 0.83   | 0.83     | 18      |\n",
    "| 1            | 0.81      | 0.81   | 0.81     | 16      |\n",
    "| accuracy     |           |        | 0.82     | 34      |\n",
    "| macro avg    | 0.82      | 0.82   | 0.82     | 34      |\n",
    "| weighted avg | 0.82      | 0.82   | 0.82     | 34      |\n"
   ]
  },
  {
   "cell_type": "markdown",
   "metadata": {},
   "source": [
    "### Decision Tree model \n",
    "Accuracy: 0.765\n",
    "AUC-PR: 0.817\n",
    "\n",
    "|              | precision | recall | f1-score | support |\n",
    "|--------------|-----------|--------|----------|---------|\n",
    "| 0            | 0.86      | 0.67   | 0.75     | 18      |\n",
    "| 1            | 0.70      | 0.88   | 0.78     | 16      |\n",
    "| accuracy     |           |        | 0.76     | 34      |\n",
    "| macro avg    | 0.78      | 0.77   | 0.76     | 34      |\n",
    "| weighted avg | 0.78      | 0.76   | 0.76     | 34      |\n"
   ]
  }
 ],
 "metadata": {
  "language_info": {
   "name": "python"
  }
 },
 "nbformat": 4,
 "nbformat_minor": 2
}
