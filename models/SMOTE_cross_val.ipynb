{
 "cells": [
  {
   "cell_type": "markdown",
   "metadata": {},
   "source": [
    "# Right way of using SMOTE with cross validation \n",
    "https://towardsdatascience.com/the-right-way-of-using-smote-with-cross-validation-92a8d09d00c7"
   ]
  },
  {
   "cell_type": "markdown",
   "metadata": {},
   "source": [
    "In this notebook I will follow all the steps of the article to make sure I get similar results (at least the differences). "
   ]
  },
  {
   "cell_type": "markdown",
   "metadata": {},
   "source": [
    "Import statements. "
   ]
  },
  {
   "cell_type": "code",
   "execution_count": 1,
   "metadata": {},
   "outputs": [],
   "source": [
    "import numpy as np\n",
    "import pandas as pd\n",
    "from sklearn.linear_model import LogisticRegression\n",
    "from sklearn.model_selection import train_test_split, GridSearchCV, StratifiedKFold\n",
    "from sklearn.preprocessing import MinMaxScaler\n",
    "from imblearn.over_sampling import SMOTE\n",
    "from imblearn.pipeline import Pipeline as imbpipeline\n",
    "from sklearn.pipeline import Pipeline\n",
    "from sklearn.datasets import make_classification"
   ]
  },
  {
   "cell_type": "markdown",
   "metadata": {},
   "source": [
    "## We start with what you shouldn't do"
   ]
  },
  {
   "cell_type": "markdown",
   "metadata": {},
   "source": [
    "Load the dataset. "
   ]
  },
  {
   "cell_type": "code",
   "execution_count": 3,
   "metadata": {},
   "outputs": [],
   "source": [
    "merged_df = pd.read_csv('/Users/dionnespaltman/Desktop/V3/merged_df.csv', sep=',')\n",
    "\n",
    "merged_df.drop('Unnamed: 0', axis=1, inplace=True)\n",
    "merged_df.drop('Unnamed: 0.1', axis=1, inplace=True)\n",
    "\n",
    "# display(merged_df.head(5))"
   ]
  },
  {
   "cell_type": "code",
   "execution_count": 19,
   "metadata": {},
   "outputs": [],
   "source": [
    "columns_to_drop = [ 'ID', 'sum_12', 'sum_4567', 'sum_456', 'VVR_group', 'Condition'] \n",
    "\n",
    "X = merged_df.drop(columns_to_drop, axis=1)\n",
    "y = merged_df['VVR_group']"
   ]
  },
  {
   "cell_type": "markdown",
   "metadata": {},
   "source": [
    "Split into test and train. "
   ]
  },
  {
   "cell_type": "code",
   "execution_count": 20,
   "metadata": {},
   "outputs": [],
   "source": [
    "X_train, X_test, y_train, y_test = train_test_split(X,\n",
    "                                                    y,\n",
    "                                                    test_size=0.2,\n",
    "                                                    stratify=y,\n",
    "                                                    random_state=11)"
   ]
  },
  {
   "cell_type": "markdown",
   "metadata": {},
   "source": [
    "Then we apply SMOTE. "
   ]
  },
  {
   "cell_type": "code",
   "execution_count": 21,
   "metadata": {},
   "outputs": [],
   "source": [
    "smote = SMOTE(random_state = 11)\n",
    "X_res, y_res = smote.fit_resample(X_train, y_train)\n",
    "pipeline = Pipeline(steps = [['scaler', MinMaxScaler()],\n",
    "                             ['classifier', LogisticRegression(random_state=11,\n",
    "                                                               max_iter=1000)]])"
   ]
  },
  {
   "cell_type": "code",
   "execution_count": 27,
   "metadata": {},
   "outputs": [
    {
     "name": "stdout",
     "output_type": "stream",
     "text": [
      "(88, 121)\n",
      "(134, 121)\n",
      "Original dataset shape Counter({0: 67, 1: 21})\n",
      "Smote dataset shape Counter({0: 67, 1: 67})\n"
     ]
    }
   ],
   "source": [
    "from collections import Counter\n",
    "\n",
    "print(X_train.shape)\n",
    "print(X_res.shape)\n",
    "\n",
    "# Apply SMOTE to the training data\n",
    "print('Original dataset shape %s' % Counter(y_train))\n",
    "print('Smote dataset shape %s' % Counter(y_res))\n",
    "\n"
   ]
  },
  {
   "cell_type": "code",
   "execution_count": 28,
   "metadata": {},
   "outputs": [],
   "source": [
    "stratified_kfold = StratifiedKFold(n_splits=3,\n",
    "                                       shuffle=True,\n",
    "                                       random_state=11)"
   ]
  },
  {
   "cell_type": "markdown",
   "metadata": {},
   "source": [
    "We're looking at the roc_auc. To be extra clear: this is not how it should go! "
   ]
  },
  {
   "cell_type": "code",
   "execution_count": 29,
   "metadata": {},
   "outputs": [
    {
     "name": "stdout",
     "output_type": "stream",
     "text": [
      "Cross-validation score: 0.9736495388669302\n",
      "Test score: 0.8333333333333335\n"
     ]
    }
   ],
   "source": [
    "param_grid = {'classifier__C':[0.001, 0.01, 0.1, 1, 10, 100, 1000]}\n",
    "grid_search = GridSearchCV(estimator=pipeline,\n",
    "                           param_grid=param_grid,\n",
    "                           scoring='roc_auc',\n",
    "                           cv=stratified_kfold,\n",
    "                           n_jobs=-1)\n",
    "\n",
    "grid_search.fit(X_res, y_res)\n",
    "cv_score = grid_search.best_score_\n",
    "test_score = grid_search.score(X_test, y_test)\n",
    "print(f'Cross-validation score: {cv_score}\\nTest score: {test_score}')"
   ]
  },
  {
   "cell_type": "code",
   "execution_count": 30,
   "metadata": {},
   "outputs": [
    {
     "name": "stdout",
     "output_type": "stream",
     "text": [
      "Cross-validation score: 0.9555555555555556\n",
      "Test score: 0.782608695652174\n"
     ]
    }
   ],
   "source": [
    "param_grid = {'classifier__C':[0.001, 0.01, 0.1, 1, 10, 100, 1000]}\n",
    "grid_search = GridSearchCV(estimator=pipeline,\n",
    "                           param_grid=param_grid,\n",
    "                           scoring='accuracy',\n",
    "                           cv=stratified_kfold,\n",
    "                           n_jobs=-1)\n",
    "\n",
    "grid_search.fit(X_res, y_res)\n",
    "cv_score = grid_search.best_score_\n",
    "test_score = grid_search.score(X_test, y_test)\n",
    "print(f'Cross-validation score: {cv_score}\\nTest score: {test_score}')"
   ]
  },
  {
   "cell_type": "code",
   "execution_count": 31,
   "metadata": {},
   "outputs": [
    {
     "name": "stdout",
     "output_type": "stream",
     "text": [
      "Cross-validation score: 0.8291187739463601\n",
      "Test score: 0.782608695652174\n"
     ]
    }
   ],
   "source": [
    "param_grid = {'classifier__C':[0.001, 0.01, 0.1, 1, 10, 100, 1000]}\n",
    "grid_search = GridSearchCV(estimator=pipeline,\n",
    "                           param_grid=param_grid,\n",
    "                           scoring='accuracy',\n",
    "                           cv=stratified_kfold,\n",
    "                           n_jobs=-1)\n",
    "\n",
    "grid_search.fit(X_train, y_train)\n",
    "cv_score = grid_search.best_score_\n",
    "test_score = grid_search.score(X_test, y_test)\n",
    "print(f'Cross-validation score: {cv_score}\\nTest score: {test_score}')"
   ]
  },
  {
   "cell_type": "code",
   "execution_count": 32,
   "metadata": {},
   "outputs": [
    {
     "name": "stdout",
     "output_type": "stream",
     "text": [
      "Cross-validation score: 0.4761904761904762\n",
      "Test score: 0.4\n"
     ]
    }
   ],
   "source": [
    "param_grid = {'classifier__C':[0.001, 0.01, 0.1, 1, 10, 100, 1000]}\n",
    "grid_search = GridSearchCV(estimator=pipeline,\n",
    "                           param_grid=param_grid,\n",
    "                           scoring='recall',\n",
    "                           cv=stratified_kfold,\n",
    "                           n_jobs=-1)\n",
    "\n",
    "grid_search.fit(X_train, y_train)\n",
    "cv_score = grid_search.best_score_\n",
    "test_score = grid_search.score(X_test, y_test)\n",
    "print(f'Cross-validation score: {cv_score}\\nTest score: {test_score}')"
   ]
  },
  {
   "cell_type": "markdown",
   "metadata": {},
   "source": [
    "## Then what you should do "
   ]
  },
  {
   "cell_type": "markdown",
   "metadata": {},
   "source": [
    "Now we're moving on to the second part of the article. "
   ]
  },
  {
   "cell_type": "code",
   "execution_count": 33,
   "metadata": {},
   "outputs": [],
   "source": [
    "columns_to_drop = [ 'ID', 'sum_12', 'sum_4567', 'sum_456', 'VVR_group', 'Condition'] \n",
    "\n",
    "X = merged_df.drop(columns_to_drop, axis=1)\n",
    "y = merged_df['VVR_group']"
   ]
  },
  {
   "cell_type": "code",
   "execution_count": 34,
   "metadata": {},
   "outputs": [],
   "source": [
    "X_train, X_test, y_train, y_test = train_test_split(X,\n",
    "                                                    y,\n",
    "                                                    test_size=0.2,\n",
    "                                                    stratify=y,\n",
    "                                                    random_state=11)"
   ]
  },
  {
   "cell_type": "markdown",
   "metadata": {},
   "source": [
    "The ROC-AUC is very good."
   ]
  },
  {
   "cell_type": "code",
   "execution_count": 35,
   "metadata": {},
   "outputs": [
    {
     "name": "stdout",
     "output_type": "stream",
     "text": [
      "Cross-validation score: 0.7853378505552419\n",
      "Test score: 0.8666666666666667\n"
     ]
    }
   ],
   "source": [
    "pipeline = imbpipeline(steps = [['smote', SMOTE(random_state=11)],\n",
    "                                ['scaler', MinMaxScaler()],\n",
    "                                ['classifier', LogisticRegression(random_state=11,\n",
    "                                                                  max_iter=1000)]])\n",
    "\n",
    "stratified_kfold = StratifiedKFold(n_splits=3,\n",
    "                                       shuffle=True,\n",
    "                                       random_state=11)\n",
    "    \n",
    "param_grid = {'classifier__C':[0.001, 0.01, 0.1, 1, 10, 100, 1000]}\n",
    "grid_search = GridSearchCV(estimator=pipeline,\n",
    "                           param_grid=param_grid,\n",
    "                           scoring='roc_auc',\n",
    "                           cv=stratified_kfold,\n",
    "                           n_jobs=-1)\n",
    "\n",
    "grid_search.fit(X_train, y_train)\n",
    "cv_score = grid_search.best_score_\n",
    "test_score = grid_search.score(X_test, y_test)\n",
    "print(f'Cross-validation score: {cv_score}\\nTest score: {test_score}')"
   ]
  },
  {
   "cell_type": "markdown",
   "metadata": {},
   "source": [
    "Recall is bad (0.4 on test). "
   ]
  },
  {
   "cell_type": "code",
   "execution_count": 36,
   "metadata": {},
   "outputs": [
    {
     "name": "stdout",
     "output_type": "stream",
     "text": [
      "Cross-validation score: 0.4761904761904762\n",
      "Test score: 0.4\n"
     ]
    }
   ],
   "source": [
    "pipeline = imbpipeline(steps = [['smote', SMOTE(random_state=11)],\n",
    "                                ['scaler', MinMaxScaler()],\n",
    "                                ['classifier', LogisticRegression(random_state=11,\n",
    "                                                                  max_iter=1000)]])\n",
    "\n",
    "stratified_kfold = StratifiedKFold(n_splits=3,\n",
    "                                       shuffle=True,\n",
    "                                       random_state=11)\n",
    "    \n",
    "param_grid = {'classifier__C':[0.001, 0.01, 0.1, 1, 10, 100, 1000]}\n",
    "grid_search = GridSearchCV(estimator=pipeline,\n",
    "                           param_grid=param_grid,\n",
    "                           scoring='recall',\n",
    "                           cv=stratified_kfold,\n",
    "                           n_jobs=-1)\n",
    "\n",
    "grid_search.fit(X_train, y_train)\n",
    "cv_score = grid_search.best_score_\n",
    "test_score = grid_search.score(X_test, y_test)\n",
    "print(f'Cross-validation score: {cv_score}\\nTest score: {test_score}')"
   ]
  },
  {
   "cell_type": "markdown",
   "metadata": {},
   "source": [
    "Precision also is not very good (0.4 on test). "
   ]
  },
  {
   "cell_type": "code",
   "execution_count": 48,
   "metadata": {},
   "outputs": [
    {
     "name": "stdout",
     "output_type": "stream",
     "text": [
      "Cross-validation score: 0.75\n",
      "Test score: 0.4\n"
     ]
    }
   ],
   "source": [
    "pipeline = imbpipeline(steps = [['smote', SMOTE(random_state=11)],\n",
    "                                ['scaler', MinMaxScaler()],\n",
    "                                ['classifier', LogisticRegression(random_state=11,\n",
    "                                                                  max_iter=1000)]])\n",
    "\n",
    "stratified_kfold = StratifiedKFold(n_splits=3,\n",
    "                                       shuffle=True,\n",
    "                                       random_state=11)\n",
    "    \n",
    "param_grid = {'classifier__C':[0.001, 0.01, 0.1, 1, 10, 100, 1000]}\n",
    "grid_search = GridSearchCV(estimator=pipeline,\n",
    "                           param_grid=param_grid,\n",
    "                           scoring='precision',\n",
    "                           cv=stratified_kfold,\n",
    "                           n_jobs=-1)\n",
    "\n",
    "grid_search.fit(X_train, y_train)\n",
    "cv_score = grid_search.best_score_\n",
    "test_score = grid_search.score(X_test, y_test)\n",
    "print(f'Cross-validation score: {cv_score}\\nTest score: {test_score}')"
   ]
  },
  {
   "cell_type": "markdown",
   "metadata": {},
   "source": [
    "F1 is then also not very good. "
   ]
  },
  {
   "cell_type": "code",
   "execution_count": 46,
   "metadata": {},
   "outputs": [
    {
     "name": "stdout",
     "output_type": "stream",
     "text": [
      "Cross-validation score: 0.4666666666666666\n",
      "Test score: 0.2857142857142857\n"
     ]
    }
   ],
   "source": [
    "from sklearn.ensemble import RandomForestClassifier\n",
    "\n",
    "pipeline = imbpipeline(steps = [['smote', SMOTE(random_state=11)],\n",
    "                                ['scaler', MinMaxScaler()],\n",
    "                                ['classifier', RandomForestClassifier(n_estimators=2, random_state=0)]])\n",
    "\n",
    "stratified_kfold = StratifiedKFold(n_splits=3,\n",
    "                                       shuffle=True,\n",
    "                                       random_state=11)\n",
    "    \n",
    "param_grid = {\n",
    "    'classifier__n_estimators': [10, 50, 100],\n",
    "    'classifier__max_depth': [None, 10, 20],\n",
    "    'classifier__min_samples_split': [2, 5, 10]\n",
    "}\n",
    "\n",
    "grid_search = GridSearchCV(estimator=pipeline,\n",
    "                           param_grid=param_grid,\n",
    "                           scoring='f1',\n",
    "                           cv=stratified_kfold,\n",
    "                           n_jobs=-1)\n",
    "\n",
    "grid_search.fit(X_train, y_train)\n",
    "cv_score = grid_search.best_score_\n",
    "test_score = grid_search.score(X_test, y_test)\n",
    "print(f'Cross-validation score: {cv_score}\\nTest score: {test_score}')"
   ]
  },
  {
   "cell_type": "markdown",
   "metadata": {},
   "source": [
    "Accuracy is very good. "
   ]
  },
  {
   "cell_type": "code",
   "execution_count": 45,
   "metadata": {},
   "outputs": [
    {
     "name": "stdout",
     "output_type": "stream",
     "text": [
      "Cross-validation score: 0.7954022988505747\n",
      "Test score: 0.7391304347826086\n"
     ]
    }
   ],
   "source": [
    "from sklearn.ensemble import RandomForestClassifier\n",
    "\n",
    "pipeline = imbpipeline(steps = [['smote', SMOTE(random_state=11)],\n",
    "                                ['scaler', MinMaxScaler()],\n",
    "                                ['classifier', RandomForestClassifier(n_estimators=2, random_state=0)]])\n",
    "\n",
    "stratified_kfold = StratifiedKFold(n_splits=3,\n",
    "                                       shuffle=True,\n",
    "                                       random_state=11)\n",
    "    \n",
    "param_grid = {\n",
    "    'classifier__n_estimators': [10, 50, 100],\n",
    "    'classifier__max_depth': [None, 10, 20],\n",
    "    'classifier__min_samples_split': [2, 5, 10]\n",
    "}\n",
    "\n",
    "grid_search = GridSearchCV(estimator=pipeline,\n",
    "                           param_grid=param_grid,\n",
    "                           scoring='accuracy',\n",
    "                           cv=stratified_kfold,\n",
    "                           n_jobs=-1)\n",
    "\n",
    "grid_search.fit(X_train, y_train)\n",
    "cv_score = grid_search.best_score_\n",
    "test_score = grid_search.score(X_test, y_test)\n",
    "print(f'Cross-validation score: {cv_score}\\nTest score: {test_score}')"
   ]
  },
  {
   "cell_type": "code",
   "execution_count": 13,
   "metadata": {},
   "outputs": [],
   "source": [
    "def model(X, y, smote=True):\n",
    "    X_train, X_test, y_train, y_test = train_test_split(X,\n",
    "                                                        y,\n",
    "                                                        test_size=0.3,\n",
    "                                                        stratify=y,\n",
    "                                                        random_state=11)\n",
    "    \n",
    "    if smote == True:\n",
    "        pipeline = imbpipeline(steps = [['smote', SMOTE(random_state=11)],\n",
    "                                        ['scaler', MinMaxScaler()],\n",
    "                                        ['classifier', LogisticRegression(random_state=11,\n",
    "                                                                          max_iter=1000)]])\n",
    "    else:\n",
    "        smote = SMOTE(random_state = 11)\n",
    "        X_train, y_train = smote.fit_resample(X_train, y_train)\n",
    "        pipeline = Pipeline(steps = [['scaler', MinMaxScaler()],\n",
    "                                     ['classifier', LogisticRegression(random_state=11,\n",
    "                                                                       max_iter=1000)]])\n",
    "        \n",
    "    \n",
    "    stratified_kfold = StratifiedKFold(n_splits=5,\n",
    "                                       shuffle=True,\n",
    "                                       random_state=11)\n",
    "    \n",
    "    \n",
    "    param_grid = {'classifier__C':[0.001, 0.01, 0.1, 1, 10, 100, 1000]}\n",
    "    grid_search = GridSearchCV(estimator=pipeline,\n",
    "                               param_grid=param_grid,\n",
    "                               scoring='recall',\n",
    "                               cv=stratified_kfold,\n",
    "                               n_jobs=-1)\n",
    "    \n",
    "    \n",
    "    grid_search.fit(X_train, y_train)\n",
    "    cv_score = grid_search.best_score_\n",
    "    test_score = grid_search.score(X_test, y_test)\n",
    "    return {'cv_score':cv_score, 'test_score':test_score}"
   ]
  },
  {
   "cell_type": "code",
   "execution_count": 40,
   "metadata": {},
   "outputs": [
    {
     "name": "stdout",
     "output_type": "stream",
     "text": [
      "0\n",
      "1\n",
      "2\n",
      "3\n",
      "4\n",
      "5\n",
      "6\n",
      "7\n",
      "8\n",
      "9\n"
     ]
    }
   ],
   "source": [
    "main_df = pd.DataFrame()\n",
    "for i in range(10):\n",
    "  \n",
    "    np.random.seed(i)\n",
    "    \n",
    "    N_SAMPLES = np.random.randint(low=10000,\n",
    "                                  high=50000,\n",
    "                                  size=1)[0]\n",
    "\n",
    "    N_FEATURES = np.random.randint(low=20,\n",
    "                                   high=40,\n",
    "                                   size=1)[0]\n",
    "\n",
    "    N_INFORMATIVE = N_FEATURES - np.random.randint(low=2,\n",
    "                                                   high=5,\n",
    "                                                   size=1)[0]\n",
    "\n",
    "    CLASS_SEP = np.random.uniform(low=0.4,\n",
    "                                  high=0.8,\n",
    "                                  size=1)[0]\n",
    "\n",
    "    MINORITY_CLASS_WEIGHT = np.random.uniform(low=0.05,\n",
    "                                              high=0.3,\n",
    "                                              size=1)[0]\n",
    "\n",
    "    CLASS_WEIGHTS = {1:MINORITY_CLASS_WEIGHT, 0:(1 - MINORITY_CLASS_WEIGHT)}\n",
    "\n",
    "\n",
    "    data = make_classification(n_samples=N_SAMPLES,\n",
    "                               n_features=N_FEATURES,\n",
    "                               n_informative=N_INFORMATIVE,\n",
    "                               n_redundant=0,\n",
    "                               class_sep=CLASS_SEP,\n",
    "                               weights=CLASS_WEIGHTS,\n",
    "                               random_state=11)\n",
    "    \n",
    "    X = data[0].copy()\n",
    "    y = data[1].copy()\n",
    "    \n",
    "    model_smote_in_pipeline = model(X, y, smote=True)\n",
    "    model_smote_out_pipeline = model(X, y, smote=False)\n",
    "    \n",
    "    df = pd.DataFrame({'N_SAMPLES':N_SAMPLES,\n",
    "                       'N_FEATURES':N_FEATURES,\n",
    "                       'N_INFORMATIVE':N_INFORMATIVE,\n",
    "                       'CLASS_SEP':CLASS_SEP,\n",
    "                       'MINORITY_CLASS_WEIGHT':MINORITY_CLASS_WEIGHT,\n",
    "                       'SMOTE_IN_PIPELINE_CV_SCORE': model_smote_in_pipeline['cv_score'],\n",
    "                       'SMOTE_IN_PIPELINE_TEST_SCORE': model_smote_in_pipeline['test_score'],\n",
    "                       'SMOTE_OUTSIDE_PIPELINE_CV_SCORE': model_smote_out_pipeline['cv_score'],\n",
    "                       'SMOTE_OUTSIDE_PIPELINE_TEST_SCORE': model_smote_out_pipeline['test_score']},\n",
    "                      index=[i])\n",
    "    \n",
    "    main_df = pd.concat([main_df, df])\n",
    "    print(i)"
   ]
  },
  {
   "cell_type": "code",
   "execution_count": 41,
   "metadata": {},
   "outputs": [
    {
     "data": {
      "text/html": [
       "<div>\n",
       "<style scoped>\n",
       "    .dataframe tbody tr th:only-of-type {\n",
       "        vertical-align: middle;\n",
       "    }\n",
       "\n",
       "    .dataframe tbody tr th {\n",
       "        vertical-align: top;\n",
       "    }\n",
       "\n",
       "    .dataframe thead th {\n",
       "        text-align: right;\n",
       "    }\n",
       "</style>\n",
       "<table border=\"1\" class=\"dataframe\">\n",
       "  <thead>\n",
       "    <tr style=\"text-align: right;\">\n",
       "      <th></th>\n",
       "      <th>N_SAMPLES</th>\n",
       "      <th>N_FEATURES</th>\n",
       "      <th>N_INFORMATIVE</th>\n",
       "      <th>CLASS_SEP</th>\n",
       "      <th>MINORITY_CLASS_WEIGHT</th>\n",
       "      <th>SMOTE_IN_PIPELINE_CV_SCORE</th>\n",
       "      <th>SMOTE_IN_PIPELINE_TEST_SCORE</th>\n",
       "      <th>SMOTE_OUTSIDE_PIPELINE_CV_SCORE</th>\n",
       "      <th>SMOTE_OUTSIDE_PIPELINE_TEST_SCORE</th>\n",
       "    </tr>\n",
       "  </thead>\n",
       "  <tbody>\n",
       "    <tr>\n",
       "      <th>0</th>\n",
       "      <td>12732</td>\n",
       "      <td>35</td>\n",
       "      <td>32</td>\n",
       "      <td>0.737706</td>\n",
       "      <td>0.264486</td>\n",
       "      <td>0.804186</td>\n",
       "      <td>0.799701</td>\n",
       "      <td>0.817712</td>\n",
       "      <td>0.799536</td>\n",
       "    </tr>\n",
       "    <tr>\n",
       "      <th>1</th>\n",
       "      <td>43003</td>\n",
       "      <td>32</td>\n",
       "      <td>30</td>\n",
       "      <td>0.400046</td>\n",
       "      <td>0.125583</td>\n",
       "      <td>0.691067</td>\n",
       "      <td>0.694740</td>\n",
       "      <td>0.708868</td>\n",
       "      <td>0.694715</td>\n",
       "    </tr>\n",
       "    <tr>\n",
       "      <th>2</th>\n",
       "      <td>33720</td>\n",
       "      <td>35</td>\n",
       "      <td>32</td>\n",
       "      <td>0.772616</td>\n",
       "      <td>0.286933</td>\n",
       "      <td>0.841677</td>\n",
       "      <td>0.849414</td>\n",
       "      <td>0.854466</td>\n",
       "      <td>0.849486</td>\n",
       "    </tr>\n",
       "    <tr>\n",
       "      <th>3</th>\n",
       "      <td>15994</td>\n",
       "      <td>23</td>\n",
       "      <td>21</td>\n",
       "      <td>0.448531</td>\n",
       "      <td>0.192328</td>\n",
       "      <td>0.693345</td>\n",
       "      <td>0.698883</td>\n",
       "      <td>0.710698</td>\n",
       "      <td>0.698962</td>\n",
       "    </tr>\n",
       "    <tr>\n",
       "      <th>4</th>\n",
       "      <td>27530</td>\n",
       "      <td>34</td>\n",
       "      <td>31</td>\n",
       "      <td>0.789074</td>\n",
       "      <td>0.228704</td>\n",
       "      <td>0.845102</td>\n",
       "      <td>0.850348</td>\n",
       "      <td>0.861404</td>\n",
       "      <td>0.850043</td>\n",
       "    </tr>\n",
       "    <tr>\n",
       "      <th>5</th>\n",
       "      <td>45683</td>\n",
       "      <td>34</td>\n",
       "      <td>31</td>\n",
       "      <td>0.482688</td>\n",
       "      <td>0.279653</td>\n",
       "      <td>0.716573</td>\n",
       "      <td>0.717216</td>\n",
       "      <td>0.729643</td>\n",
       "      <td>0.717216</td>\n",
       "    </tr>\n",
       "    <tr>\n",
       "      <th>6</th>\n",
       "      <td>41626</td>\n",
       "      <td>29</td>\n",
       "      <td>27</td>\n",
       "      <td>0.728492</td>\n",
       "      <td>0.060424</td>\n",
       "      <td>0.846904</td>\n",
       "      <td>0.842133</td>\n",
       "      <td>0.869467</td>\n",
       "      <td>0.842085</td>\n",
       "    </tr>\n",
       "    <tr>\n",
       "      <th>7</th>\n",
       "      <td>20742</td>\n",
       "      <td>23</td>\n",
       "      <td>21</td>\n",
       "      <td>0.523205</td>\n",
       "      <td>0.115968</td>\n",
       "      <td>0.767139</td>\n",
       "      <td>0.756672</td>\n",
       "      <td>0.790411</td>\n",
       "      <td>0.756637</td>\n",
       "    </tr>\n",
       "    <tr>\n",
       "      <th>8</th>\n",
       "      <td>14547</td>\n",
       "      <td>37</td>\n",
       "      <td>34</td>\n",
       "      <td>0.747678</td>\n",
       "      <td>0.182714</td>\n",
       "      <td>0.891236</td>\n",
       "      <td>0.890141</td>\n",
       "      <td>0.907261</td>\n",
       "      <td>0.890141</td>\n",
       "    </tr>\n",
       "    <tr>\n",
       "      <th>9</th>\n",
       "      <td>30828</td>\n",
       "      <td>21</td>\n",
       "      <td>17</td>\n",
       "      <td>0.750888</td>\n",
       "      <td>0.084382</td>\n",
       "      <td>0.839469</td>\n",
       "      <td>0.841249</td>\n",
       "      <td>0.854520</td>\n",
       "      <td>0.841249</td>\n",
       "    </tr>\n",
       "  </tbody>\n",
       "</table>\n",
       "</div>"
      ],
      "text/plain": [
       "   N_SAMPLES  N_FEATURES  N_INFORMATIVE  CLASS_SEP  MINORITY_CLASS_WEIGHT  \\\n",
       "0      12732          35             32   0.737706               0.264486   \n",
       "1      43003          32             30   0.400046               0.125583   \n",
       "2      33720          35             32   0.772616               0.286933   \n",
       "3      15994          23             21   0.448531               0.192328   \n",
       "4      27530          34             31   0.789074               0.228704   \n",
       "5      45683          34             31   0.482688               0.279653   \n",
       "6      41626          29             27   0.728492               0.060424   \n",
       "7      20742          23             21   0.523205               0.115968   \n",
       "8      14547          37             34   0.747678               0.182714   \n",
       "9      30828          21             17   0.750888               0.084382   \n",
       "\n",
       "   SMOTE_IN_PIPELINE_CV_SCORE  SMOTE_IN_PIPELINE_TEST_SCORE  \\\n",
       "0                    0.804186                      0.799701   \n",
       "1                    0.691067                      0.694740   \n",
       "2                    0.841677                      0.849414   \n",
       "3                    0.693345                      0.698883   \n",
       "4                    0.845102                      0.850348   \n",
       "5                    0.716573                      0.717216   \n",
       "6                    0.846904                      0.842133   \n",
       "7                    0.767139                      0.756672   \n",
       "8                    0.891236                      0.890141   \n",
       "9                    0.839469                      0.841249   \n",
       "\n",
       "   SMOTE_OUTSIDE_PIPELINE_CV_SCORE  SMOTE_OUTSIDE_PIPELINE_TEST_SCORE  \n",
       "0                         0.817712                           0.799536  \n",
       "1                         0.708868                           0.694715  \n",
       "2                         0.854466                           0.849486  \n",
       "3                         0.710698                           0.698962  \n",
       "4                         0.861404                           0.850043  \n",
       "5                         0.729643                           0.717216  \n",
       "6                         0.869467                           0.842085  \n",
       "7                         0.790411                           0.756637  \n",
       "8                         0.907261                           0.890141  \n",
       "9                         0.854520                           0.841249  "
      ]
     },
     "metadata": {},
     "output_type": "display_data"
    }
   ],
   "source": [
    "display(main_df)"
   ]
  }
 ],
 "metadata": {
  "kernelspec": {
   "display_name": "base",
   "language": "python",
   "name": "python3"
  },
  "language_info": {
   "codemirror_mode": {
    "name": "ipython",
    "version": 3
   },
   "file_extension": ".py",
   "mimetype": "text/x-python",
   "name": "python",
   "nbconvert_exporter": "python",
   "pygments_lexer": "ipython3",
   "version": "3.10.9"
  }
 },
 "nbformat": 4,
 "nbformat_minor": 2
}
