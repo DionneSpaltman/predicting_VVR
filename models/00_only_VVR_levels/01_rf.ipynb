{
 "cells": [
  {
   "cell_type": "markdown",
   "metadata": {},
   "source": [
    "# Random Forest running with only VVR_1 and VVR_2"
   ]
  },
  {
   "cell_type": "markdown",
   "metadata": {},
   "source": [
    "Import libraries. "
   ]
  },
  {
   "cell_type": "code",
   "execution_count": 2,
   "metadata": {},
   "outputs": [],
   "source": [
    "import pandas as pd\n",
    "from sklearn.metrics import auc, precision_recall_curve, confusion_matrix\n",
    "from sklearn.metrics import classification_report\n",
    "from sklearn.metrics import precision_recall_curve, auc\n",
    "from sklearn.metrics import confusion_matrix "
   ]
  },
  {
   "cell_type": "markdown",
   "metadata": {},
   "source": [
    "# Import data "
   ]
  },
  {
   "cell_type": "code",
   "execution_count": 3,
   "metadata": {},
   "outputs": [],
   "source": [
    "# Load the data into pandas dataframes\n",
    "X_train = pd.read_csv('/Users/dionnespaltman/Desktop/V6/data_04-06-2024/X_train_12.csv')\n",
    "y_train = pd.read_csv('/Users/dionnespaltman/Desktop/V6/data_04-06-2024/y_train_12.csv')\n",
    "X_test = pd.read_csv('/Users/dionnespaltman/Desktop/V6/data_04-06-2024/X_test_12.csv')\n",
    "y_test = pd.read_csv('/Users/dionnespaltman/Desktop/V6/data_04-06-2024/y_test.csv')\n",
    "\n",
    "# Drop unnamed columns \n",
    "X_train = X_train.drop(columns='Unnamed: 0', axis=1)\n",
    "y_train = y_train.drop(columns='Unnamed: 0', axis=1)\n",
    "X_test = X_test.drop(columns='Unnamed: 0', axis=1)\n",
    "y_test = y_test.drop(columns='Unnamed: 0', axis=1)\n",
    "\n",
    "# print(X_train.columns)\n",
    "# print(X_test.columns)\n",
    "\n",
    "# Convert the DataFrame to a 1-dimensional NumPy array\n",
    "y_train= y_train.values.ravel()\n",
    "y_test = y_test.values.ravel()"
   ]
  },
  {
   "cell_type": "code",
   "execution_count": 5,
   "metadata": {},
   "outputs": [
    {
     "name": "stdout",
     "output_type": "stream",
     "text": [
      "X_train:\n"
     ]
    },
    {
     "data": {
      "text/html": [
       "<div>\n",
       "<style scoped>\n",
       "    .dataframe tbody tr th:only-of-type {\n",
       "        vertical-align: middle;\n",
       "    }\n",
       "\n",
       "    .dataframe tbody tr th {\n",
       "        vertical-align: top;\n",
       "    }\n",
       "\n",
       "    .dataframe thead th {\n",
       "        text-align: right;\n",
       "    }\n",
       "</style>\n",
       "<table border=\"1\" class=\"dataframe\">\n",
       "  <thead>\n",
       "    <tr style=\"text-align: right;\">\n",
       "      <th></th>\n",
       "      <th>Sum_1</th>\n",
       "      <th>Sum_2</th>\n",
       "    </tr>\n",
       "  </thead>\n",
       "  <tbody>\n",
       "    <tr>\n",
       "      <th>0</th>\n",
       "      <td>12.0</td>\n",
       "      <td>13.0</td>\n",
       "    </tr>\n",
       "    <tr>\n",
       "      <th>1</th>\n",
       "      <td>17.0</td>\n",
       "      <td>16.0</td>\n",
       "    </tr>\n",
       "    <tr>\n",
       "      <th>2</th>\n",
       "      <td>16.0</td>\n",
       "      <td>12.0</td>\n",
       "    </tr>\n",
       "    <tr>\n",
       "      <th>3</th>\n",
       "      <td>8.0</td>\n",
       "      <td>8.0</td>\n",
       "    </tr>\n",
       "    <tr>\n",
       "      <th>4</th>\n",
       "      <td>9.0</td>\n",
       "      <td>8.0</td>\n",
       "    </tr>\n",
       "  </tbody>\n",
       "</table>\n",
       "</div>"
      ],
      "text/plain": [
       "   Sum_1  Sum_2\n",
       "0   12.0   13.0\n",
       "1   17.0   16.0\n",
       "2   16.0   12.0\n",
       "3    8.0    8.0\n",
       "4    9.0    8.0"
      ]
     },
     "metadata": {},
     "output_type": "display_data"
    },
    {
     "name": "stdout",
     "output_type": "stream",
     "text": [
      "\n",
      "X_test:\n"
     ]
    },
    {
     "data": {
      "text/html": [
       "<div>\n",
       "<style scoped>\n",
       "    .dataframe tbody tr th:only-of-type {\n",
       "        vertical-align: middle;\n",
       "    }\n",
       "\n",
       "    .dataframe tbody tr th {\n",
       "        vertical-align: top;\n",
       "    }\n",
       "\n",
       "    .dataframe thead th {\n",
       "        text-align: right;\n",
       "    }\n",
       "</style>\n",
       "<table border=\"1\" class=\"dataframe\">\n",
       "  <thead>\n",
       "    <tr style=\"text-align: right;\">\n",
       "      <th></th>\n",
       "      <th>Sum_1</th>\n",
       "      <th>Sum_2</th>\n",
       "    </tr>\n",
       "  </thead>\n",
       "  <tbody>\n",
       "    <tr>\n",
       "      <th>0</th>\n",
       "      <td>9.0</td>\n",
       "      <td>11.0</td>\n",
       "    </tr>\n",
       "    <tr>\n",
       "      <th>1</th>\n",
       "      <td>11.0</td>\n",
       "      <td>10.0</td>\n",
       "    </tr>\n",
       "    <tr>\n",
       "      <th>2</th>\n",
       "      <td>11.0</td>\n",
       "      <td>10.0</td>\n",
       "    </tr>\n",
       "    <tr>\n",
       "      <th>3</th>\n",
       "      <td>8.0</td>\n",
       "      <td>8.0</td>\n",
       "    </tr>\n",
       "    <tr>\n",
       "      <th>4</th>\n",
       "      <td>8.0</td>\n",
       "      <td>8.0</td>\n",
       "    </tr>\n",
       "  </tbody>\n",
       "</table>\n",
       "</div>"
      ],
      "text/plain": [
       "   Sum_1  Sum_2\n",
       "0    9.0   11.0\n",
       "1   11.0   10.0\n",
       "2   11.0   10.0\n",
       "3    8.0    8.0\n",
       "4    8.0    8.0"
      ]
     },
     "metadata": {},
     "output_type": "display_data"
    }
   ],
   "source": [
    "# Display the first few rows of each dataframe to verify the loading\n",
    "print(\"X_train:\")\n",
    "display(X_train.head())\n",
    "\n",
    "print(\"\\nX_test:\")\n",
    "display(X_test.head())"
   ]
  },
  {
   "cell_type": "markdown",
   "metadata": {},
   "source": [
    "# Model with inner and outer split\n",
    "https://scikit-learn.org/stable/auto_examples/model_selection/plot_nested_cross_validation_iris.html  "
   ]
  },
  {
   "cell_type": "code",
   "execution_count": null,
   "metadata": {},
   "outputs": [
    {
     "name": "stdout",
     "output_type": "stream",
     "text": [
      "The mean score using nested cross-validation is: 0.699 ± 0.104\n",
      "(77, 2)\n",
      "(77,)\n",
      "{'m__class_weight': None, 'm__max_depth': None, 'm__n_estimators': 100, 's__n_features_to_select': 5}\n",
      "(34,)\n",
      "(34,)\n",
      "\n",
      "Classification Report on Test Set:\n",
      "              precision    recall  f1-score   support\n",
      "\n",
      "           0       0.78      0.91      0.84        23\n",
      "           1       0.71      0.45      0.56        11\n",
      "\n",
      "    accuracy                           0.76        34\n",
      "   macro avg       0.75      0.68      0.70        34\n",
      "weighted avg       0.76      0.76      0.75        34\n",
      "\n",
      "[[21  2]\n",
      " [ 6  5]]\n",
      "AUC-PR: 0.601\n"
     ]
    }
   ],
   "source": [
    "from sklearn.model_selection import cross_val_score, KFold, GridSearchCV\n",
    "from sklearn.pipeline import Pipeline\n",
    "from sklearn.feature_selection import RFE\n",
    "from sklearn.tree import DecisionTreeClassifier\n",
    "from sklearn.ensemble import RandomForestClassifier\n",
    "\n",
    "# Declare the inner and outer cross-validation strategies\n",
    "inner_cv = KFold(n_splits=5, shuffle=True, random_state=0)\n",
    "outer_cv = KFold(n_splits=3, shuffle=True, random_state=0)\n",
    "\n",
    "# Create the pipeline with RFE and the model\n",
    "# rfe = RFE(estimator=DecisionTreeClassifier(), n_features_to_select=2)\n",
    "rfe = RFE(estimator=DecisionTreeClassifier())\n",
    "model = RandomForestClassifier()\n",
    "pipeline = Pipeline(steps=[('s', rfe), ('m', model)])\n",
    "\n",
    "param_grid = {\n",
    "    'm__n_estimators': [100, 200, 300],  # Number of trees in the forest\n",
    "    'm__class_weight': [{0: 0.7549019607843137, 1: 1.4807692307692308}, None],  # Class weights\n",
    "    'm__max_depth': [None, 10, 20],  # Maximum depth of the tree\n",
    "    # 's__n_features_to_select': [5, 20]  # Number of features to select with RFE\n",
    "\n",
    "}\n",
    "\n",
    "# Inner cross-validation for parameter search\n",
    "model = GridSearchCV(\n",
    "    estimator=pipeline, param_grid=param_grid, cv=inner_cv, n_jobs=2\n",
    ")\n",
    "\n",
    "# Outer cross-validation to compute the testing score\n",
    "test_score = cross_val_score(model, X_train, y_train, cv=outer_cv, n_jobs=2)\n",
    "print(\n",
    "    \"The mean score using nested cross-validation is: \"\n",
    "    f\"{test_score.mean():.3f} ± {test_score.std():.3f}\"\n",
    ")\n",
    "\n",
    "# Print shape\n",
    "print(X_train.shape)\n",
    "print(y_train.shape)\n",
    "\n",
    "# Fit model to training data to get best parameters\n",
    "model.fit(X_train, y_train)\n",
    "\n",
    "# Print best parameters\n",
    "print(model.best_params_)\n",
    "\n",
    "# Print the features that were selected with RFE\n",
    "\n",
    "# Evaluate on the test set\n",
    "best_model = model.best_estimator_\n",
    "y_pred = best_model.predict(X_test)\n",
    "\n",
    "# Print shape\n",
    "print(y_test.shape)\n",
    "print(y_pred.shape)\n",
    "\n",
    "# Print classification report \n",
    "print(\"\\nClassification Report on Test Set:\")\n",
    "print(classification_report(y_test, y_pred))\n",
    "\n",
    "print(confusion_matrix(y_test, y_pred))\n",
    "\n",
    "# Calculate and print the AUC-PR\n",
    "y_proba = best_model.predict_proba(X_test)[:, 1]  # Get the probabilities for the positive class\n",
    "precision, recall, _ = precision_recall_curve(y_test, y_proba)\n",
    "auc_pr = auc(recall, precision)\n",
    "print(f\"AUC-PR: {auc_pr:.3f}\")\n",
    "\n",
    "# fpr, tpr, thresholds = metrics.roc_curve(y_test, y_pred, pos_label=2)\n",
    "# print(metrics.auc(fpr, tpr))\n"
   ]
  },
  {
   "cell_type": "markdown",
   "metadata": {},
   "source": [
    "# Optimized code "
   ]
  },
  {
   "cell_type": "code",
   "execution_count": 6,
   "metadata": {},
   "outputs": [],
   "source": [
    "import numpy as np\n",
    "import matplotlib.pyplot as plt\n",
    "from sklearn.model_selection import cross_validate, KFold, GridSearchCV\n",
    "from sklearn.pipeline import Pipeline\n",
    "from sklearn.feature_selection import RFE\n",
    "from sklearn.tree import DecisionTreeClassifier\n",
    "from sklearn.ensemble import RandomForestClassifier\n",
    "from sklearn.metrics import classification_report, confusion_matrix, precision_recall_curve, roc_curve, auc"
   ]
  },
  {
   "cell_type": "code",
   "execution_count": 7,
   "metadata": {},
   "outputs": [],
   "source": [
    "def build_pipeline():\n",
    "    \"\"\"Builds the machine learning pipeline with RFE and RandomForestClassifier.\"\"\"\n",
    "    rfe = RFE(estimator=DecisionTreeClassifier(random_state=0))  # Recursive feature elimination with a decision tree\n",
    "    model = RandomForestClassifier(random_state=0)  # Random forest classifier\n",
    "    return Pipeline(steps=[('feature_selection', rfe), ('classifier', model)])  # Pipeline combining feature selection and classification\n",
    "\n",
    "def get_param_grid():\n",
    "    \"\"\"Returns the hyperparameter grid for GridSearchCV.\"\"\"\n",
    "    return {\n",
    "        'classifier__n_estimators': [100, 200, 300],  # Number of trees in the forest\n",
    "        'classifier__class_weight': [{0: 0.75, 1: 1.48}, None],  # Class weights\n",
    "        'classifier__max_depth': [None, 10, 20],  # Maximum depth of the tree\n",
    "        # 'feature_selection__n_features_to_select': [5, 10, 20, 40, 80]  # Number of features to select with RFE\n",
    "    }\n",
    "\n",
    "def perform_nested_cv(X, y, random_state=0):\n",
    "    \"\"\"Performs nested cross-validation and returns the test scores.\"\"\"\n",
    "    # Define the inner and outer cross-validation strategies\n",
    "    inner_cv = KFold(n_splits=5, shuffle=True, random_state=random_state)\n",
    "    outer_cv = KFold(n_splits=3, shuffle=True, random_state=random_state)\n",
    "    \n",
    "    pipeline = build_pipeline()  # Build the pipeline\n",
    "    param_grid = get_param_grid()  # Get the hyperparameter grid\n",
    "    \n",
    "    # Perform grid search with cross-validation\n",
    "    grid_search = GridSearchCV(estimator=pipeline, param_grid=param_grid, cv=inner_cv, n_jobs=2)\n",
    "    # Perform nested cross-validation\n",
    "    cv_results = cross_validate(grid_search, X, y, cv=outer_cv, n_jobs=2, return_estimator=True, return_train_score=True)\n",
    "    \n",
    "    test_scores = cv_results['test_score']  # Extract test scores\n",
    "    test_score_mean = test_scores.mean()  # Calculate mean test score\n",
    "    test_score_std = test_scores.std()  # Calculate standard deviation of test scores\n",
    "    \n",
    "    print(f\"Test scores for each fold: {test_scores}\")\n",
    "    \n",
    "    for idx, score in enumerate(test_scores):\n",
    "        print(f\"Fold {idx + 1} score: {score:.3f}, SD: {test_score_std:.3f}\")  # Print score and SD for each fold\n",
    "    \n",
    "    print(f\"The mean score using nested cross-validation is: {test_score_mean:.3f} ± {test_score_std:.3f}\")\n",
    "    \n",
    "    # Print the best parameters for each fold\n",
    "    for idx, result in enumerate(cv_results['estimator']):\n",
    "        print(f\"Fold {idx + 1} best parameters: {result.best_params_}\")\n",
    "    \n",
    "    return cv_results\n",
    "\n",
    "def plot_curves(y_test, y_proba, y_pred):\n",
    "    \"\"\"Plots PR and ROC curves.\"\"\"\n",
    "    # Plot Precision-Recall curve\n",
    "    precision, recall, _ = precision_recall_curve(y_test, y_proba)\n",
    "    auc_pr = auc(recall, precision)\n",
    "    plt.figure()\n",
    "    plt.plot(recall, precision, label=f'Precision-Recall curve (AUC = {auc_pr:.3f})')\n",
    "    plt.xlabel('Recall')\n",
    "    plt.ylabel('Precision')\n",
    "    plt.title('Precision-Recall Curve')\n",
    "    plt.legend(loc='best')\n",
    "    plt.show()\n",
    "\n",
    "    # Plot ROC curve\n",
    "    fpr, tpr, _ = roc_curve(y_test, y_proba)\n",
    "    auc_roc = auc(fpr, tpr)\n",
    "    plt.figure()\n",
    "    plt.plot(fpr, tpr, label=f'ROC curve (AUC = {auc_roc:.3f})')\n",
    "    plt.xlabel('False Positive Rate')\n",
    "    plt.ylabel('True Positive Rate')\n",
    "    plt.title('ROC Curve')\n",
    "    plt.legend(loc='best')\n",
    "    plt.show()\n",
    "\n",
    "def evaluate_model(cv_results, X_train, y_train, X_test, y_test):\n",
    "    \"\"\"Evaluates the model on the test set.\"\"\"\n",
    "    best_estimator_per_fold = [result.best_estimator_ for result in cv_results['estimator']]  # Get best estimator for each fold\n",
    "    \n",
    "    # Evaluate the best model on the test set\n",
    "    best_model = best_estimator_per_fold[np.argmax(cv_results['test_score'])]  # Select the best model based on test scores\n",
    "    \n",
    "    print(\"\\nEvaluating best model on test set\")\n",
    "    y_test_pred = best_model.predict(X_test)  # Predict on the test set\n",
    "    \n",
    "    print(\"\\nClassification Report on Test Set:\")\n",
    "    print(classification_report(y_test, y_test_pred))  # Print classification report\n",
    "    print(confusion_matrix(y_test, y_test_pred))  # Print confusion matrix\n",
    "    \n",
    "    y_test_proba = best_model.predict_proba(X_test)[:, 1]  # Get prediction probabilities\n",
    "    plot_curves(y_test, y_test_proba, y_test_pred)  # Plot PR and ROC curves\n",
    "    \n",
    "    precision, recall, _ = precision_recall_curve(y_test, y_test_proba)\n",
    "    auc_pr = auc(recall, precision)\n",
    "    print(f\"Test AUC-PR: {auc_pr:.3f}\")  # Print AUC-PR score\n",
    "\n",
    "    return y_test_pred"
   ]
  },
  {
   "cell_type": "code",
   "execution_count": 8,
   "metadata": {},
   "outputs": [
    {
     "name": "stdout",
     "output_type": "stream",
     "text": [
      "Test scores for each fold: [0.65384615 0.65384615 0.76      ]\n",
      "Fold 1 score: 0.654, SD: 0.050\n",
      "Fold 2 score: 0.654, SD: 0.050\n",
      "Fold 3 score: 0.760, SD: 0.050\n",
      "The mean score using nested cross-validation is: 0.689 ± 0.050\n",
      "Fold 1 best parameters: {'classifier__class_weight': None, 'classifier__max_depth': None, 'classifier__n_estimators': 200}\n",
      "Fold 2 best parameters: {'classifier__class_weight': None, 'classifier__max_depth': None, 'classifier__n_estimators': 100}\n",
      "Fold 3 best parameters: {'classifier__class_weight': None, 'classifier__max_depth': None, 'classifier__n_estimators': 200}\n",
      "\n",
      "Evaluating best model on test set\n",
      "\n",
      "Classification Report on Test Set:\n",
      "              precision    recall  f1-score   support\n",
      "\n",
      "           0       0.73      0.96      0.83        23\n",
      "           1       0.75      0.27      0.40        11\n",
      "\n",
      "    accuracy                           0.74        34\n",
      "   macro avg       0.74      0.61      0.62        34\n",
      "weighted avg       0.74      0.74      0.69        34\n",
      "\n",
      "[[22  1]\n",
      " [ 8  3]]\n"
     ]
    },
    {
     "data": {
      "image/png": "[encoded data removed]",
      "text/plain": [
       "<Figure size 640x480 with 1 Axes>"
      ]
     },
     "metadata": {},
     "output_type": "display_data"
    },
    {
     "data": {
      "image/png": "[encoded data removed]",
      "text/plain": [
       "<Figure size 640x480 with 1 Axes>"
      ]
     },
     "metadata": {},
     "output_type": "display_data"
    },
    {
     "name": "stdout",
     "output_type": "stream",
     "text": [
      "Test AUC-PR: 0.584\n"
     ]
    }
   ],
   "source": [
    "random_seed = 42\n",
    "\n",
    "cv_results = perform_nested_cv(X_train, y_train, random_state=random_seed)  # Perform nested cross-validation\n",
    "y_test_pred = evaluate_model(cv_results, X_train, y_train, X_test, y_test)  # Evaluate the model on the test set"
   ]
  },
  {
   "cell_type": "markdown",
   "metadata": {},
   "source": [
    "# Confusion matrix "
   ]
  },
  {
   "cell_type": "code",
   "execution_count": 10,
   "metadata": {},
   "outputs": [
    {
     "name": "stderr",
     "output_type": "stream",
     "text": [
      "/var/folders/_4/nzq6mygj7j71_l3z_c9kc7wr0000gn/T/ipykernel_19470/4228209234.py:12: MatplotlibDeprecationWarning: The seaborn styles shipped by Matplotlib are deprecated since 3.6, as they no longer correspond to the styles shipped by seaborn. However, they will remain available as 'seaborn-v0_8-<style>'. Alternatively, directly use the seaborn API instead.\n",
      "  plt.style.use('seaborn-darkgrid')\n"
     ]
    },
    {
     "data": {
      "image/png": "[encoded data removed]",
      "text/plain": [
       "<Figure size 800x600 with 1 Axes>"
      ]
     },
     "metadata": {},
     "output_type": "display_data"
    }
   ],
   "source": [
    "import matplotlib.pyplot as plt\n",
    "from sklearn.metrics import confusion_matrix\n",
    "import seaborn as sns\n",
    "\n",
    "font = 'Times New Roman'\n",
    "size = 18\n",
    "\n",
    "# Calculate confusion matrix\n",
    "conf_matrix = confusion_matrix(y_test, y_test_pred)\n",
    "\n",
    "# Set the style to a modern style\n",
    "plt.style.use('seaborn-darkgrid')\n",
    "\n",
    "# Create a custom diverging color map\n",
    "colors = sns.color_palette(\"Blues\", as_cmap=True)\n",
    "\n",
    "# Plot confusion matrix\n",
    "plt.figure(figsize=(8, 6))\n",
    "sns.heatmap(conf_matrix, annot=True, fmt='d', cmap=colors, cbar=False,\n",
    "            annot_kws={'fontname': font, 'fontsize': size})  # Set font and size for numbers\n",
    "plt.title('Random Forest - Self-reported VVR levels', fontname=font, fontsize=size)\n",
    "plt.xlabel('Predicted', fontname=font, fontsize=size)\n",
    "plt.ylabel('Actual', fontname=font, fontsize=size)\n",
    "\n",
    "plt.show()"
   ]
  }
 ],
 "metadata": {
  "kernelspec": {
   "display_name": "base",
   "language": "python",
   "name": "python3"
  },
  "language_info": {
   "codemirror_mode": {
    "name": "ipython",
    "version": 3
   },
   "file_extension": ".py",
   "mimetype": "text/x-python",
   "name": "python",
   "nbconvert_exporter": "python",
   "pygments_lexer": "ipython3",
   "version": "3.10.9"
  }
 },
 "nbformat": 4,
 "nbformat_minor": 2
}
