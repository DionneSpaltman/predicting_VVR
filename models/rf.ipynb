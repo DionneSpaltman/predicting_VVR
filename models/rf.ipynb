{
 "cells": [
  {
   "cell_type": "markdown",
   "metadata": {},
   "source": [
    "# Random forest "
   ]
  },
  {
   "cell_type": "code",
   "execution_count": 51,
   "metadata": {},
   "outputs": [],
   "source": [
    "# Import necessary libraries\n",
    "import json\n",
    "import numpy as np\n",
    "from sklearn.metrics import precision_score, recall_score, f1_score, auc, precision_recall_curve, confusion_matrix\n",
    "import pandas as pd\n",
    "import logging\n",
    "from sklearn.model_selection import train_test_split\n",
    "from sklearn.compose import ColumnTransformer\n",
    "from sklearn.pipeline import make_pipeline\n",
    "from sklearn.preprocessing import StandardScaler\n",
    "from sklearn.ensemble import RandomForestClassifier\n",
    "from sklearn.metrics import accuracy_score, classification_report\n",
    "from sklearn.metrics import precision_recall_curve, auc\n",
    "from sklearn.metrics import confusion_matrix as cm\n",
    "from collections import Counter\n",
    "from sklearn.datasets import make_classification\n",
    "from imblearn.over_sampling import SMOTE"
   ]
  },
  {
   "cell_type": "code",
   "execution_count": 52,
   "metadata": {},
   "outputs": [
    {
     "data": {
      "text/html": [
       "<div>\n",
       "<style scoped>\n",
       "    .dataframe tbody tr th:only-of-type {\n",
       "        vertical-align: middle;\n",
       "    }\n",
       "\n",
       "    .dataframe tbody tr th {\n",
       "        vertical-align: top;\n",
       "    }\n",
       "\n",
       "    .dataframe thead th {\n",
       "        text-align: right;\n",
       "    }\n",
       "</style>\n",
       "<table border=\"1\" class=\"dataframe\">\n",
       "  <thead>\n",
       "    <tr style=\"text-align: right;\">\n",
       "      <th></th>\n",
       "      <th>ID</th>\n",
       "      <th>sum_12</th>\n",
       "      <th>sum_4567</th>\n",
       "      <th>sum_456</th>\n",
       "      <th>VVR_group</th>\n",
       "      <th>Condition</th>\n",
       "      <th>VVR_1</th>\n",
       "      <th>VVR_2</th>\n",
       "      <th>AU01_r__sum_values</th>\n",
       "      <th>AU01_r__variance</th>\n",
       "      <th>...</th>\n",
       "      <th>AU26_r__minimum</th>\n",
       "      <th>AU26_r__mean</th>\n",
       "      <th>AU26_r__mean_abs_change</th>\n",
       "      <th>AU45_r__sum_values</th>\n",
       "      <th>AU45_r__variance</th>\n",
       "      <th>AU45_r__standard_deviation</th>\n",
       "      <th>AU45_r__maximum</th>\n",
       "      <th>AU45_r__minimum</th>\n",
       "      <th>AU45_r__mean</th>\n",
       "      <th>AU45_r__mean_abs_change</th>\n",
       "    </tr>\n",
       "  </thead>\n",
       "  <tbody>\n",
       "    <tr>\n",
       "      <th>0</th>\n",
       "      <td>23</td>\n",
       "      <td>24.0</td>\n",
       "      <td>37.0</td>\n",
       "      <td>27.0</td>\n",
       "      <td>0</td>\n",
       "      <td>2</td>\n",
       "      <td>13.0</td>\n",
       "      <td>11.0</td>\n",
       "      <td>4982.48</td>\n",
       "      <td>0.425041</td>\n",
       "      <td>...</td>\n",
       "      <td>0.00</td>\n",
       "      <td>0.633284</td>\n",
       "      <td>0.076328</td>\n",
       "      <td>9231.74</td>\n",
       "      <td>0.825039</td>\n",
       "      <td>0.908316</td>\n",
       "      <td>4.91</td>\n",
       "      <td>0.00</td>\n",
       "      <td>0.627753</td>\n",
       "      <td>0.133624</td>\n",
       "    </tr>\n",
       "    <tr>\n",
       "      <th>1</th>\n",
       "      <td>24</td>\n",
       "      <td>23.0</td>\n",
       "      <td>37.0</td>\n",
       "      <td>28.0</td>\n",
       "      <td>0</td>\n",
       "      <td>2</td>\n",
       "      <td>12.0</td>\n",
       "      <td>11.0</td>\n",
       "      <td>9390.23</td>\n",
       "      <td>0.448366</td>\n",
       "      <td>...</td>\n",
       "      <td>0.00</td>\n",
       "      <td>1.484701</td>\n",
       "      <td>0.125851</td>\n",
       "      <td>11887.00</td>\n",
       "      <td>0.634554</td>\n",
       "      <td>0.796589</td>\n",
       "      <td>5.00</td>\n",
       "      <td>0.00</td>\n",
       "      <td>0.436942</td>\n",
       "      <td>0.098134</td>\n",
       "    </tr>\n",
       "    <tr>\n",
       "      <th>2</th>\n",
       "      <td>25</td>\n",
       "      <td>28.0</td>\n",
       "      <td>44.0</td>\n",
       "      <td>33.0</td>\n",
       "      <td>1</td>\n",
       "      <td>2</td>\n",
       "      <td>16.0</td>\n",
       "      <td>12.0</td>\n",
       "      <td>6954.35</td>\n",
       "      <td>0.599805</td>\n",
       "      <td>...</td>\n",
       "      <td>0.00</td>\n",
       "      <td>0.862301</td>\n",
       "      <td>0.101969</td>\n",
       "      <td>9020.78</td>\n",
       "      <td>0.750701</td>\n",
       "      <td>0.866430</td>\n",
       "      <td>4.04</td>\n",
       "      <td>0.00</td>\n",
       "      <td>0.550652</td>\n",
       "      <td>0.085720</td>\n",
       "    </tr>\n",
       "    <tr>\n",
       "      <th>3</th>\n",
       "      <td>26</td>\n",
       "      <td>30.0</td>\n",
       "      <td>37.0</td>\n",
       "      <td>29.0</td>\n",
       "      <td>0</td>\n",
       "      <td>1</td>\n",
       "      <td>15.0</td>\n",
       "      <td>15.0</td>\n",
       "      <td>9707.43</td>\n",
       "      <td>0.873280</td>\n",
       "      <td>...</td>\n",
       "      <td>0.00</td>\n",
       "      <td>0.552359</td>\n",
       "      <td>0.069582</td>\n",
       "      <td>6585.31</td>\n",
       "      <td>0.609348</td>\n",
       "      <td>0.780607</td>\n",
       "      <td>4.90</td>\n",
       "      <td>0.00</td>\n",
       "      <td>0.371673</td>\n",
       "      <td>0.056287</td>\n",
       "    </tr>\n",
       "    <tr>\n",
       "      <th>4</th>\n",
       "      <td>27</td>\n",
       "      <td>22.0</td>\n",
       "      <td>39.0</td>\n",
       "      <td>31.0</td>\n",
       "      <td>1</td>\n",
       "      <td>2</td>\n",
       "      <td>11.0</td>\n",
       "      <td>11.0</td>\n",
       "      <td>21049.90</td>\n",
       "      <td>1.475421</td>\n",
       "      <td>...</td>\n",
       "      <td>-3.92</td>\n",
       "      <td>0.142027</td>\n",
       "      <td>0.386527</td>\n",
       "      <td>23027.73</td>\n",
       "      <td>1.160635</td>\n",
       "      <td>1.077328</td>\n",
       "      <td>5.04</td>\n",
       "      <td>-4.29</td>\n",
       "      <td>1.094318</td>\n",
       "      <td>0.231853</td>\n",
       "    </tr>\n",
       "  </tbody>\n",
       "</table>\n",
       "<p>5 rows × 127 columns</p>\n",
       "</div>"
      ],
      "text/plain": [
       "   ID  sum_12  sum_4567  sum_456  VVR_group  Condition  VVR_1  VVR_2  \\\n",
       "0  23    24.0      37.0     27.0          0          2   13.0   11.0   \n",
       "1  24    23.0      37.0     28.0          0          2   12.0   11.0   \n",
       "2  25    28.0      44.0     33.0          1          2   16.0   12.0   \n",
       "3  26    30.0      37.0     29.0          0          1   15.0   15.0   \n",
       "4  27    22.0      39.0     31.0          1          2   11.0   11.0   \n",
       "\n",
       "   AU01_r__sum_values  AU01_r__variance  ...  AU26_r__minimum  AU26_r__mean  \\\n",
       "0             4982.48          0.425041  ...             0.00      0.633284   \n",
       "1             9390.23          0.448366  ...             0.00      1.484701   \n",
       "2             6954.35          0.599805  ...             0.00      0.862301   \n",
       "3             9707.43          0.873280  ...             0.00      0.552359   \n",
       "4            21049.90          1.475421  ...            -3.92      0.142027   \n",
       "\n",
       "   AU26_r__mean_abs_change  AU45_r__sum_values  AU45_r__variance  \\\n",
       "0                 0.076328             9231.74          0.825039   \n",
       "1                 0.125851            11887.00          0.634554   \n",
       "2                 0.101969             9020.78          0.750701   \n",
       "3                 0.069582             6585.31          0.609348   \n",
       "4                 0.386527            23027.73          1.160635   \n",
       "\n",
       "   AU45_r__standard_deviation  AU45_r__maximum  AU45_r__minimum  AU45_r__mean  \\\n",
       "0                    0.908316             4.91             0.00      0.627753   \n",
       "1                    0.796589             5.00             0.00      0.436942   \n",
       "2                    0.866430             4.04             0.00      0.550652   \n",
       "3                    0.780607             4.90             0.00      0.371673   \n",
       "4                    1.077328             5.04            -4.29      1.094318   \n",
       "\n",
       "   AU45_r__mean_abs_change  \n",
       "0                 0.133624  \n",
       "1                 0.098134  \n",
       "2                 0.085720  \n",
       "3                 0.056287  \n",
       "4                 0.231853  \n",
       "\n",
       "[5 rows x 127 columns]"
      ]
     },
     "metadata": {},
     "output_type": "display_data"
    }
   ],
   "source": [
    "merged_df = pd.read_csv('/Users/dionnespaltman/Desktop/V3/merged_df.csv', sep=',')\n",
    "\n",
    "merged_df.drop('Unnamed: 0', axis=1, inplace=True)\n",
    "merged_df.drop('Unnamed: 0.1', axis=1, inplace=True)\n",
    "\n",
    "display(merged_df.head(5))"
   ]
  },
  {
   "cell_type": "code",
   "execution_count": 53,
   "metadata": {},
   "outputs": [
    {
     "name": "stdout",
     "output_type": "stream",
     "text": [
      "Number of instances in VVR_group = 1: 26\n",
      "Number of instances in VVR_group = 0: 85\n"
     ]
    }
   ],
   "source": [
    "# Count the number of instances of people in VVR_group = 1 and VVR_group = 0\n",
    "count_vvr_group = merged_df['VVR_group'].value_counts()\n",
    "\n",
    "# Print the counts\n",
    "print(\"Number of instances in VVR_group = 1:\", count_vvr_group[1])\n",
    "print(\"Number of instances in VVR_group = 0:\", count_vvr_group[0])"
   ]
  },
  {
   "cell_type": "code",
   "execution_count": 54,
   "metadata": {},
   "outputs": [
    {
     "name": "stdout",
     "output_type": "stream",
     "text": [
      "121\n"
     ]
    }
   ],
   "source": [
    "with open('/Users/dionnespaltman/Desktop/V3/columns_au_12.json', 'r') as f:\n",
    "    columns_au_12 = json.load(f)\n",
    "\n",
    "print(len(columns_au_12))\n",
    "# print(columns_au_12)"
   ]
  },
  {
   "cell_type": "code",
   "execution_count": 55,
   "metadata": {},
   "outputs": [
    {
     "name": "stdout",
     "output_type": "stream",
     "text": [
      "119\n"
     ]
    }
   ],
   "source": [
    "with open('/Users/dionnespaltman/Desktop/V3/columns_action_units.json', 'r') as f:\n",
    "    columns_action_units = json.load(f)\n",
    "\n",
    "print(len(columns_action_units))\n",
    "# print(columns_action_units)"
   ]
  },
  {
   "cell_type": "code",
   "execution_count": 56,
   "metadata": {},
   "outputs": [],
   "source": [
    "columns_to_drop = [ 'ID', 'sum_12', 'sum_4567', 'sum_456', 'VVR_group', 'Condition'] "
   ]
  },
  {
   "cell_type": "markdown",
   "metadata": {},
   "source": [
    "First we'll split the data into a train and test set. "
   ]
  },
  {
   "cell_type": "markdown",
   "metadata": {},
   "source": [
    "The train set has 88 participants, the test set has 23 participants. "
   ]
  },
  {
   "cell_type": "code",
   "execution_count": 57,
   "metadata": {},
   "outputs": [
    {
     "name": "stdout",
     "output_type": "stream",
     "text": [
      "(88, 127)\n",
      "(23, 127)\n"
     ]
    }
   ],
   "source": [
    "train, test = train_test_split(merged_df, test_size=0.2, random_state=123)\n",
    "# train, val = train_test_split(train, stratify=train['VVR_group'], random_state=123)\n",
    "\n",
    "print(train.shape)\n",
    "print(test.shape)"
   ]
  },
  {
   "cell_type": "code",
   "execution_count": 68,
   "metadata": {},
   "outputs": [
    {
     "name": "stdout",
     "output_type": "stream",
     "text": [
      "Original dataset shape Counter({0: 19, 1: 4})\n"
     ]
    }
   ],
   "source": [
    "columns_to_drop = [ 'ID', 'sum_12', 'sum_4567', 'sum_456', 'VVR_group', 'Condition'] \n",
    "\n",
    "X_test = test.drop(columns_to_drop, axis=1)\n",
    "y_test = test['VVR_group']\n",
    "\n",
    "# Print original class distribution\n",
    "print('Original dataset shape %s' % Counter(y_test))"
   ]
  },
  {
   "cell_type": "code",
   "execution_count": 58,
   "metadata": {},
   "outputs": [],
   "source": [
    "from collections import Counter\n",
    "from sklearn.datasets import make_classification\n",
    "from imblearn.over_sampling import SMOTE"
   ]
  },
  {
   "cell_type": "code",
   "execution_count": 61,
   "metadata": {},
   "outputs": [
    {
     "name": "stdout",
     "output_type": "stream",
     "text": [
      "Original dataset shape Counter({0: 66, 1: 22})\n",
      "Resampled dataset shape Counter({0: 66, 1: 66})\n",
      "New merged dataset shape: (132, 122)\n"
     ]
    }
   ],
   "source": [
    "columns_to_drop = [ 'ID', 'sum_12', 'sum_4567', 'sum_456', 'VVR_group', 'Condition'] \n",
    "\n",
    "X_train = train.drop(columns_to_drop, axis=1)\n",
    "y_train = train['VVR_group']\n",
    "\n",
    "# Print original class distribution\n",
    "print('Original dataset shape %s' % Counter(y_train))\n",
    "\n",
    "# Apply SMOTE to the training data with sampling strategy set to 'auto' (default)\n",
    "sm = SMOTE(sampling_strategy='not majority', random_state=42, k_neighbors=10)\n",
    "X_resampled, y_resampled = sm.fit_resample(X_train, y_train)\n",
    "\n",
    "# Print resampled class distribution\n",
    "print('Resampled dataset shape %s' % Counter(y_resampled))\n",
    "\n",
    "# Merge resampled features and target variable into a new DataFrame\n",
    "new_merged_df = pd.merge(X_resampled, y_resampled, how='outer', left_index=True, right_index=True)\n",
    "\n",
    "\n",
    "# Check the shape of the new merged DataFrame\n",
    "print('New merged dataset shape:', new_merged_df.shape)"
   ]
  },
  {
   "cell_type": "code",
   "execution_count": 62,
   "metadata": {},
   "outputs": [],
   "source": [
    "featurizer = ColumnTransformer(transformers=[(\"numeric\", StandardScaler(), columns_au_12)], remainder='drop')"
   ]
  },
  {
   "cell_type": "code",
   "execution_count": 67,
   "metadata": {},
   "outputs": [],
   "source": [
    "from sklearn.pipeline import make_pipeline\n",
    "from sklearn.dummy import DummyClassifier\n",
    "from sklearn.ensemble import RandomForestClassifier\n",
    "from sklearn.svm import SVC\n",
    "from xgboost import XGBClassifier\n",
    "from sklearn.neural_network import MLPClassifier\n",
    "from sklearn.tree import DecisionTreeClassifier\n",
    "\n",
    "dummy = make_pipeline(featurizer, DummyClassifier(strategy='most_frequent'))\n",
    "rf = make_pipeline(featurizer, RandomForestClassifier(n_estimators=200, n_jobs=-1, random_state=0))\n",
    "svm = make_pipeline(featurizer, SVC())\n",
    "multiclass_svm = make_pipeline(featurizer, SVC(decision_function_shape='ovr'))\n",
    "xgb = make_pipeline(featurizer, XGBClassifier())\n",
    "mlp = make_pipeline(featurizer, MLPClassifier(hidden_layer_sizes=(100,), max_iter=1000))\n",
    "decision_tree = make_pipeline(featurizer, DecisionTreeClassifier())\n",
    "\n",
    "models = {\n",
    "    \"Dummy\": dummy,\n",
    "    \"RandomForest\": rf,\n",
    "    \"SVM\": svm,\n",
    "    \"Multiclass SVM\": multiclass_svm,\n",
    "    \"XGBoost\": xgb,\n",
    "    \"MLP\": mlp,\n",
    "    \"DecisionTree\": decision_tree\n",
    "}\n"
   ]
  },
  {
   "cell_type": "code",
   "execution_count": 66,
   "metadata": {},
   "outputs": [
    {
     "name": "stderr",
     "output_type": "stream",
     "text": [
      "/Users/dionnespaltman/anaconda3/lib/python3.10/site-packages/sklearn/metrics/_classification.py:1509: UndefinedMetricWarning: Precision is ill-defined and being set to 0.0 in labels with no predicted samples. Use `zero_division` parameter to control this behavior.\n",
      "  _warn_prf(average, modifier, f\"{metric.capitalize()} is\", len(result))\n",
      "/Users/dionnespaltman/anaconda3/lib/python3.10/site-packages/sklearn/metrics/_classification.py:1509: UndefinedMetricWarning: Precision is ill-defined and being set to 0.0 in labels with no predicted samples. Use `zero_division` parameter to control this behavior.\n",
      "  _warn_prf(average, modifier, f\"{metric.capitalize()} is\", len(result))\n",
      "/Users/dionnespaltman/anaconda3/lib/python3.10/site-packages/sklearn/metrics/_classification.py:1509: UndefinedMetricWarning: Precision is ill-defined and being set to 0.0 in labels with no predicted samples. Use `zero_division` parameter to control this behavior.\n",
      "  _warn_prf(average, modifier, f\"{metric.capitalize()} is\", len(result))\n",
      "/Users/dionnespaltman/anaconda3/lib/python3.10/site-packages/sklearn/metrics/_classification.py:1509: UndefinedMetricWarning: Precision is ill-defined and being set to 0.0 in labels with no predicted samples. Use `zero_division` parameter to control this behavior.\n",
      "  _warn_prf(average, modifier, f\"{metric.capitalize()} is\", len(result))\n",
      "/Users/dionnespaltman/anaconda3/lib/python3.10/site-packages/sklearn/metrics/_classification.py:1509: UndefinedMetricWarning: Precision is ill-defined and being set to 0.0 in labels with no predicted samples. Use `zero_division` parameter to control this behavior.\n",
      "  _warn_prf(average, modifier, f\"{metric.capitalize()} is\", len(result))\n",
      "/Users/dionnespaltman/anaconda3/lib/python3.10/site-packages/sklearn/metrics/_classification.py:1509: UndefinedMetricWarning: Precision is ill-defined and being set to 0.0 in labels with no predicted samples. Use `zero_division` parameter to control this behavior.\n",
      "  _warn_prf(average, modifier, f\"{metric.capitalize()} is\", len(result))\n",
      "/Users/dionnespaltman/anaconda3/lib/python3.10/site-packages/sklearn/metrics/_classification.py:1509: UndefinedMetricWarning: Precision is ill-defined and being set to 0.0 in labels with no predicted samples. Use `zero_division` parameter to control this behavior.\n",
      "  _warn_prf(average, modifier, f\"{metric.capitalize()} is\", len(result))\n",
      "/Users/dionnespaltman/anaconda3/lib/python3.10/site-packages/sklearn/metrics/_classification.py:1509: UndefinedMetricWarning: Precision is ill-defined and being set to 0.0 in labels with no predicted samples. Use `zero_division` parameter to control this behavior.\n",
      "  _warn_prf(average, modifier, f\"{metric.capitalize()} is\", len(result))\n",
      "/Users/dionnespaltman/anaconda3/lib/python3.10/site-packages/sklearn/metrics/_classification.py:1509: UndefinedMetricWarning: Precision is ill-defined and being set to 0.0 in labels with no predicted samples. Use `zero_division` parameter to control this behavior.\n",
      "  _warn_prf(average, modifier, f\"{metric.capitalize()} is\", len(result))\n"
     ]
    }
   ],
   "source": [
    "logging.info(\"Fitting models\")\n",
    "\n",
    "for name, model in models.items():\n",
    "    model.fit(train.drop('VVR_group', axis=1), train['VVR_group'].values)\n",
    "    logging.info(f\"Evaluating {name} on validation data\")\n",
    "    pred = model.predict(test.drop('VVR_group', axis=1))\n",
    "    accuracy = accuracy_score(test['VVR_group'].values, pred)\n",
    "    report = classification_report(test['VVR_group'].values, pred)\n",
    "    \n",
    "    # Calculating Precision-Recall curve and its AUC\n",
    "    precision, recall, _ = precision_recall_curve(test['VVR_group'].values, pred)\n",
    "    auc_pr = auc(recall, precision)\n",
    "\n",
    "    logging.info(f\"{name} Accuracy: {accuracy}\")\n",
    "    logging.info(f\"{name} AUC-PR: {auc_pr}\")  # Including AUC-PR in logging\n",
    "    logging.info(f\"{name} Classification Report:\")\n",
    "    logging.info(report)\n",
    "    logging.info(f\"{name} Confusion Matrix:\")\n",
    "    logging.info(cm)\n",
    "\n",
    "best_model_name = max(models, key=lambda x: accuracy_score(test['VVR_group'].values, models[x].predict(test.drop('VVR_group', axis=1))))\n",
    "best_model = models[best_model_name]\n",
    "\n",
    "logging.info(f\"Predicting on test using best model: {best_model_name}\")\n",
    "\n",
    "pred = best_model.predict(test.drop('VVR_group', axis=1))\n",
    "\n",
    "accuracy = accuracy_score(test['VVR_group'].values, pred)\n",
    "report = classification_report(test['VVR_group'].values, pred)\n",
    "cm = confusion_matrix(test['VVR_group'].values, pred)\n",
    "\n",
    "logging.info(f\"{best_model_name} Accuracy on Test Data: {accuracy}\")\n",
    "logging.info(f\"{best_model_name} Classification Report on Test Data:\")\n",
    "logging.info(report)\n",
    "logging.info(f\"{best_model_name} Confusion Matrix:\")\n",
    "logging.info(cm)"
   ]
  }
 ],
 "metadata": {
  "kernelspec": {
   "display_name": "base",
   "language": "python",
   "name": "python3"
  },
  "language_info": {
   "codemirror_mode": {
    "name": "ipython",
    "version": 3
   },
   "file_extension": ".py",
   "mimetype": "text/x-python",
   "name": "python",
   "nbconvert_exporter": "python",
   "pygments_lexer": "ipython3",
   "version": "3.10.9"
  }
 },
 "nbformat": 4,
 "nbformat_minor": 2
}
