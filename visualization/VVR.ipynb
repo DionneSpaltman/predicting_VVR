{
 "cells": [
  {
   "cell_type": "markdown",
   "metadata": {},
   "source": [
    "# Visualization of VVR groups \n",
    "Everything you need to know about matplotlib can be find in its documentation: https://matplotlib.org/stable/"
   ]
  },
  {
   "cell_type": "code",
   "execution_count": 1,
   "metadata": {},
   "outputs": [],
   "source": [
    "%matplotlib inline \n",
    "import numpy\n",
    "import pandas\n",
    "import matplotlib.pyplot as plt"
   ]
  },
  {
   "cell_type": "markdown",
   "metadata": {},
   "source": [
    "## 1st graph \n",
    "- On the y-axis the number of donors.\n",
    "- On the x-axis the VVR during and post donation scores (stages 4, 5, 6, 7). \n",
    "- Bar graph with condition. \n",
    "- Adding a dotted graph where the mean is (mean = 30.515625)\n",
    "\n",
    "Chat GPT input: \n",
    "I have a dataframe called VVR_scores_final. I want to create a bar chart with on x-axis the VVR score (this is the column sum_4567). The x-axis should go from approximately 30 to 100 (so this is the VVR score). The y-axis is the number of donors with a certain score. Then I want to divide the bars into 3 parts, depending on the Condition (1, 2 or 3). It should all be done using matplotlib. "
   ]
  },
  {
   "cell_type": "code",
   "execution_count": 2,
   "metadata": {},
   "outputs": [],
   "source": [
    "clean_donor_info = pandas.read_csv('/Users/dionnespaltman/Desktop/V3/processed_donor_info.csv')\n",
    "VVR_scores_final = pandas.read_csv('/Users/dionnespaltman/Desktop/V3/VVR_scores_final.csv')"
   ]
  },
  {
   "cell_type": "code",
   "execution_count": 6,
   "metadata": {},
   "outputs": [
    {
     "data": {
      "text/html": [
       "<div>\n",
       "<style scoped>\n",
       "    .dataframe tbody tr th:only-of-type {\n",
       "        vertical-align: middle;\n",
       "    }\n",
       "\n",
       "    .dataframe tbody tr th {\n",
       "        vertical-align: top;\n",
       "    }\n",
       "\n",
       "    .dataframe thead th {\n",
       "        text-align: right;\n",
       "    }\n",
       "</style>\n",
       "<table border=\"1\" class=\"dataframe\">\n",
       "  <thead>\n",
       "    <tr style=\"text-align: right;\">\n",
       "      <th></th>\n",
       "      <th>Unnamed: 0.1</th>\n",
       "      <th>Unnamed: 0</th>\n",
       "      <th>ID</th>\n",
       "      <th>sum_12</th>\n",
       "      <th>sum_4567</th>\n",
       "      <th>sum_456</th>\n",
       "      <th>VVR_group</th>\n",
       "      <th>Condition</th>\n",
       "    </tr>\n",
       "  </thead>\n",
       "  <tbody>\n",
       "    <tr>\n",
       "      <th>0</th>\n",
       "      <td>0</td>\n",
       "      <td>0</td>\n",
       "      <td>5</td>\n",
       "      <td>22.0</td>\n",
       "      <td>34.0</td>\n",
       "      <td>26.0</td>\n",
       "      <td>0</td>\n",
       "      <td>1</td>\n",
       "    </tr>\n",
       "    <tr>\n",
       "      <th>1</th>\n",
       "      <td>7</td>\n",
       "      <td>7</td>\n",
       "      <td>6</td>\n",
       "      <td>16.0</td>\n",
       "      <td>32.0</td>\n",
       "      <td>24.0</td>\n",
       "      <td>0</td>\n",
       "      <td>2</td>\n",
       "    </tr>\n",
       "    <tr>\n",
       "      <th>2</th>\n",
       "      <td>14</td>\n",
       "      <td>14</td>\n",
       "      <td>7</td>\n",
       "      <td>23.0</td>\n",
       "      <td>77.0</td>\n",
       "      <td>65.0</td>\n",
       "      <td>1</td>\n",
       "      <td>2</td>\n",
       "    </tr>\n",
       "    <tr>\n",
       "      <th>3</th>\n",
       "      <td>21</td>\n",
       "      <td>21</td>\n",
       "      <td>8</td>\n",
       "      <td>17.0</td>\n",
       "      <td>32.0</td>\n",
       "      <td>24.0</td>\n",
       "      <td>0</td>\n",
       "      <td>1</td>\n",
       "    </tr>\n",
       "    <tr>\n",
       "      <th>4</th>\n",
       "      <td>28</td>\n",
       "      <td>28</td>\n",
       "      <td>9</td>\n",
       "      <td>16.0</td>\n",
       "      <td>32.0</td>\n",
       "      <td>24.0</td>\n",
       "      <td>0</td>\n",
       "      <td>1</td>\n",
       "    </tr>\n",
       "    <tr>\n",
       "      <th>...</th>\n",
       "      <td>...</td>\n",
       "      <td>...</td>\n",
       "      <td>...</td>\n",
       "      <td>...</td>\n",
       "      <td>...</td>\n",
       "      <td>...</td>\n",
       "      <td>...</td>\n",
       "      <td>...</td>\n",
       "    </tr>\n",
       "    <tr>\n",
       "      <th>315</th>\n",
       "      <td>2019</td>\n",
       "      <td>2019</td>\n",
       "      <td>328</td>\n",
       "      <td>20.0</td>\n",
       "      <td>35.0</td>\n",
       "      <td>27.0</td>\n",
       "      <td>0</td>\n",
       "      <td>3</td>\n",
       "    </tr>\n",
       "    <tr>\n",
       "      <th>316</th>\n",
       "      <td>2025</td>\n",
       "      <td>2025</td>\n",
       "      <td>329</td>\n",
       "      <td>18.0</td>\n",
       "      <td>35.0</td>\n",
       "      <td>27.0</td>\n",
       "      <td>0</td>\n",
       "      <td>3</td>\n",
       "    </tr>\n",
       "    <tr>\n",
       "      <th>317</th>\n",
       "      <td>2031</td>\n",
       "      <td>2031</td>\n",
       "      <td>330</td>\n",
       "      <td>23.0</td>\n",
       "      <td>35.0</td>\n",
       "      <td>26.0</td>\n",
       "      <td>0</td>\n",
       "      <td>3</td>\n",
       "    </tr>\n",
       "    <tr>\n",
       "      <th>318</th>\n",
       "      <td>2037</td>\n",
       "      <td>2037</td>\n",
       "      <td>331</td>\n",
       "      <td>28.0</td>\n",
       "      <td>38.0</td>\n",
       "      <td>30.0</td>\n",
       "      <td>0</td>\n",
       "      <td>3</td>\n",
       "    </tr>\n",
       "    <tr>\n",
       "      <th>319</th>\n",
       "      <td>2043</td>\n",
       "      <td>2043</td>\n",
       "      <td>332</td>\n",
       "      <td>30.0</td>\n",
       "      <td>57.0</td>\n",
       "      <td>47.0</td>\n",
       "      <td>1</td>\n",
       "      <td>2</td>\n",
       "    </tr>\n",
       "  </tbody>\n",
       "</table>\n",
       "<p>320 rows × 8 columns</p>\n",
       "</div>"
      ],
      "text/plain": [
       "     Unnamed: 0.1  Unnamed: 0   ID  sum_12  sum_4567  sum_456  VVR_group  \\\n",
       "0               0           0    5    22.0      34.0     26.0          0   \n",
       "1               7           7    6    16.0      32.0     24.0          0   \n",
       "2              14          14    7    23.0      77.0     65.0          1   \n",
       "3              21          21    8    17.0      32.0     24.0          0   \n",
       "4              28          28    9    16.0      32.0     24.0          0   \n",
       "..            ...         ...  ...     ...       ...      ...        ...   \n",
       "315          2019        2019  328    20.0      35.0     27.0          0   \n",
       "316          2025        2025  329    18.0      35.0     27.0          0   \n",
       "317          2031        2031  330    23.0      35.0     26.0          0   \n",
       "318          2037        2037  331    28.0      38.0     30.0          0   \n",
       "319          2043        2043  332    30.0      57.0     47.0          1   \n",
       "\n",
       "     Condition  \n",
       "0            1  \n",
       "1            2  \n",
       "2            2  \n",
       "3            1  \n",
       "4            1  \n",
       "..         ...  \n",
       "315          3  \n",
       "316          3  \n",
       "317          3  \n",
       "318          3  \n",
       "319          2  \n",
       "\n",
       "[320 rows x 8 columns]"
      ]
     },
     "metadata": {},
     "output_type": "display_data"
    }
   ],
   "source": [
    "display(VVR_scores_final)"
   ]
  },
  {
   "cell_type": "code",
   "execution_count": 12,
   "metadata": {},
   "outputs": [
    {
     "name": "stdout",
     "output_type": "stream",
     "text": [
      "Range of 'sum_4567' column:\n",
      "Minimum value: 32.0\n",
      "Maximum value: 82.0\n"
     ]
    }
   ],
   "source": [
    "# Assuming VVR_scores_final is your DataFrame and 'sum_4567' is the column containing VVR sum scores\n",
    "\n",
    "# Calculate the minimum and maximum values of the column\n",
    "min_value = VVR_scores_final['sum_4567'].min()\n",
    "max_value = VVR_scores_final['sum_4567'].max()\n",
    "\n",
    "print(\"Range of 'sum_4567' column:\")\n",
    "print(\"Minimum value:\", min_value)\n",
    "print(\"Maximum value:\", max_value)\n"
   ]
  },
  {
   "cell_type": "code",
   "execution_count": 43,
   "metadata": {},
   "outputs": [
    {
     "name": "stderr",
     "output_type": "stream",
     "text": [
      "/var/folders/_4/nzq6mygj7j71_l3z_c9kc7wr0000gn/T/ipykernel_9418/2545553894.py:5: MatplotlibDeprecationWarning: The seaborn styles shipped by Matplotlib are deprecated since 3.6, as they no longer correspond to the styles shipped by seaborn. However, they will remain available as 'seaborn-v0_8-<style>'. Alternatively, directly use the seaborn API instead.\n",
      "  plt.style.use('seaborn-darkgrid')\n"
     ]
    },
    {
     "data": {
      "image/png": "[encoded data removed]",
      "text/plain": [
       "<Figure size 640x480 with 1 Axes>"
      ]
     },
     "metadata": {},
     "output_type": "display_data"
    }
   ],
   "source": [
    "import matplotlib.pyplot as plt\n",
    "import seaborn as sns\n",
    "\n",
    "# Set the style to a modern style\n",
    "plt.style.use('seaborn-darkgrid')\n",
    "\n",
    "# Assuming VVR_scores_final is your DataFrame and 'sum_4567' is the column containing VVR sum scores\n",
    "\n",
    "# Filter the DataFrame to include only rows with VVR sum scores between 10 and 100\n",
    "filtered_df = VVR_scores_final[(VVR_scores_final['sum_4567'] >= 10) & (VVR_scores_final['sum_4567'] <= 100)]\n",
    "\n",
    "# Create a stacked histogram\n",
    "plt.hist([filtered_df[filtered_df['Condition'] == 1]['sum_4567'],\n",
    "          filtered_df[filtered_df['Condition'] == 2]['sum_4567'],\n",
    "          filtered_df[filtered_df['Condition'] == 3]['sum_4567']],\n",
    "         bins=20, color=['#1f77b4', '#ff7f0e', '#2ca02c'], alpha=0.7, stacked=True,\n",
    "         label=['Control group (experienced donors)',\n",
    "                'Experimental group (sensitive donors)',\n",
    "                'First-time donors'])\n",
    "# Add a vertical dotted line for the mean\n",
    "mean_value = 39.4\n",
    "plt.axvline(x=mean_value, color='red', linestyle='--', label=f'Mean ({mean_value:.2f})')\n",
    "\n",
    "# Set labels and title\n",
    "plt.xlabel('VVR Sum Score', fontsize=14, fontname='Times New Roman')\n",
    "plt.ylabel('Number of Donors', fontsize=14, fontname='Times New Roman')\n",
    "plt.title('Stacked Histogram of VVR Sum Scores by Condition', fontsize=16, fontname='Times New Roman')\n",
    "\n",
    "# Add legend with Times New Roman font\n",
    "plt.legend(prop={'family': 'Times New Roman'})\n",
    "\n",
    "# Remove the top and right spines\n",
    "plt.gca().spines['top'].set_visible(False)\n",
    "plt.gca().spines['right'].set_visible(False)\n",
    "\n",
    "# Increase the font size of ticks\n",
    "plt.xticks(fontsize=12)\n",
    "plt.yticks(fontsize=12)\n",
    "\n",
    "# Show the plot\n",
    "plt.tight_layout()\n",
    "plt.show()\n"
   ]
  },
  {
   "cell_type": "markdown",
   "metadata": {},
   "source": [
    "## 2nd graph \n",
    "- On the x-axis the stage number. There should be 7 box plots. "
   ]
  },
  {
   "cell_type": "code",
   "execution_count": null,
   "metadata": {},
   "outputs": [],
   "source": []
  },
  {
   "cell_type": "markdown",
   "metadata": {},
   "source": [
    "## 3rd graph "
   ]
  },
  {
   "cell_type": "code",
   "execution_count": null,
   "metadata": {},
   "outputs": [],
   "source": []
  }
 ],
 "metadata": {
  "kernelspec": {
   "display_name": "base",
   "language": "python",
   "name": "python3"
  },
  "language_info": {
   "codemirror_mode": {
    "name": "ipython",
    "version": 3
   },
   "file_extension": ".py",
   "mimetype": "text/x-python",
   "name": "python",
   "nbconvert_exporter": "python",
   "pygments_lexer": "ipython3",
   "version": "3.10.9"
  }
 },
 "nbformat": 4,
 "nbformat_minor": 2
}
