{
 "cells": [
  {
   "cell_type": "markdown",
   "metadata": {},
   "source": [
    "# SHAP"
   ]
  },
  {
   "cell_type": "markdown",
   "metadata": {},
   "source": [
    "https://www.kaggle.com/code/ritzig/classification-feature-selection-shap-tutorial "
   ]
  },
  {
   "cell_type": "code",
   "execution_count": 1,
   "metadata": {},
   "outputs": [],
   "source": [
    "import pandas as pd\n",
    "import os\n",
    "import numpy as np \n",
    "\n",
    "import matplotlib.pyplot as plt\n",
    "import seaborn as sns\n",
    "sns.set(rc={'figure.figsize':(15,5)})\n",
    "plt.style.use('fivethirtyeight')\n",
    "\n",
    "from sklearn.feature_selection import SelectFromModel\n",
    "from sklearn.ensemble import RandomForestClassifier,GradientBoostingClassifier\n",
    "from sklearn.pipeline import Pipeline\n",
    "from sklearn.model_selection import train_test_split\n",
    "\n",
    "import shap"
   ]
  },
  {
   "cell_type": "markdown",
   "metadata": {},
   "source": [
    "# Load data "
   ]
  },
  {
   "cell_type": "code",
   "execution_count": 15,
   "metadata": {},
   "outputs": [],
   "source": [
    "complete_dataset = pd.read_csv('/Users/dionnespaltman/Desktop/V4/standardized_complete_dataset.csv')\n",
    "complete_dataset = complete_dataset.drop(columns='Unnamed: 0', axis=1)"
   ]
  },
  {
   "cell_type": "code",
   "execution_count": 16,
   "metadata": {},
   "outputs": [
    {
     "data": {
      "text/html": [
       "<div>\n",
       "<style scoped>\n",
       "    .dataframe tbody tr th:only-of-type {\n",
       "        vertical-align: middle;\n",
       "    }\n",
       "\n",
       "    .dataframe tbody tr th {\n",
       "        vertical-align: top;\n",
       "    }\n",
       "\n",
       "    .dataframe thead th {\n",
       "        text-align: right;\n",
       "    }\n",
       "</style>\n",
       "<table border=\"1\" class=\"dataframe\">\n",
       "  <thead>\n",
       "    <tr style=\"text-align: right;\">\n",
       "      <th></th>\n",
       "      <th>ID</th>\n",
       "      <th>Sum_12</th>\n",
       "      <th>Sum_4567</th>\n",
       "      <th>VVR_1</th>\n",
       "      <th>VVR_2</th>\n",
       "      <th>Sum_456</th>\n",
       "      <th>VVR_group</th>\n",
       "      <th>Condition</th>\n",
       "      <th>Date</th>\n",
       "      <th>Gender</th>\n",
       "      <th>...</th>\n",
       "      <th>AU26_r__standard_deviation</th>\n",
       "      <th>AU26_r__maximum</th>\n",
       "      <th>AU26_r__mean</th>\n",
       "      <th>AU26_r__root_mean_square</th>\n",
       "      <th>AU45_r__sum_values</th>\n",
       "      <th>AU45_r__variance</th>\n",
       "      <th>AU45_r__standard_deviation</th>\n",
       "      <th>AU45_r__maximum</th>\n",
       "      <th>AU45_r__mean</th>\n",
       "      <th>AU45_r__root_mean_square</th>\n",
       "    </tr>\n",
       "  </thead>\n",
       "  <tbody>\n",
       "    <tr>\n",
       "      <th>0</th>\n",
       "      <td>23</td>\n",
       "      <td>24.0</td>\n",
       "      <td>37.0</td>\n",
       "      <td>13.0</td>\n",
       "      <td>11.0</td>\n",
       "      <td>27.0</td>\n",
       "      <td>0</td>\n",
       "      <td>2</td>\n",
       "      <td>2020-08-01</td>\n",
       "      <td>2</td>\n",
       "      <td>...</td>\n",
       "      <td>-0.289518</td>\n",
       "      <td>0.458331</td>\n",
       "      <td>-0.574983</td>\n",
       "      <td>-0.554028</td>\n",
       "      <td>-0.333560</td>\n",
       "      <td>0.221977</td>\n",
       "      <td>0.345618</td>\n",
       "      <td>0.548923</td>\n",
       "      <td>0.603537</td>\n",
       "      <td>0.429001</td>\n",
       "    </tr>\n",
       "    <tr>\n",
       "      <th>1</th>\n",
       "      <td>24</td>\n",
       "      <td>23.0</td>\n",
       "      <td>37.0</td>\n",
       "      <td>12.0</td>\n",
       "      <td>11.0</td>\n",
       "      <td>28.0</td>\n",
       "      <td>0</td>\n",
       "      <td>2</td>\n",
       "      <td>2020-01-22</td>\n",
       "      <td>2</td>\n",
       "      <td>...</td>\n",
       "      <td>1.793425</td>\n",
       "      <td>0.458331</td>\n",
       "      <td>2.294469</td>\n",
       "      <td>2.317495</td>\n",
       "      <td>0.203487</td>\n",
       "      <td>-0.260024</td>\n",
       "      <td>-0.030426</td>\n",
       "      <td>0.619766</td>\n",
       "      <td>-0.659902</td>\n",
       "      <td>-0.281599</td>\n",
       "    </tr>\n",
       "    <tr>\n",
       "      <th>2</th>\n",
       "      <td>25</td>\n",
       "      <td>28.0</td>\n",
       "      <td>44.0</td>\n",
       "      <td>16.0</td>\n",
       "      <td>12.0</td>\n",
       "      <td>33.0</td>\n",
       "      <td>1</td>\n",
       "      <td>2</td>\n",
       "      <td>2020-05-02</td>\n",
       "      <td>2</td>\n",
       "      <td>...</td>\n",
       "      <td>0.557817</td>\n",
       "      <td>0.458331</td>\n",
       "      <td>0.196854</td>\n",
       "      <td>0.400873</td>\n",
       "      <td>-0.376228</td>\n",
       "      <td>0.033873</td>\n",
       "      <td>0.204639</td>\n",
       "      <td>-0.135892</td>\n",
       "      <td>0.093018</td>\n",
       "      <td>0.147314</td>\n",
       "    </tr>\n",
       "    <tr>\n",
       "      <th>3</th>\n",
       "      <td>26</td>\n",
       "      <td>30.0</td>\n",
       "      <td>37.0</td>\n",
       "      <td>15.0</td>\n",
       "      <td>15.0</td>\n",
       "      <td>29.0</td>\n",
       "      <td>0</td>\n",
       "      <td>1</td>\n",
       "      <td>2020-06-02</td>\n",
       "      <td>1</td>\n",
       "      <td>...</td>\n",
       "      <td>-0.394321</td>\n",
       "      <td>0.458331</td>\n",
       "      <td>-0.847716</td>\n",
       "      <td>-0.761866</td>\n",
       "      <td>-0.868821</td>\n",
       "      <td>-0.323805</td>\n",
       "      <td>-0.084215</td>\n",
       "      <td>0.541052</td>\n",
       "      <td>-1.092069</td>\n",
       "      <td>-0.441394</td>\n",
       "    </tr>\n",
       "    <tr>\n",
       "      <th>4</th>\n",
       "      <td>27</td>\n",
       "      <td>22.0</td>\n",
       "      <td>39.0</td>\n",
       "      <td>11.0</td>\n",
       "      <td>11.0</td>\n",
       "      <td>31.0</td>\n",
       "      <td>0</td>\n",
       "      <td>2</td>\n",
       "      <td>2020-06-02</td>\n",
       "      <td>1</td>\n",
       "      <td>...</td>\n",
       "      <td>1.682971</td>\n",
       "      <td>1.863336</td>\n",
       "      <td>-2.230621</td>\n",
       "      <td>0.556978</td>\n",
       "      <td>2.456784</td>\n",
       "      <td>1.071168</td>\n",
       "      <td>0.914462</td>\n",
       "      <td>0.651252</td>\n",
       "      <td>3.692845</td>\n",
       "      <td>1.996765</td>\n",
       "    </tr>\n",
       "  </tbody>\n",
       "</table>\n",
       "<p>5 rows × 112 columns</p>\n",
       "</div>"
      ],
      "text/plain": [
       "   ID  Sum_12  Sum_4567  VVR_1  VVR_2  Sum_456  VVR_group  Condition  \\\n",
       "0  23    24.0      37.0   13.0   11.0     27.0          0          2   \n",
       "1  24    23.0      37.0   12.0   11.0     28.0          0          2   \n",
       "2  25    28.0      44.0   16.0   12.0     33.0          1          2   \n",
       "3  26    30.0      37.0   15.0   15.0     29.0          0          1   \n",
       "4  27    22.0      39.0   11.0   11.0     31.0          0          2   \n",
       "\n",
       "         Date  Gender  ...  AU26_r__standard_deviation  AU26_r__maximum  \\\n",
       "0  2020-08-01       2  ...                   -0.289518         0.458331   \n",
       "1  2020-01-22       2  ...                    1.793425         0.458331   \n",
       "2  2020-05-02       2  ...                    0.557817         0.458331   \n",
       "3  2020-06-02       1  ...                   -0.394321         0.458331   \n",
       "4  2020-06-02       1  ...                    1.682971         1.863336   \n",
       "\n",
       "   AU26_r__mean  AU26_r__root_mean_square  AU45_r__sum_values  \\\n",
       "0     -0.574983                 -0.554028           -0.333560   \n",
       "1      2.294469                  2.317495            0.203487   \n",
       "2      0.196854                  0.400873           -0.376228   \n",
       "3     -0.847716                 -0.761866           -0.868821   \n",
       "4     -2.230621                  0.556978            2.456784   \n",
       "\n",
       "   AU45_r__variance  AU45_r__standard_deviation  AU45_r__maximum  \\\n",
       "0          0.221977                    0.345618         0.548923   \n",
       "1         -0.260024                   -0.030426         0.619766   \n",
       "2          0.033873                    0.204639        -0.135892   \n",
       "3         -0.323805                   -0.084215         0.541052   \n",
       "4          1.071168                    0.914462         0.651252   \n",
       "\n",
       "   AU45_r__mean  AU45_r__root_mean_square  \n",
       "0      0.603537                  0.429001  \n",
       "1     -0.659902                 -0.281599  \n",
       "2      0.093018                  0.147314  \n",
       "3     -1.092069                 -0.441394  \n",
       "4      3.692845                  1.996765  \n",
       "\n",
       "[5 rows x 112 columns]"
      ]
     },
     "execution_count": 16,
     "metadata": {},
     "output_type": "execute_result"
    }
   ],
   "source": [
    "complete_dataset.head()"
   ]
  },
  {
   "cell_type": "code",
   "execution_count": 17,
   "metadata": {},
   "outputs": [
    {
     "name": "stdout",
     "output_type": "stream",
     "text": [
      "<class 'pandas.core.frame.DataFrame'>\n",
      "RangeIndex: 104 entries, 0 to 103\n",
      "Columns: 112 entries, ID to AU45_r__root_mean_square\n",
      "dtypes: float64(107), int64(4), object(1)\n",
      "memory usage: 91.1+ KB\n"
     ]
    }
   ],
   "source": [
    "#Check columns \n",
    "complete_dataset.info()"
   ]
  },
  {
   "cell_type": "code",
   "execution_count": 18,
   "metadata": {},
   "outputs": [
    {
     "data": {
      "text/plain": [
       "ID                            104\n",
       "Sum_12                         19\n",
       "Sum_4567                       20\n",
       "VVR_1                          12\n",
       "VVR_2                          11\n",
       "                             ... \n",
       "AU45_r__variance               97\n",
       "AU45_r__standard_deviation     98\n",
       "AU45_r__maximum                62\n",
       "AU45_r__mean                   98\n",
       "AU45_r__root_mean_square       98\n",
       "Length: 112, dtype: int64"
      ]
     },
     "execution_count": 18,
     "metadata": {},
     "output_type": "execute_result"
    }
   ],
   "source": [
    "# Unique Values in each column\n",
    "complete_dataset.nunique()"
   ]
  },
  {
   "cell_type": "code",
   "execution_count": 19,
   "metadata": {},
   "outputs": [
    {
     "data": {
      "text/plain": [
       "0    81\n",
       "1    23\n",
       "Name: VVR_group, dtype: int64"
      ]
     },
     "execution_count": 19,
     "metadata": {},
     "output_type": "execute_result"
    }
   ],
   "source": [
    "# Data in each class we see it is not a balanced dataset!\n",
    "complete_dataset.VVR_group.value_counts()\n"
   ]
  }
 ],
 "metadata": {
  "kernelspec": {
   "display_name": "base",
   "language": "python",
   "name": "python3"
  },
  "language_info": {
   "codemirror_mode": {
    "name": "ipython",
    "version": 3
   },
   "file_extension": ".py",
   "mimetype": "text/x-python",
   "name": "python",
   "nbconvert_exporter": "python",
   "pygments_lexer": "ipython3",
   "version": "3.10.9"
  }
 },
 "nbformat": 4,
 "nbformat_minor": 2
}
