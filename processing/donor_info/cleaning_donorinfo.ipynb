{
 "cells": [
  {
   "cell_type": "markdown",
   "metadata": {},
   "source": [
    "# Cleaning donor info\n",
    "The original file is '/Users/dionnespaltman/Desktop/downloading_new/FAINT_Info_Personality_timepoints.csv'. "
   ]
  },
  {
   "cell_type": "code",
   "execution_count": 1,
   "metadata": {},
   "outputs": [],
   "source": [
    "import pandas as pd\n",
    "import csv "
   ]
  },
  {
   "cell_type": "code",
   "execution_count": 2,
   "metadata": {},
   "outputs": [],
   "source": [
    "path_name = '/Users/dionnespaltman/Desktop/downloading_new/FAINT_Info_Personality_timepoints.csv'\n",
    "donor_info = pd.read_csv(path_name)"
   ]
  },
  {
   "cell_type": "markdown",
   "metadata": {},
   "source": [
    "## Unique IDs"
   ]
  },
  {
   "cell_type": "code",
   "execution_count": 8,
   "metadata": {},
   "outputs": [
    {
     "name": "stdout",
     "output_type": "stream",
     "text": [
      "Number of unique IDs: 328\n"
     ]
    }
   ],
   "source": [
    "unique_id_count = donor_info['ID'].nunique()\n",
    "print(\"Number of unique IDs:\", unique_id_count)"
   ]
  },
  {
   "cell_type": "code",
   "execution_count": 5,
   "metadata": {},
   "outputs": [
    {
     "name": "stdout",
     "output_type": "stream",
     "text": [
      "   count  ID_count\n",
      "0      1         8\n",
      "1      6       191\n",
      "2      7       129\n"
     ]
    }
   ],
   "source": [
    "# Group by ID and count occurrences\n",
    "id_counts = donor_info.groupby('ID').size().reset_index(name='count')\n",
    "\n",
    "# Group by count and count occurrences\n",
    "count_distribution = id_counts.groupby('count').size().reset_index(name='ID_count')\n",
    "\n",
    "print(count_distribution)"
   ]
  },
  {
   "cell_type": "markdown",
   "metadata": {},
   "source": [
    "Depending on the location, some participants didn't measure their VVR at stage 3. "
   ]
  },
  {
   "cell_type": "code",
   "execution_count": 6,
   "metadata": {},
   "outputs": [
    {
     "name": "stdout",
     "output_type": "stream",
     "text": [
      "   Timepoint  Occurrences\n",
      "1        1.0          320\n",
      "2        2.0          320\n",
      "6        3.0          128\n",
      "3        4.0          320\n",
      "4        5.0          320\n",
      "0        6.0          321\n",
      "5        7.0          320\n"
     ]
    }
   ],
   "source": [
    "timepoint_counts = donor_info['Time_point'].value_counts().reset_index()\n",
    "timepoint_counts.columns = ['Timepoint', 'Occurrences']\n",
    "timepoint_counts = timepoint_counts.sort_values(by='Timepoint')\n",
    "\n",
    "print(timepoint_counts)"
   ]
  },
  {
   "cell_type": "markdown",
   "metadata": {},
   "source": [
    "## Dropping columns "
   ]
  },
  {
   "cell_type": "code",
   "execution_count": 9,
   "metadata": {},
   "outputs": [
    {
     "name": "stdout",
     "output_type": "stream",
     "text": [
      "['ID', 'Time_point', 'Gender', 'Age', 'Datum', 'Location', 'Condition', 'Weight', 'Length', 'FEAR_sum', 'VVR_sum_tp', 'VVR_psych_tp', 'VVR_phys_tp', 'ERQ_sum', 'ERQ_CR', 'ERQ_ES', 'SSAS_sum', 'ASI_sum', 'MAIA_sum', 'MAIA_noticing_mean', 'MAIA_notdistr_mean', 'MAIA_notworry_mean', 'MAIA_attregul_mean', 'MAIA_emoaware_mean', 'MAIA_selfregu_mean', 'MAIA_bodylist_mean', 'MAIA_trust_mean', 'MAIA_noticing_sum', 'MAIA_notdistr_sum', 'MAIA_notworry_sum', 'MAIA_attregul_sum', 'MAIA_emoaware_sum', 'MAIA_selfregu_sum', 'MAIA_bodylist_sum', 'MAIA_trust_sum', 'Q2.2_1', 'Q2.2_2', 'Q2.2_3', 'Q2.2_4', 'Q2.2_5', 'Q2.2_6', 'Q2.2_7', 'Q2.2_8', 'Q2.2_9', 'Q2.2_10', 'Q3.1_1', 'Q3.1_2', 'Q3.1_3', 'Q3.1_4', 'Q3.1_5', 'Q3.1_6', 'Q3.1_7', 'Q3.1_8', 'Q3.2_1', 'Q3.2_2', 'Q3.2_3', 'Q3.2_4', 'Q3.2_5', 'Q3.2_6', 'Q3.2_7', 'Q3.2_8', 'Q4.1_1', 'Q4.1_2', 'Q4.1_3', 'Q4.1_4', 'Q4.1_5', 'Q4.1_6', 'Q4.1_7', 'Q4.1_8', 'Q4.1_9', 'Q4.1_10', 'Q5.1_1', 'Q5.1_2', 'Q5.1_3', 'Q5.1_4', 'Q5.1_5', 'Q5.1_6', 'Q5.1_7', 'Q5.1_8', 'Q5.1_9', 'Q5.1_10', 'Q5.1_11', 'Q5.1_12', 'Q5.1_13', 'Q5.1_14', 'Q5.1_15', 'Q5.1_16', 'Q5.1_17', 'Q5.1_18', 'Q5.1_19', 'Q5.1_20', 'Q5.1_21', 'Q5.1_22', 'Q5.1_23', 'Q5.1_24', 'Q5.1_25', 'Q5.1_26', 'Q5.1_27', 'Q5.1_28', 'Q5.1_29', 'Q5.1_30', 'Q5.1_31', 'Q5.1_32', 'Q5.1_33', 'Q5.1_34', 'Q5.1_35', 'Q5.1_36', 'Q5.1_37', 'Q14_1', 'Q14_2', 'Q14_3', 'Q14_4', 'Q14_5', 'Q14_6', 'Q14_12', 'Q16_2', 'Q14_33', 'Q14_44', 'Q14_55', 'Q14_66', 'Q7.1_1', 'Q7.1_2', 'Q7.1_3', 'Q7.1_4', 'Q7.1_5', 'Q7.1_6', 'Q7.1_7', 'Q7.1_8', 'Q7.1_9', 'Q7.1_10', 'Q7.1_11', 'Q7.1_12', 'Q7.1_13', 'Q7.1_14', 'Q7.1_15', 'Q7.1_16', 'Faintness', 'Dizziness', 'Weakness', 'Lightheadedness', 'Fear', 'Tension', 'Stress', 'Nervousness', 'Physical_sum', 'Psychological_sum', 'Faintnessn', 'Dizzinessn', 'Weaknessn', 'Lightheadednessn', 'Fearn', 'Tensionn', 'Stressn', 'Nervousnessn', 'na.rm']\n"
     ]
    }
   ],
   "source": [
    "columns = list(donor_info.columns)\n",
    "print(columns)"
   ]
  },
  {
   "cell_type": "code",
   "execution_count": 10,
   "metadata": {},
   "outputs": [],
   "source": [
    "# Columns to drop\n",
    "columns_to_drop = ['FEAR_sum', 'VVR_sum_tp', 'VVR_psych_tp', 'VVR_phys_tp', 'ERQ_sum', 'ERQ_CR', 'ERQ_ES', 'SSAS_sum', 'ASI_sum', 'MAIA_sum', 'MAIA_noticing_mean', 'MAIA_notdistr_mean', 'MAIA_notworry_mean', 'MAIA_attregul_mean', 'MAIA_emoaware_mean', 'MAIA_selfregu_mean', 'MAIA_bodylist_mean', 'MAIA_trust_mean', 'MAIA_noticing_sum', 'MAIA_notdistr_sum', 'MAIA_notworry_sum', 'MAIA_attregul_sum', 'MAIA_emoaware_sum', 'MAIA_selfregu_sum', 'MAIA_bodylist_sum', 'MAIA_trust_sum', 'Q2.2_1', 'Q2.2_2', 'Q2.2_3', 'Q2.2_4', 'Q2.2_5', 'Q2.2_6', 'Q2.2_7', 'Q2.2_8', 'Q2.2_9', 'Q2.2_10', 'Q3.1_1', 'Q3.1_2', 'Q3.1_3', 'Q3.1_4', 'Q3.1_5', 'Q3.1_6', 'Q3.1_7', 'Q3.1_8', 'Q3.2_1', 'Q3.2_2', 'Q3.2_3', 'Q3.2_4', 'Q3.2_5', 'Q3.2_6', 'Q3.2_7', 'Q3.2_8', 'Q4.1_1', 'Q4.1_2', 'Q4.1_3', 'Q4.1_4', 'Q4.1_5', 'Q4.1_6', 'Q4.1_7', 'Q4.1_8', 'Q4.1_9', 'Q4.1_10', 'Q5.1_1', 'Q5.1_2', 'Q5.1_3', 'Q5.1_4', 'Q5.1_5', 'Q5.1_6', 'Q5.1_7', 'Q5.1_8', 'Q5.1_9', 'Q5.1_10', 'Q5.1_11', 'Q5.1_12', 'Q5.1_13', 'Q5.1_14', 'Q5.1_15', 'Q5.1_16', 'Q5.1_17', 'Q5.1_18', 'Q5.1_19', 'Q5.1_20', 'Q5.1_21', 'Q5.1_22', 'Q5.1_23', 'Q5.1_24', 'Q5.1_25', 'Q5.1_26', 'Q5.1_27', 'Q5.1_28', 'Q5.1_29', 'Q5.1_30', 'Q5.1_31', 'Q5.1_32', 'Q5.1_33', 'Q5.1_34', 'Q5.1_35', 'Q5.1_36', 'Q5.1_37', 'Q14_1', 'Q14_2', 'Q14_3', 'Q14_4', 'Q14_5', 'Q14_6', 'Q14_12', 'Q16_2', 'Q14_33', 'Q14_44', 'Q14_55', 'Q14_66', 'Q7.1_1', 'Q7.1_2', 'Q7.1_3', 'Q7.1_4', 'Q7.1_5', 'Q7.1_6', 'Q7.1_7', 'Q7.1_8', 'Q7.1_9', 'Q7.1_10', 'Q7.1_11', 'Q7.1_12', 'Q7.1_13', 'Q7.1_14', 'Q7.1_15', 'Q7.1_16', 'Faintnessn', 'Dizzinessn', 'Weaknessn', 'Lightheadednessn', 'Fearn', 'Tensionn', 'Stressn', 'Nervousnessn']\n",
    "\n",
    "# Drop the columns\n",
    "donor_info.drop(columns=columns_to_drop, inplace=True)"
   ]
  },
  {
   "cell_type": "code",
   "execution_count": 11,
   "metadata": {},
   "outputs": [
    {
     "name": "stdout",
     "output_type": "stream",
     "text": [
      "['ID', 'Time_point', 'Gender', 'Age', 'Datum', 'Location', 'Condition', 'Weight', 'Length', 'Faintness', 'Dizziness', 'Weakness', 'Lightheadedness', 'Fear', 'Tension', 'Stress', 'Nervousness', 'Physical_sum', 'Psychological_sum', 'na.rm']\n"
     ]
    }
   ],
   "source": [
    "columns = list(donor_info.columns)\n",
    "print(columns)"
   ]
  },
  {
   "cell_type": "markdown",
   "metadata": {},
   "source": [
    "## Renaming columns "
   ]
  },
  {
   "cell_type": "code",
   "execution_count": 21,
   "metadata": {},
   "outputs": [],
   "source": [
    "donor_info.rename(columns={'Datum': 'Date'}, inplace=True)\n",
    "donor_info.rename(columns={'Time_point': 'Stage'}, inplace=True)"
   ]
  },
  {
   "cell_type": "code",
   "execution_count": null,
   "metadata": {},
   "outputs": [],
   "source": [
    "donor_info['Date'] = pd.to_datetime(donor_info['Date'])"
   ]
  },
  {
   "cell_type": "code",
   "execution_count": 25,
   "metadata": {},
   "outputs": [
    {
     "name": "stdout",
     "output_type": "stream",
     "text": [
      "['ID', 'Stage', 'Gender', 'Age', 'Date', 'Location', 'Condition', 'Weight', 'Length', 'Faintness', 'Dizziness', 'Weakness', 'Lightheadedness', 'Fear', 'Tension', 'Stress', 'Nervousness', 'Physical_sum', 'Psychological_sum', 'na.rm']\n"
     ]
    }
   ],
   "source": [
    "columns = list(donor_info.columns)\n",
    "print(columns)"
   ]
  },
  {
   "cell_type": "markdown",
   "metadata": {},
   "source": [
    "## Deleting the 8 ones that are not complete "
   ]
  },
  {
   "cell_type": "code",
   "execution_count": 27,
   "metadata": {},
   "outputs": [],
   "source": [
    "# Group by ID and count occurrences\n",
    "id_counts = donor_info.groupby('ID').size().reset_index(name='count')\n",
    "\n",
    "# Filter out IDs that occur only once\n",
    "ids_to_keep = id_counts[id_counts['count'] > 1]['ID']\n",
    "\n",
    "# Filter out the rows corresponding to IDs that occur more than once\n",
    "donor_info = donor_info[donor_info['ID'].isin(ids_to_keep)]"
   ]
  },
  {
   "cell_type": "markdown",
   "metadata": {},
   "source": [
    "## Saving the cleaned file"
   ]
  },
  {
   "cell_type": "code",
   "execution_count": 28,
   "metadata": {},
   "outputs": [],
   "source": [
    "donor_info.to_csv('/Users/dionnespaltman/Desktop/V3/clean_donor_info.csv', sep=',')"
   ]
  }
 ],
 "metadata": {
  "kernelspec": {
   "display_name": "base",
   "language": "python",
   "name": "python3"
  },
  "language_info": {
   "codemirror_mode": {
    "name": "ipython",
    "version": 3
   },
   "file_extension": ".py",
   "mimetype": "text/x-python",
   "name": "python",
   "nbconvert_exporter": "python",
   "pygments_lexer": "ipython3",
   "version": "3.10.9"
  }
 },
 "nbformat": 4,
 "nbformat_minor": 2
}
