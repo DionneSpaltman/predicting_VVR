{
 "cells": [
  {
   "cell_type": "markdown",
   "metadata": {},
   "source": [
    "# Donor info description"
   ]
  },
  {
   "cell_type": "code",
   "execution_count": 1,
   "metadata": {},
   "outputs": [],
   "source": [
    "import pandas as pd\n",
    "import csv "
   ]
  },
  {
   "cell_type": "code",
   "execution_count": 2,
   "metadata": {},
   "outputs": [],
   "source": [
    "path_name = '/Users/dionnespaltman/Desktop/V4/FAINT_Info_Personality_timepoints.csv'\n",
    "donor_info = pd.read_csv(path_name)"
   ]
  },
  {
   "cell_type": "markdown",
   "metadata": {},
   "source": [
    "The original dataset has 2057 rows and 155 columns. There are 328 unique IDs. "
   ]
  },
  {
   "cell_type": "code",
   "execution_count": 3,
   "metadata": {},
   "outputs": [
    {
     "name": "stdout",
     "output_type": "stream",
     "text": [
      "(2057, 155)\n",
      "Number of unique IDs: 328\n"
     ]
    }
   ],
   "source": [
    "print(donor_info.shape)\n",
    "print(\"Number of unique IDs:\", donor_info['ID'].nunique())"
   ]
  },
  {
   "cell_type": "code",
   "execution_count": 4,
   "metadata": {},
   "outputs": [
    {
     "data": {
      "text/html": [
       "<div>\n",
       "<style scoped>\n",
       "    .dataframe tbody tr th:only-of-type {\n",
       "        vertical-align: middle;\n",
       "    }\n",
       "\n",
       "    .dataframe tbody tr th {\n",
       "        vertical-align: top;\n",
       "    }\n",
       "\n",
       "    .dataframe thead th {\n",
       "        text-align: right;\n",
       "    }\n",
       "</style>\n",
       "<table border=\"1\" class=\"dataframe\">\n",
       "  <thead>\n",
       "    <tr style=\"text-align: right;\">\n",
       "      <th></th>\n",
       "      <th>ID</th>\n",
       "      <th>Time_point</th>\n",
       "      <th>Gender</th>\n",
       "      <th>Age</th>\n",
       "      <th>Datum</th>\n",
       "      <th>Location</th>\n",
       "      <th>Condition</th>\n",
       "      <th>Weight</th>\n",
       "      <th>Length</th>\n",
       "      <th>FEAR_sum</th>\n",
       "      <th>...</th>\n",
       "      <th>Psychological_sum</th>\n",
       "      <th>Faintnessn</th>\n",
       "      <th>Dizzinessn</th>\n",
       "      <th>Weaknessn</th>\n",
       "      <th>Lightheadednessn</th>\n",
       "      <th>Fearn</th>\n",
       "      <th>Tensionn</th>\n",
       "      <th>Stressn</th>\n",
       "      <th>Nervousnessn</th>\n",
       "      <th>na.rm</th>\n",
       "    </tr>\n",
       "  </thead>\n",
       "  <tbody>\n",
       "    <tr>\n",
       "      <th>0</th>\n",
       "      <td>5</td>\n",
       "      <td>1.0</td>\n",
       "      <td>2</td>\n",
       "      <td>33.0</td>\n",
       "      <td>21-10-2019</td>\n",
       "      <td>0</td>\n",
       "      <td>1</td>\n",
       "      <td>74.0</td>\n",
       "      <td>171.0</td>\n",
       "      <td>26</td>\n",
       "      <td>...</td>\n",
       "      <td>8.0</td>\n",
       "      <td>1.0</td>\n",
       "      <td>1.0</td>\n",
       "      <td>1.0</td>\n",
       "      <td>1.0</td>\n",
       "      <td>2.0</td>\n",
       "      <td>2.0</td>\n",
       "      <td>2.0</td>\n",
       "      <td>2.0</td>\n",
       "      <td>True</td>\n",
       "    </tr>\n",
       "    <tr>\n",
       "      <th>1</th>\n",
       "      <td>5</td>\n",
       "      <td>2.0</td>\n",
       "      <td>2</td>\n",
       "      <td>33.0</td>\n",
       "      <td>21-10-2019</td>\n",
       "      <td>0</td>\n",
       "      <td>1</td>\n",
       "      <td>74.0</td>\n",
       "      <td>171.0</td>\n",
       "      <td>26</td>\n",
       "      <td>...</td>\n",
       "      <td>6.0</td>\n",
       "      <td>1.0</td>\n",
       "      <td>1.0</td>\n",
       "      <td>1.0</td>\n",
       "      <td>1.0</td>\n",
       "      <td>1.0</td>\n",
       "      <td>2.0</td>\n",
       "      <td>1.0</td>\n",
       "      <td>2.0</td>\n",
       "      <td>True</td>\n",
       "    </tr>\n",
       "    <tr>\n",
       "      <th>2</th>\n",
       "      <td>5</td>\n",
       "      <td>3.0</td>\n",
       "      <td>2</td>\n",
       "      <td>33.0</td>\n",
       "      <td>21-10-2019</td>\n",
       "      <td>0</td>\n",
       "      <td>1</td>\n",
       "      <td>74.0</td>\n",
       "      <td>171.0</td>\n",
       "      <td>26</td>\n",
       "      <td>...</td>\n",
       "      <td>6.0</td>\n",
       "      <td>1.0</td>\n",
       "      <td>1.0</td>\n",
       "      <td>1.0</td>\n",
       "      <td>1.0</td>\n",
       "      <td>1.0</td>\n",
       "      <td>2.0</td>\n",
       "      <td>1.0</td>\n",
       "      <td>2.0</td>\n",
       "      <td>True</td>\n",
       "    </tr>\n",
       "    <tr>\n",
       "      <th>3</th>\n",
       "      <td>5</td>\n",
       "      <td>4.0</td>\n",
       "      <td>2</td>\n",
       "      <td>33.0</td>\n",
       "      <td>21-10-2019</td>\n",
       "      <td>0</td>\n",
       "      <td>1</td>\n",
       "      <td>74.0</td>\n",
       "      <td>171.0</td>\n",
       "      <td>26</td>\n",
       "      <td>...</td>\n",
       "      <td>5.0</td>\n",
       "      <td>1.0</td>\n",
       "      <td>1.0</td>\n",
       "      <td>1.0</td>\n",
       "      <td>1.0</td>\n",
       "      <td>1.0</td>\n",
       "      <td>1.0</td>\n",
       "      <td>1.0</td>\n",
       "      <td>2.0</td>\n",
       "      <td>True</td>\n",
       "    </tr>\n",
       "    <tr>\n",
       "      <th>4</th>\n",
       "      <td>5</td>\n",
       "      <td>5.0</td>\n",
       "      <td>2</td>\n",
       "      <td>33.0</td>\n",
       "      <td>21-10-2019</td>\n",
       "      <td>0</td>\n",
       "      <td>1</td>\n",
       "      <td>74.0</td>\n",
       "      <td>171.0</td>\n",
       "      <td>26</td>\n",
       "      <td>...</td>\n",
       "      <td>5.0</td>\n",
       "      <td>1.0</td>\n",
       "      <td>1.0</td>\n",
       "      <td>1.0</td>\n",
       "      <td>1.0</td>\n",
       "      <td>1.0</td>\n",
       "      <td>1.0</td>\n",
       "      <td>1.0</td>\n",
       "      <td>2.0</td>\n",
       "      <td>True</td>\n",
       "    </tr>\n",
       "  </tbody>\n",
       "</table>\n",
       "<p>5 rows × 155 columns</p>\n",
       "</div>"
      ],
      "text/plain": [
       "   ID  Time_point  Gender   Age       Datum  Location  Condition  Weight  \\\n",
       "0   5         1.0       2  33.0  21-10-2019         0          1    74.0   \n",
       "1   5         2.0       2  33.0  21-10-2019         0          1    74.0   \n",
       "2   5         3.0       2  33.0  21-10-2019         0          1    74.0   \n",
       "3   5         4.0       2  33.0  21-10-2019         0          1    74.0   \n",
       "4   5         5.0       2  33.0  21-10-2019         0          1    74.0   \n",
       "\n",
       "   Length  FEAR_sum  ...  Psychological_sum  Faintnessn  Dizzinessn  \\\n",
       "0   171.0        26  ...                8.0         1.0         1.0   \n",
       "1   171.0        26  ...                6.0         1.0         1.0   \n",
       "2   171.0        26  ...                6.0         1.0         1.0   \n",
       "3   171.0        26  ...                5.0         1.0         1.0   \n",
       "4   171.0        26  ...                5.0         1.0         1.0   \n",
       "\n",
       "   Weaknessn  Lightheadednessn  Fearn  Tensionn  Stressn  Nervousnessn  na.rm  \n",
       "0        1.0               1.0    2.0       2.0      2.0           2.0   True  \n",
       "1        1.0               1.0    1.0       2.0      1.0           2.0   True  \n",
       "2        1.0               1.0    1.0       2.0      1.0           2.0   True  \n",
       "3        1.0               1.0    1.0       1.0      1.0           2.0   True  \n",
       "4        1.0               1.0    1.0       1.0      1.0           2.0   True  \n",
       "\n",
       "[5 rows x 155 columns]"
      ]
     },
     "metadata": {},
     "output_type": "display_data"
    }
   ],
   "source": [
    "display(donor_info.head())"
   ]
  },
  {
   "cell_type": "code",
   "execution_count": 5,
   "metadata": {},
   "outputs": [
    {
     "name": "stdout",
     "output_type": "stream",
     "text": [
      "Range of IDs: 5 332\n"
     ]
    }
   ],
   "source": [
    "# Find the minimum and maximum IDs in the 'ID' column of faint_info DataFrame\n",
    "min_id = donor_info['ID'].min()\n",
    "max_id = donor_info['ID'].max()\n",
    "\n",
    "# Print the range of IDs\n",
    "print(\"Range of IDs:\", min_id, max_id)"
   ]
  },
  {
   "cell_type": "code",
   "execution_count": 6,
   "metadata": {},
   "outputs": [
    {
     "name": "stdout",
     "output_type": "stream",
     "text": [
      "['ID', 'Time_point', 'Gender', 'Age', 'Datum', 'Location', 'Condition', 'Weight', 'Length', 'FEAR_sum', 'VVR_sum_tp', 'VVR_psych_tp', 'VVR_phys_tp', 'ERQ_sum', 'ERQ_CR', 'ERQ_ES', 'SSAS_sum', 'ASI_sum', 'MAIA_sum', 'MAIA_noticing_mean', 'MAIA_notdistr_mean', 'MAIA_notworry_mean', 'MAIA_attregul_mean', 'MAIA_emoaware_mean', 'MAIA_selfregu_mean', 'MAIA_bodylist_mean', 'MAIA_trust_mean', 'MAIA_noticing_sum', 'MAIA_notdistr_sum', 'MAIA_notworry_sum', 'MAIA_attregul_sum', 'MAIA_emoaware_sum', 'MAIA_selfregu_sum', 'MAIA_bodylist_sum', 'MAIA_trust_sum', 'Q2.2_1', 'Q2.2_2', 'Q2.2_3', 'Q2.2_4', 'Q2.2_5', 'Q2.2_6', 'Q2.2_7', 'Q2.2_8', 'Q2.2_9', 'Q2.2_10', 'Q3.1_1', 'Q3.1_2', 'Q3.1_3', 'Q3.1_4', 'Q3.1_5', 'Q3.1_6', 'Q3.1_7', 'Q3.1_8', 'Q3.2_1', 'Q3.2_2', 'Q3.2_3', 'Q3.2_4', 'Q3.2_5', 'Q3.2_6', 'Q3.2_7', 'Q3.2_8', 'Q4.1_1', 'Q4.1_2', 'Q4.1_3', 'Q4.1_4', 'Q4.1_5', 'Q4.1_6', 'Q4.1_7', 'Q4.1_8', 'Q4.1_9', 'Q4.1_10', 'Q5.1_1', 'Q5.1_2', 'Q5.1_3', 'Q5.1_4', 'Q5.1_5', 'Q5.1_6', 'Q5.1_7', 'Q5.1_8', 'Q5.1_9', 'Q5.1_10', 'Q5.1_11', 'Q5.1_12', 'Q5.1_13', 'Q5.1_14', 'Q5.1_15', 'Q5.1_16', 'Q5.1_17', 'Q5.1_18', 'Q5.1_19', 'Q5.1_20', 'Q5.1_21', 'Q5.1_22', 'Q5.1_23', 'Q5.1_24', 'Q5.1_25', 'Q5.1_26', 'Q5.1_27', 'Q5.1_28', 'Q5.1_29', 'Q5.1_30', 'Q5.1_31', 'Q5.1_32', 'Q5.1_33', 'Q5.1_34', 'Q5.1_35', 'Q5.1_36', 'Q5.1_37', 'Q14_1', 'Q14_2', 'Q14_3', 'Q14_4', 'Q14_5', 'Q14_6', 'Q14_12', 'Q16_2', 'Q14_33', 'Q14_44', 'Q14_55', 'Q14_66', 'Q7.1_1', 'Q7.1_2', 'Q7.1_3', 'Q7.1_4', 'Q7.1_5', 'Q7.1_6', 'Q7.1_7', 'Q7.1_8', 'Q7.1_9', 'Q7.1_10', 'Q7.1_11', 'Q7.1_12', 'Q7.1_13', 'Q7.1_14', 'Q7.1_15', 'Q7.1_16', 'Faintness', 'Dizziness', 'Weakness', 'Lightheadedness', 'Fear', 'Tension', 'Stress', 'Nervousness', 'Physical_sum', 'Psychological_sum', 'Faintnessn', 'Dizzinessn', 'Weaknessn', 'Lightheadednessn', 'Fearn', 'Tensionn', 'Stressn', 'Nervousnessn', 'na.rm']\n"
     ]
    }
   ],
   "source": [
    "columns = list(donor_info.columns)\n",
    "print(columns)"
   ]
  },
  {
   "cell_type": "markdown",
   "metadata": {},
   "source": [
    "# Get the range of dates"
   ]
  },
  {
   "cell_type": "code",
   "execution_count": 5,
   "metadata": {},
   "outputs": [
    {
     "name": "stdout",
     "output_type": "stream",
     "text": [
      "First date: 2019-06-11 00:00:00\n",
      "Last date: 2022-12-19 00:00:00\n"
     ]
    }
   ],
   "source": [
    "# Convert 'Datum' column to datetime if it's not already in datetime format\n",
    "donor_info['Datum'] = pd.to_datetime(donor_info['Datum'])\n",
    "\n",
    "# Find the first and last dates\n",
    "first_date = donor_info['Datum'].min()\n",
    "last_date = donor_info['Datum'].max()\n",
    "\n",
    "print(\"First date:\", first_date)\n",
    "print(\"Last date:\", last_date)"
   ]
  }
 ],
 "metadata": {
  "kernelspec": {
   "display_name": "base",
   "language": "python",
   "name": "python3"
  },
  "language_info": {
   "codemirror_mode": {
    "name": "ipython",
    "version": 3
   },
   "file_extension": ".py",
   "mimetype": "text/x-python",
   "name": "python",
   "nbconvert_exporter": "python",
   "pygments_lexer": "ipython3",
   "version": "3.10.9"
  }
 },
 "nbformat": 4,
 "nbformat_minor": 2
}
