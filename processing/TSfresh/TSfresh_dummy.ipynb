{
  "cells": [
    {
      "cell_type": "markdown",
      "metadata": {},
      "source": [
        "# TS fresh for action units DUMMY"
      ]
    },
    {
      "cell_type": "code",
      "execution_count": 2,
      "metadata": {},
      "outputs": [],
      "source": [
        "import pandas as pd\n",
        "import pickle"
      ]
    },
    {
      "cell_type": "code",
      "execution_count": 22,
      "metadata": {
        "colab": {
          "base_uri": "https://localhost:8080/"
        },
        "id": "z0ge5BbCSGAi",
        "outputId": "e38060b4-e66e-4828-898a-f6dcb2b670df"
      },
      "outputs": [],
      "source": [
        "import pandas as pd\n",
        "\n",
        "# Data for a single ID\n",
        "data_single = {\n",
        "    'frame': [104, 105, 112, 115, 154, 155, 156, 157, 160, 161, 162, 164, 165, 175, 198, 199, 208, 213, 214, 215],\n",
        "    'face_id': [0.0] * 20,\n",
        "    'confidence': [0.88, 0.98, 0.98, 0.98, 0.98, 0.98, 0.88, 0.98, 0.98, 0.98, 0.98, 0.98, 0.98, 0.98, 0.98, 0.98, 0.98, 0.98, 0.98, 0.98],\n",
        "    'success': [1.0] * 20,\n",
        "    'AU01_r': [0.00, 0.00, 0.31, 0.00, 1.26, 1.50, 0.88, 0.34, 0.00, 0.00, 0.00, 0.00, 0.00, 0.20, 1.60, 1.60, 0.00, 0.00, 0.00, 0.00],\n",
        "    'AU02_r': [0.00, 0.00, 0.59, 0.12, 1.67, 2.48, 2.77, 2.22, 1.30, 1.79, 1.18, 0.59, 0.59, 0.86, 0.91, 0.91, 0.04, 0.00, 0.00, 0.00],\n",
        "    'AU04_r': [0.0] * 20,\n",
        "    'AU05_r': [0.0] * 20,\n",
        "    'AU06_r': [1.34, 1.34, 0.31, 0.32, 0.39, 0.60, 0.59, 0.73, 0.19, 0.25, 0.12, 0.29, 0.29, 0.11, 1.13, 1.13, 0.23, 1.02, 1.71, 1.93],\n",
        "    'AU07_r': [0.22, 0.22, 0.31, 0.06, 0.26, 0.26, 0.02, 0.00, 0.00, 0.00, 0.00, 0.00, 0.00, 0.25, 1.92, 1.92, 0.56, 0.17, 0.17, 0.00],\n",
        "    # Add more columns as needed\n",
        "    'AU09_r': [0.0] * 20,\n",
        "    'AU10_r': [0.0] * 20,\n",
        "    'AU12_r': [0.0] * 20,\n",
        "    'AU14_r': [0.0] * 20,\n",
        "    'AU15_r': [0.0] * 20,\n",
        "    'AU17_r': [0.0] * 20,\n",
        "    'AU20_r': [0.0] * 20,\n",
        "    'AU23_r': [0.0] * 20,\n",
        "    'AU25_r': [0.0] * 20,\n",
        "    'AU26_r': [0.0] * 20,\n",
        "    'AU45_r': [0.0] * 20,\n",
        "    'ID': [80] * 20,\n",
        "    'Timeframe': [[4, 5, 6]] * 20\n",
        "}\n",
        "\n",
        "# List of IDs to replicate the data for\n",
        "ids = [80, 81, 82, 83, 84]\n",
        "\n",
        "# Create a list to hold individual DataFrames for each ID\n",
        "dfs = []\n",
        "\n",
        "# Replicate the data for each ID\n",
        "for id_ in ids:\n",
        "    data_copy = data_single.copy()  # Make a copy of the data for each ID\n",
        "    data_copy['ID'] = [id_] * 20  # Update ID values\n",
        "    dfs.append(pd.DataFrame(data_copy))\n",
        "\n",
        "# Concatenate all DataFrames into one\n",
        "dummy = pd.concat(dfs, ignore_index=True)"
      ]
    },
    {
      "cell_type": "code",
      "execution_count": 23,
      "metadata": {},
      "outputs": [
        {
          "name": "stdout",
          "output_type": "stream",
          "text": [
            "(100, 23)\n"
          ]
        }
      ],
      "source": [
        "print(dummy.shape)"
      ]
    },
    {
      "cell_type": "code",
      "execution_count": 24,
      "metadata": {},
      "outputs": [
        {
          "name": "stdout",
          "output_type": "stream",
          "text": [
            "5\n"
          ]
        }
      ],
      "source": [
        "print(len(dummy['ID'].unique()))\n",
        "\n",
        "# I have 5 unique IDs "
      ]
    },
    {
      "cell_type": "code",
      "execution_count": 47,
      "metadata": {},
      "outputs": [],
      "source": [
        "dummy.to_csv('/Users/dionnespaltman/Desktop/downloading_new/dummy_tsfresh.csv', index=True)\n"
      ]
    },
    {
      "cell_type": "code",
      "execution_count": 25,
      "metadata": {},
      "outputs": [
        {
          "name": "stdout",
          "output_type": "stream",
          "text": [
            "frame         0\n",
            "face_id       0\n",
            "confidence    0\n",
            "success       0\n",
            "AU01_r        0\n",
            "AU02_r        0\n",
            "AU04_r        0\n",
            "AU05_r        0\n",
            "AU06_r        0\n",
            "AU07_r        0\n",
            "AU09_r        0\n",
            "AU10_r        0\n",
            "AU12_r        0\n",
            "AU14_r        0\n",
            "AU15_r        0\n",
            "AU17_r        0\n",
            "AU20_r        0\n",
            "AU23_r        0\n",
            "AU25_r        0\n",
            "AU26_r        0\n",
            "AU45_r        0\n",
            "ID            0\n",
            "Timeframe     0\n",
            "dtype: int64\n"
          ]
        }
      ],
      "source": [
        "nan_counts_dummy = dummy.isna().sum()\n",
        "print(nan_counts_dummy)"
      ]
    },
    {
      "cell_type": "code",
      "execution_count": 26,
      "metadata": {},
      "outputs": [
        {
          "name": "stdout",
          "output_type": "stream",
          "text": [
            "frame         100\n",
            "face_id       100\n",
            "confidence    100\n",
            "success       100\n",
            "AU01_r        100\n",
            "AU02_r        100\n",
            "AU04_r        100\n",
            "AU05_r        100\n",
            "AU06_r        100\n",
            "AU07_r        100\n",
            "AU09_r        100\n",
            "AU10_r        100\n",
            "AU12_r        100\n",
            "AU14_r        100\n",
            "AU15_r        100\n",
            "AU17_r        100\n",
            "AU20_r        100\n",
            "AU23_r        100\n",
            "AU25_r        100\n",
            "AU26_r        100\n",
            "AU45_r        100\n",
            "ID            100\n",
            "Timeframe     100\n",
            "dtype: int64\n"
          ]
        }
      ],
      "source": [
        "not_nan_counts_dummy = dummy.count()\n",
        "print(not_nan_counts_dummy)"
      ]
    },
    {
      "cell_type": "code",
      "execution_count": 27,
      "metadata": {
        "colab": {
          "base_uri": "https://localhost:8080/"
        },
        "id": "40_DdinPSGFd",
        "outputId": "b6591ca9-0424-430b-de30-de9bef74d4f9"
      },
      "outputs": [
        {
          "name": "stdout",
          "output_type": "stream",
          "text": [
            "Requirement already satisfied: tsfresh in /Users/dionnespaltman/anaconda3/lib/python3.10/site-packages (0.20.2)\n",
            "Requirement already satisfied: statsmodels>=0.13 in /Users/dionnespaltman/anaconda3/lib/python3.10/site-packages (from tsfresh) (0.13.5)\n",
            "Requirement already satisfied: cloudpickle in /Users/dionnespaltman/anaconda3/lib/python3.10/site-packages (from tsfresh) (2.0.0)\n",
            "Requirement already satisfied: numpy>=1.15.1 in /Users/dionnespaltman/anaconda3/lib/python3.10/site-packages (from tsfresh) (1.23.5)\n",
            "Requirement already satisfied: patsy>=0.4.1 in /Users/dionnespaltman/anaconda3/lib/python3.10/site-packages (from tsfresh) (0.5.3)\n",
            "Requirement already satisfied: scikit-learn>=0.22.0 in /Users/dionnespaltman/anaconda3/lib/python3.10/site-packages (from tsfresh) (1.2.1)\n",
            "Requirement already satisfied: requests>=2.9.1 in /Users/dionnespaltman/anaconda3/lib/python3.10/site-packages (from tsfresh) (2.28.1)\n",
            "Requirement already satisfied: pandas>=0.25.0 in /Users/dionnespaltman/anaconda3/lib/python3.10/site-packages (from tsfresh) (1.4.4)\n",
            "Requirement already satisfied: tqdm>=4.10.0 in /Users/dionnespaltman/anaconda3/lib/python3.10/site-packages (from tsfresh) (4.64.1)\n",
            "Requirement already satisfied: scipy>=1.2.0 in /Users/dionnespaltman/anaconda3/lib/python3.10/site-packages (from tsfresh) (1.10.0)\n",
            "Requirement already satisfied: stumpy>=1.7.2 in /Users/dionnespaltman/anaconda3/lib/python3.10/site-packages (from tsfresh) (1.12.0)\n",
            "Requirement already satisfied: python-dateutil>=2.8.1 in /Users/dionnespaltman/anaconda3/lib/python3.10/site-packages (from pandas>=0.25.0->tsfresh) (2.8.2)\n",
            "Requirement already satisfied: pytz>=2020.1 in /Users/dionnespaltman/anaconda3/lib/python3.10/site-packages (from pandas>=0.25.0->tsfresh) (2022.7)\n",
            "Requirement already satisfied: six in /Users/dionnespaltman/anaconda3/lib/python3.10/site-packages (from patsy>=0.4.1->tsfresh) (1.16.0)\n",
            "Requirement already satisfied: idna<4,>=2.5 in /Users/dionnespaltman/anaconda3/lib/python3.10/site-packages (from requests>=2.9.1->tsfresh) (3.4)\n",
            "Requirement already satisfied: charset-normalizer<3,>=2 in /Users/dionnespaltman/anaconda3/lib/python3.10/site-packages (from requests>=2.9.1->tsfresh) (2.0.4)\n",
            "Requirement already satisfied: urllib3<1.27,>=1.21.1 in /Users/dionnespaltman/anaconda3/lib/python3.10/site-packages (from requests>=2.9.1->tsfresh) (1.26.14)\n",
            "Requirement already satisfied: certifi>=2017.4.17 in /Users/dionnespaltman/anaconda3/lib/python3.10/site-packages (from requests>=2.9.1->tsfresh) (2023.7.22)\n",
            "Requirement already satisfied: joblib>=1.1.1 in /Users/dionnespaltman/anaconda3/lib/python3.10/site-packages (from scikit-learn>=0.22.0->tsfresh) (1.1.1)\n",
            "Requirement already satisfied: threadpoolctl>=2.0.0 in /Users/dionnespaltman/anaconda3/lib/python3.10/site-packages (from scikit-learn>=0.22.0->tsfresh) (2.2.0)\n",
            "Requirement already satisfied: packaging>=21.3 in /Users/dionnespaltman/anaconda3/lib/python3.10/site-packages (from statsmodels>=0.13->tsfresh) (22.0)\n",
            "Requirement already satisfied: numba>=0.55.2 in /Users/dionnespaltman/anaconda3/lib/python3.10/site-packages (from stumpy>=1.7.2->tsfresh) (0.56.4)\n",
            "Requirement already satisfied: setuptools in /Users/dionnespaltman/anaconda3/lib/python3.10/site-packages (from numba>=0.55.2->stumpy>=1.7.2->tsfresh) (65.6.3)\n",
            "Requirement already satisfied: llvmlite<0.40,>=0.39.0dev0 in /Users/dionnespaltman/anaconda3/lib/python3.10/site-packages (from numba>=0.55.2->stumpy>=1.7.2->tsfresh) (0.39.1)\n"
          ]
        }
      ],
      "source": [
        "# Necessary imports\n",
        "!pip install tsfresh\n",
        "\n",
        "import pandas as pd\n",
        "from tsfresh import extract_features\n",
        "from tsfresh.feature_extraction import EfficientFCParameters\n",
        "from sklearn.preprocessing import StandardScaler"
      ]
    },
    {
      "cell_type": "markdown",
      "metadata": {},
      "source": [
        "I'm only interested in the intensity values (so the variables with R at the end, not C). "
      ]
    },
    {
      "cell_type": "code",
      "execution_count": 31,
      "metadata": {
        "id": "OL9Z0xyTSGIV"
      },
      "outputs": [],
      "source": [
        "dummy_long_format = pd.melt(dummy, id_vars=['ID', 'frame'],\n",
        "                                   var_name='measurement', value_name='value',\n",
        "                                   value_vars=['AU01_r', 'AU02_r',\n",
        "       'AU04_r', 'AU05_r', 'AU06_r', 'AU07_r', 'AU09_r', 'AU10_r',\n",
        "       'AU12_r', 'AU14_r', 'AU15_r', 'AU17_r', 'AU20_r', 'AU23_r',\n",
        "       'AU25_r', 'AU26_r', 'AU45_r'])"
      ]
    },
    {
      "cell_type": "code",
      "execution_count": 32,
      "metadata": {},
      "outputs": [
        {
          "data": {
            "text/html": [
              "<div>\n",
              "<style scoped>\n",
              "    .dataframe tbody tr th:only-of-type {\n",
              "        vertical-align: middle;\n",
              "    }\n",
              "\n",
              "    .dataframe tbody tr th {\n",
              "        vertical-align: top;\n",
              "    }\n",
              "\n",
              "    .dataframe thead th {\n",
              "        text-align: right;\n",
              "    }\n",
              "</style>\n",
              "<table border=\"1\" class=\"dataframe\">\n",
              "  <thead>\n",
              "    <tr style=\"text-align: right;\">\n",
              "      <th></th>\n",
              "      <th>ID</th>\n",
              "      <th>frame</th>\n",
              "      <th>measurement</th>\n",
              "      <th>value</th>\n",
              "    </tr>\n",
              "  </thead>\n",
              "  <tbody>\n",
              "    <tr>\n",
              "      <th>0</th>\n",
              "      <td>80</td>\n",
              "      <td>104</td>\n",
              "      <td>AU01_r</td>\n",
              "      <td>0.00</td>\n",
              "    </tr>\n",
              "    <tr>\n",
              "      <th>1</th>\n",
              "      <td>80</td>\n",
              "      <td>105</td>\n",
              "      <td>AU01_r</td>\n",
              "      <td>0.00</td>\n",
              "    </tr>\n",
              "    <tr>\n",
              "      <th>2</th>\n",
              "      <td>80</td>\n",
              "      <td>112</td>\n",
              "      <td>AU01_r</td>\n",
              "      <td>0.31</td>\n",
              "    </tr>\n",
              "    <tr>\n",
              "      <th>3</th>\n",
              "      <td>80</td>\n",
              "      <td>115</td>\n",
              "      <td>AU01_r</td>\n",
              "      <td>0.00</td>\n",
              "    </tr>\n",
              "    <tr>\n",
              "      <th>4</th>\n",
              "      <td>80</td>\n",
              "      <td>154</td>\n",
              "      <td>AU01_r</td>\n",
              "      <td>1.26</td>\n",
              "    </tr>\n",
              "    <tr>\n",
              "      <th>...</th>\n",
              "      <td>...</td>\n",
              "      <td>...</td>\n",
              "      <td>...</td>\n",
              "      <td>...</td>\n",
              "    </tr>\n",
              "    <tr>\n",
              "      <th>1695</th>\n",
              "      <td>84</td>\n",
              "      <td>199</td>\n",
              "      <td>AU45_r</td>\n",
              "      <td>0.00</td>\n",
              "    </tr>\n",
              "    <tr>\n",
              "      <th>1696</th>\n",
              "      <td>84</td>\n",
              "      <td>208</td>\n",
              "      <td>AU45_r</td>\n",
              "      <td>0.00</td>\n",
              "    </tr>\n",
              "    <tr>\n",
              "      <th>1697</th>\n",
              "      <td>84</td>\n",
              "      <td>213</td>\n",
              "      <td>AU45_r</td>\n",
              "      <td>0.00</td>\n",
              "    </tr>\n",
              "    <tr>\n",
              "      <th>1698</th>\n",
              "      <td>84</td>\n",
              "      <td>214</td>\n",
              "      <td>AU45_r</td>\n",
              "      <td>0.00</td>\n",
              "    </tr>\n",
              "    <tr>\n",
              "      <th>1699</th>\n",
              "      <td>84</td>\n",
              "      <td>215</td>\n",
              "      <td>AU45_r</td>\n",
              "      <td>0.00</td>\n",
              "    </tr>\n",
              "  </tbody>\n",
              "</table>\n",
              "<p>1700 rows × 4 columns</p>\n",
              "</div>"
            ],
            "text/plain": [
              "      ID  frame measurement  value\n",
              "0     80    104      AU01_r   0.00\n",
              "1     80    105      AU01_r   0.00\n",
              "2     80    112      AU01_r   0.31\n",
              "3     80    115      AU01_r   0.00\n",
              "4     80    154      AU01_r   1.26\n",
              "...   ..    ...         ...    ...\n",
              "1695  84    199      AU45_r   0.00\n",
              "1696  84    208      AU45_r   0.00\n",
              "1697  84    213      AU45_r   0.00\n",
              "1698  84    214      AU45_r   0.00\n",
              "1699  84    215      AU45_r   0.00\n",
              "\n",
              "[1700 rows x 4 columns]"
            ]
          },
          "metadata": {},
          "output_type": "display_data"
        }
      ],
      "source": [
        "display(dummy_long_format)"
      ]
    },
    {
      "cell_type": "markdown",
      "metadata": {},
      "source": [
        "There are a lot of missing values. "
      ]
    },
    {
      "cell_type": "code",
      "execution_count": 33,
      "metadata": {},
      "outputs": [
        {
          "name": "stdout",
          "output_type": "stream",
          "text": [
            "ID             0\n",
            "frame          0\n",
            "measurement    0\n",
            "value          0\n",
            "dtype: int64\n"
          ]
        }
      ],
      "source": [
        "nan_counts = dummy_long_format.isna().sum()\n",
        "print(nan_counts)"
      ]
    },
    {
      "cell_type": "code",
      "execution_count": 34,
      "metadata": {
        "colab": {
          "base_uri": "https://localhost:8080/"
        },
        "id": "hInmv7hJSdH0",
        "outputId": "74c7ae12-6254-4f26-9188-206a0229c258"
      },
      "outputs": [
        {
          "name": "stdout",
          "output_type": "stream",
          "text": [
            "Requirement already satisfied: tsfresh in /Users/dionnespaltman/anaconda3/lib/python3.10/site-packages (0.20.2)\n",
            "Requirement already satisfied: stumpy>=1.7.2 in /Users/dionnespaltman/anaconda3/lib/python3.10/site-packages (from tsfresh) (1.12.0)\n",
            "Requirement already satisfied: statsmodels>=0.13 in /Users/dionnespaltman/anaconda3/lib/python3.10/site-packages (from tsfresh) (0.13.5)\n",
            "Requirement already satisfied: numpy>=1.15.1 in /Users/dionnespaltman/anaconda3/lib/python3.10/site-packages (from tsfresh) (1.23.5)\n",
            "Requirement already satisfied: scipy>=1.2.0 in /Users/dionnespaltman/anaconda3/lib/python3.10/site-packages (from tsfresh) (1.10.0)\n",
            "Requirement already satisfied: pandas>=0.25.0 in /Users/dionnespaltman/anaconda3/lib/python3.10/site-packages (from tsfresh) (1.4.4)\n",
            "Requirement already satisfied: requests>=2.9.1 in /Users/dionnespaltman/anaconda3/lib/python3.10/site-packages (from tsfresh) (2.28.1)\n",
            "Requirement already satisfied: scikit-learn>=0.22.0 in /Users/dionnespaltman/anaconda3/lib/python3.10/site-packages (from tsfresh) (1.2.1)\n",
            "Requirement already satisfied: patsy>=0.4.1 in /Users/dionnespaltman/anaconda3/lib/python3.10/site-packages (from tsfresh) (0.5.3)\n",
            "Requirement already satisfied: cloudpickle in /Users/dionnespaltman/anaconda3/lib/python3.10/site-packages (from tsfresh) (2.0.0)\n",
            "Requirement already satisfied: tqdm>=4.10.0 in /Users/dionnespaltman/anaconda3/lib/python3.10/site-packages (from tsfresh) (4.64.1)\n",
            "Requirement already satisfied: pytz>=2020.1 in /Users/dionnespaltman/anaconda3/lib/python3.10/site-packages (from pandas>=0.25.0->tsfresh) (2022.7)\n",
            "Requirement already satisfied: python-dateutil>=2.8.1 in /Users/dionnespaltman/anaconda3/lib/python3.10/site-packages (from pandas>=0.25.0->tsfresh) (2.8.2)\n",
            "Requirement already satisfied: six in /Users/dionnespaltman/anaconda3/lib/python3.10/site-packages (from patsy>=0.4.1->tsfresh) (1.16.0)\n",
            "Requirement already satisfied: urllib3<1.27,>=1.21.1 in /Users/dionnespaltman/anaconda3/lib/python3.10/site-packages (from requests>=2.9.1->tsfresh) (1.26.14)\n",
            "Requirement already satisfied: idna<4,>=2.5 in /Users/dionnespaltman/anaconda3/lib/python3.10/site-packages (from requests>=2.9.1->tsfresh) (3.4)\n",
            "Requirement already satisfied: certifi>=2017.4.17 in /Users/dionnespaltman/anaconda3/lib/python3.10/site-packages (from requests>=2.9.1->tsfresh) (2023.7.22)\n",
            "Requirement already satisfied: charset-normalizer<3,>=2 in /Users/dionnespaltman/anaconda3/lib/python3.10/site-packages (from requests>=2.9.1->tsfresh) (2.0.4)\n",
            "Requirement already satisfied: threadpoolctl>=2.0.0 in /Users/dionnespaltman/anaconda3/lib/python3.10/site-packages (from scikit-learn>=0.22.0->tsfresh) (2.2.0)\n",
            "Requirement already satisfied: joblib>=1.1.1 in /Users/dionnespaltman/anaconda3/lib/python3.10/site-packages (from scikit-learn>=0.22.0->tsfresh) (1.1.1)\n",
            "Requirement already satisfied: packaging>=21.3 in /Users/dionnespaltman/anaconda3/lib/python3.10/site-packages (from statsmodels>=0.13->tsfresh) (22.0)\n",
            "Requirement already satisfied: numba>=0.55.2 in /Users/dionnespaltman/anaconda3/lib/python3.10/site-packages (from stumpy>=1.7.2->tsfresh) (0.56.4)\n",
            "Requirement already satisfied: llvmlite<0.40,>=0.39.0dev0 in /Users/dionnespaltman/anaconda3/lib/python3.10/site-packages (from numba>=0.55.2->stumpy>=1.7.2->tsfresh) (0.39.1)\n",
            "Requirement already satisfied: setuptools in /Users/dionnespaltman/anaconda3/lib/python3.10/site-packages (from numba>=0.55.2->stumpy>=1.7.2->tsfresh) (65.6.3)\n"
          ]
        }
      ],
      "source": [
        "!pip install tsfresh\n",
        "from tsfresh import extract_features"
      ]
    },
    {
      "cell_type": "markdown",
      "metadata": {},
      "source": [
        "In Judita her article, she used the following six intensity level characteristics: sum, variance, standard deviation, maximum, mean, and mean-root square values (total number of extracted features = 102). \n",
        "\n",
        "The code down below doesn't run, because the value contains NaN values (also seen above, where I counted the occurences of NaN values). "
      ]
    },
    {
      "cell_type": "code",
      "execution_count": 38,
      "metadata": {
        "colab": {
          "base_uri": "https://localhost:8080/"
        },
        "id": "jMUfK15mSC1N",
        "outputId": "468c35d8-c286-4883-8e54-e10aac6fd025"
      },
      "outputs": [
        {
          "name": "stderr",
          "output_type": "stream",
          "text": [
            "Feature Extraction: 100%|██████████| 17/17 [00:02<00:00,  7.08it/s]\n"
          ]
        }
      ],
      "source": [
        "from tsfresh.feature_extraction import ComprehensiveFCParameters\n",
        "\n",
        "# Specificeer de gewenste kenmerken\n",
        "settings = {\n",
        "    #'sum': {},\n",
        "    'sum_values': {},\n",
        "    'variance': {},\n",
        "    'standard_deviation': {},\n",
        "    'maximum': {},\n",
        "    'minimum': {},\n",
        "    #'median': {},\n",
        "    'mean': {},\n",
        "    'mean_abs_change': {},  #proxy voor gemiddelde van de wortel van de kwadraten als 'mean root square' niet direct beschikbaar is\n",
        "    #'agg_linear_trend': [{'attr': 'slope', 'f_agg': 'max', 'chunk_len': 5}, {'attr': 'slope', 'f_agg': 'min', 'chunk_len': 5}]  #maximale en minimale helling\n",
        "}\n",
        "\n",
        "# Extract features met aangepaste instellingen\n",
        "extracted_features_dummy = extract_features(\n",
        "    dummy_long_format,\n",
        "    column_id='ID',  # Identifies the time series\n",
        "    column_sort='frame',  # Orders the time points\n",
        "    column_kind='measurement',  # Distinguishes between different variables if necessary\n",
        "    column_value='value',  # The actual measurements\n",
        "    default_fc_parameters=settings\n",
        ")\n"
      ]
    },
    {
      "cell_type": "code",
      "execution_count": 39,
      "metadata": {
        "colab": {
          "base_uri": "https://localhost:8080/"
        },
        "id": "8nwW2y7vZCCl",
        "outputId": "c9ddf97a-3591-430d-8474-46254125eea3"
      },
      "outputs": [
        {
          "name": "stdout",
          "output_type": "stream",
          "text": [
            "<bound method NDFrame.head of     AU07_r__sum_values  AU07_r__variance  AU07_r__standard_deviation  \\\n",
            "80                6.34          0.306451                     0.55358   \n",
            "81                6.34          0.306451                     0.55358   \n",
            "82                6.34          0.306451                     0.55358   \n",
            "83                6.34          0.306451                     0.55358   \n",
            "84                6.34          0.306451                     0.55358   \n",
            "\n",
            "    AU07_r__maximum  AU07_r__minimum  AU07_r__mean  AU07_r__mean_abs_change  \\\n",
            "80             1.92              0.0         0.317                 0.244211   \n",
            "81             1.92              0.0         0.317                 0.244211   \n",
            "82             1.92              0.0         0.317                 0.244211   \n",
            "83             1.92              0.0         0.317                 0.244211   \n",
            "84             1.92              0.0         0.317                 0.244211   \n",
            "\n",
            "    AU09_r__sum_values  AU09_r__variance  AU09_r__standard_deviation  ...  \\\n",
            "80                 0.0               0.0                         0.0  ...   \n",
            "81                 0.0               0.0                         0.0  ...   \n",
            "82                 0.0               0.0                         0.0  ...   \n",
            "83                 0.0               0.0                         0.0  ...   \n",
            "84                 0.0               0.0                         0.0  ...   \n",
            "\n",
            "    AU23_r__minimum  AU23_r__mean  AU23_r__mean_abs_change  \\\n",
            "80              0.0           0.0                      0.0   \n",
            "81              0.0           0.0                      0.0   \n",
            "82              0.0           0.0                      0.0   \n",
            "83              0.0           0.0                      0.0   \n",
            "84              0.0           0.0                      0.0   \n",
            "\n",
            "    AU25_r__sum_values  AU25_r__variance  AU25_r__standard_deviation  \\\n",
            "80                 0.0               0.0                         0.0   \n",
            "81                 0.0               0.0                         0.0   \n",
            "82                 0.0               0.0                         0.0   \n",
            "83                 0.0               0.0                         0.0   \n",
            "84                 0.0               0.0                         0.0   \n",
            "\n",
            "    AU25_r__maximum  AU25_r__minimum  AU25_r__mean  AU25_r__mean_abs_change  \n",
            "80              0.0              0.0           0.0                      0.0  \n",
            "81              0.0              0.0           0.0                      0.0  \n",
            "82              0.0              0.0           0.0                      0.0  \n",
            "83              0.0              0.0           0.0                      0.0  \n",
            "84              0.0              0.0           0.0                      0.0  \n",
            "\n",
            "[5 rows x 119 columns]>\n"
          ]
        }
      ],
      "source": [
        "print(extracted_features_dummy.head)"
      ]
    },
    {
      "cell_type": "code",
      "execution_count": 44,
      "metadata": {},
      "outputs": [
        {
          "data": {
            "text/html": [
              "<div>\n",
              "<style scoped>\n",
              "    .dataframe tbody tr th:only-of-type {\n",
              "        vertical-align: middle;\n",
              "    }\n",
              "\n",
              "    .dataframe tbody tr th {\n",
              "        vertical-align: top;\n",
              "    }\n",
              "\n",
              "    .dataframe thead th {\n",
              "        text-align: right;\n",
              "    }\n",
              "</style>\n",
              "<table border=\"1\" class=\"dataframe\">\n",
              "  <thead>\n",
              "    <tr style=\"text-align: right;\">\n",
              "      <th></th>\n",
              "      <th>AU07_r__sum_values</th>\n",
              "      <th>AU07_r__variance</th>\n",
              "      <th>AU07_r__standard_deviation</th>\n",
              "      <th>AU07_r__maximum</th>\n",
              "      <th>AU07_r__minimum</th>\n",
              "      <th>AU07_r__mean</th>\n",
              "      <th>AU07_r__mean_abs_change</th>\n",
              "      <th>AU09_r__sum_values</th>\n",
              "      <th>AU09_r__variance</th>\n",
              "      <th>AU09_r__standard_deviation</th>\n",
              "      <th>...</th>\n",
              "      <th>AU23_r__minimum</th>\n",
              "      <th>AU23_r__mean</th>\n",
              "      <th>AU23_r__mean_abs_change</th>\n",
              "      <th>AU25_r__sum_values</th>\n",
              "      <th>AU25_r__variance</th>\n",
              "      <th>AU25_r__standard_deviation</th>\n",
              "      <th>AU25_r__maximum</th>\n",
              "      <th>AU25_r__minimum</th>\n",
              "      <th>AU25_r__mean</th>\n",
              "      <th>AU25_r__mean_abs_change</th>\n",
              "    </tr>\n",
              "  </thead>\n",
              "  <tbody>\n",
              "    <tr>\n",
              "      <th>80</th>\n",
              "      <td>6.34</td>\n",
              "      <td>0.306451</td>\n",
              "      <td>0.55358</td>\n",
              "      <td>1.92</td>\n",
              "      <td>0.0</td>\n",
              "      <td>0.317</td>\n",
              "      <td>0.244211</td>\n",
              "      <td>0.0</td>\n",
              "      <td>0.0</td>\n",
              "      <td>0.0</td>\n",
              "      <td>...</td>\n",
              "      <td>0.0</td>\n",
              "      <td>0.0</td>\n",
              "      <td>0.0</td>\n",
              "      <td>0.0</td>\n",
              "      <td>0.0</td>\n",
              "      <td>0.0</td>\n",
              "      <td>0.0</td>\n",
              "      <td>0.0</td>\n",
              "      <td>0.0</td>\n",
              "      <td>0.0</td>\n",
              "    </tr>\n",
              "    <tr>\n",
              "      <th>81</th>\n",
              "      <td>6.34</td>\n",
              "      <td>0.306451</td>\n",
              "      <td>0.55358</td>\n",
              "      <td>1.92</td>\n",
              "      <td>0.0</td>\n",
              "      <td>0.317</td>\n",
              "      <td>0.244211</td>\n",
              "      <td>0.0</td>\n",
              "      <td>0.0</td>\n",
              "      <td>0.0</td>\n",
              "      <td>...</td>\n",
              "      <td>0.0</td>\n",
              "      <td>0.0</td>\n",
              "      <td>0.0</td>\n",
              "      <td>0.0</td>\n",
              "      <td>0.0</td>\n",
              "      <td>0.0</td>\n",
              "      <td>0.0</td>\n",
              "      <td>0.0</td>\n",
              "      <td>0.0</td>\n",
              "      <td>0.0</td>\n",
              "    </tr>\n",
              "    <tr>\n",
              "      <th>82</th>\n",
              "      <td>6.34</td>\n",
              "      <td>0.306451</td>\n",
              "      <td>0.55358</td>\n",
              "      <td>1.92</td>\n",
              "      <td>0.0</td>\n",
              "      <td>0.317</td>\n",
              "      <td>0.244211</td>\n",
              "      <td>0.0</td>\n",
              "      <td>0.0</td>\n",
              "      <td>0.0</td>\n",
              "      <td>...</td>\n",
              "      <td>0.0</td>\n",
              "      <td>0.0</td>\n",
              "      <td>0.0</td>\n",
              "      <td>0.0</td>\n",
              "      <td>0.0</td>\n",
              "      <td>0.0</td>\n",
              "      <td>0.0</td>\n",
              "      <td>0.0</td>\n",
              "      <td>0.0</td>\n",
              "      <td>0.0</td>\n",
              "    </tr>\n",
              "    <tr>\n",
              "      <th>83</th>\n",
              "      <td>6.34</td>\n",
              "      <td>0.306451</td>\n",
              "      <td>0.55358</td>\n",
              "      <td>1.92</td>\n",
              "      <td>0.0</td>\n",
              "      <td>0.317</td>\n",
              "      <td>0.244211</td>\n",
              "      <td>0.0</td>\n",
              "      <td>0.0</td>\n",
              "      <td>0.0</td>\n",
              "      <td>...</td>\n",
              "      <td>0.0</td>\n",
              "      <td>0.0</td>\n",
              "      <td>0.0</td>\n",
              "      <td>0.0</td>\n",
              "      <td>0.0</td>\n",
              "      <td>0.0</td>\n",
              "      <td>0.0</td>\n",
              "      <td>0.0</td>\n",
              "      <td>0.0</td>\n",
              "      <td>0.0</td>\n",
              "    </tr>\n",
              "    <tr>\n",
              "      <th>84</th>\n",
              "      <td>6.34</td>\n",
              "      <td>0.306451</td>\n",
              "      <td>0.55358</td>\n",
              "      <td>1.92</td>\n",
              "      <td>0.0</td>\n",
              "      <td>0.317</td>\n",
              "      <td>0.244211</td>\n",
              "      <td>0.0</td>\n",
              "      <td>0.0</td>\n",
              "      <td>0.0</td>\n",
              "      <td>...</td>\n",
              "      <td>0.0</td>\n",
              "      <td>0.0</td>\n",
              "      <td>0.0</td>\n",
              "      <td>0.0</td>\n",
              "      <td>0.0</td>\n",
              "      <td>0.0</td>\n",
              "      <td>0.0</td>\n",
              "      <td>0.0</td>\n",
              "      <td>0.0</td>\n",
              "      <td>0.0</td>\n",
              "    </tr>\n",
              "  </tbody>\n",
              "</table>\n",
              "<p>5 rows × 119 columns</p>\n",
              "</div>"
            ],
            "text/plain": [
              "    AU07_r__sum_values  AU07_r__variance  AU07_r__standard_deviation  \\\n",
              "80                6.34          0.306451                     0.55358   \n",
              "81                6.34          0.306451                     0.55358   \n",
              "82                6.34          0.306451                     0.55358   \n",
              "83                6.34          0.306451                     0.55358   \n",
              "84                6.34          0.306451                     0.55358   \n",
              "\n",
              "    AU07_r__maximum  AU07_r__minimum  AU07_r__mean  AU07_r__mean_abs_change  \\\n",
              "80             1.92              0.0         0.317                 0.244211   \n",
              "81             1.92              0.0         0.317                 0.244211   \n",
              "82             1.92              0.0         0.317                 0.244211   \n",
              "83             1.92              0.0         0.317                 0.244211   \n",
              "84             1.92              0.0         0.317                 0.244211   \n",
              "\n",
              "    AU09_r__sum_values  AU09_r__variance  AU09_r__standard_deviation  ...  \\\n",
              "80                 0.0               0.0                         0.0  ...   \n",
              "81                 0.0               0.0                         0.0  ...   \n",
              "82                 0.0               0.0                         0.0  ...   \n",
              "83                 0.0               0.0                         0.0  ...   \n",
              "84                 0.0               0.0                         0.0  ...   \n",
              "\n",
              "    AU23_r__minimum  AU23_r__mean  AU23_r__mean_abs_change  \\\n",
              "80              0.0           0.0                      0.0   \n",
              "81              0.0           0.0                      0.0   \n",
              "82              0.0           0.0                      0.0   \n",
              "83              0.0           0.0                      0.0   \n",
              "84              0.0           0.0                      0.0   \n",
              "\n",
              "    AU25_r__sum_values  AU25_r__variance  AU25_r__standard_deviation  \\\n",
              "80                 0.0               0.0                         0.0   \n",
              "81                 0.0               0.0                         0.0   \n",
              "82                 0.0               0.0                         0.0   \n",
              "83                 0.0               0.0                         0.0   \n",
              "84                 0.0               0.0                         0.0   \n",
              "\n",
              "    AU25_r__maximum  AU25_r__minimum  AU25_r__mean  AU25_r__mean_abs_change  \n",
              "80              0.0              0.0           0.0                      0.0  \n",
              "81              0.0              0.0           0.0                      0.0  \n",
              "82              0.0              0.0           0.0                      0.0  \n",
              "83              0.0              0.0           0.0                      0.0  \n",
              "84              0.0              0.0           0.0                      0.0  \n",
              "\n",
              "[5 rows x 119 columns]"
            ]
          },
          "metadata": {},
          "output_type": "display_data"
        }
      ],
      "source": [
        "display(extracted_features_dummy)"
      ]
    },
    {
      "cell_type": "code",
      "execution_count": 41,
      "metadata": {},
      "outputs": [
        {
          "name": "stdout",
          "output_type": "stream",
          "text": [
            "(5, 119)\n"
          ]
        }
      ],
      "source": [
        "print(extracted_features_dummy.shape)"
      ]
    },
    {
      "cell_type": "markdown",
      "metadata": {},
      "source": [
        "The ID can be found in the index! "
      ]
    },
    {
      "cell_type": "code",
      "execution_count": 46,
      "metadata": {},
      "outputs": [],
      "source": [
        "extracted_features_dummy.to_csv('/Users/dionnespaltman/Desktop/downloading_new/extracted_features_dummy.csv', index=True)\n"
      ]
    }
  ],
  "metadata": {
    "colab": {
      "provenance": []
    },
    "kernelspec": {
      "display_name": "Python 3",
      "name": "python3"
    },
    "language_info": {
      "codemirror_mode": {
        "name": "ipython",
        "version": 3
      },
      "file_extension": ".py",
      "mimetype": "text/x-python",
      "name": "python",
      "nbconvert_exporter": "python",
      "pygments_lexer": "ipython3",
      "version": "3.10.9"
    }
  },
  "nbformat": 4,
  "nbformat_minor": 0
}
