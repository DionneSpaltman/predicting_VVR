{
  "cells": [
    {
      "cell_type": "markdown",
      "metadata": {},
      "source": [
        "# TS fresh for action units"
      ]
    },
    {
      "cell_type": "code",
      "execution_count": 12,
      "metadata": {},
      "outputs": [],
      "source": [
        "import pandas as pd\n",
        "import pickle"
      ]
    },
    {
      "cell_type": "code",
      "execution_count": 13,
      "metadata": {
        "id": "yi0nPS3HSF97"
      },
      "outputs": [],
      "source": [
        "# Construct the path \n",
        "path_456_temp = '/Users/dionnespaltman/Desktop/downloading_new/big_dataframe_456.pkl'\n",
        "\n",
        "# Load the dataset\n",
        "action_units = pd.read_pickle(path_456_temp)"
      ]
    },
    {
      "cell_type": "code",
      "execution_count": 14,
      "metadata": {
        "colab": {
          "base_uri": "https://localhost:8080/"
        },
        "id": "z0ge5BbCSGAi",
        "outputId": "e38060b4-e66e-4828-898a-f6dcb2b670df"
      },
      "outputs": [
        {
          "name": "stdout",
          "output_type": "stream",
          "text": [
            "Index(['frame', 'face_id', 'confidence', ' success', ' AU01_r', ' AU02_r',\n",
            "       ' AU04_r', ' AU05_r', ' AU06_r', ' AU07_r', ' AU09_r', ' AU10_r',\n",
            "       ' AU12_r', ' AU14_r', ' AU15_r', ' AU17_r', ' AU20_r', ' AU23_r',\n",
            "       ' AU25_r', ' AU26_r', ' AU45_r', ' AU01_c', ' AU02_c', ' AU04_c',\n",
            "       ' AU05_c', ' AU06_c', ' AU07_c', ' AU09_c', ' AU10_c', ' AU12_c',\n",
            "       ' AU14_c', ' AU15_c', ' AU17_c', ' AU20_c', ' AU23_c', ' AU25_c',\n",
            "       ' AU26_c', ' AU28_c', ' AU45_c', 'ID', 'Timeframe'],\n",
            "      dtype='object')\n"
          ]
        }
      ],
      "source": [
        "print(action_units.columns)"
      ]
    },
    {
      "cell_type": "code",
      "execution_count": 15,
      "metadata": {},
      "outputs": [
        {
          "name": "stdout",
          "output_type": "stream",
          "text": [
            "   frame  face_id  confidence   success   AU01_r   AU02_r   AU04_r   AU05_r  \\\n",
            "0    104      0.0        0.88       1.0     0.00     0.00      0.0      0.0   \n",
            "1    105      0.0        0.98       1.0     0.00     0.00      0.0      0.0   \n",
            "2    112      0.0        0.98       1.0     0.31     0.59      0.0      0.0   \n",
            "3    115      0.0        0.98       1.0     0.00     0.12      0.0      0.0   \n",
            "4    154      0.0        0.98       1.0     1.26     1.67      0.0      0.0   \n",
            "5    155      0.0        0.98       1.0     1.50     2.48      0.0      0.0   \n",
            "6    156      0.0        0.88       1.0     0.88     2.77      0.0      0.0   \n",
            "7    157      0.0        0.98       1.0     0.34     2.22      0.0      0.0   \n",
            "8    160      0.0        0.98       1.0     0.00     1.30      0.0      0.0   \n",
            "9    161      0.0        0.98       1.0     0.00     1.79      0.0      0.0   \n",
            "10   162      0.0        0.98       1.0     0.00     1.18      0.0      0.0   \n",
            "11   164      0.0        0.98       1.0     0.00     0.59      0.0      0.0   \n",
            "12   165      0.0        0.98       1.0     0.00     0.59      0.0      0.0   \n",
            "13   175      0.0        0.98       1.0     0.20     0.86      0.0      0.0   \n",
            "14   198      0.0        0.98       1.0     1.60     0.91      0.0      0.0   \n",
            "15   199      0.0        0.98       1.0     1.60     0.91      0.0      0.0   \n",
            "16   208      0.0        0.98       1.0     0.00     0.04      0.0      0.0   \n",
            "17   213      0.0        0.98       1.0     0.00     0.00      0.0      0.0   \n",
            "18   214      0.0        0.98       1.0     0.00     0.00      0.0      0.0   \n",
            "19   215      0.0        0.98       1.0     0.00     0.00      0.0      0.0   \n",
            "\n",
            "     AU06_r   AU07_r  ...   AU15_c   AU17_c   AU20_c   AU23_c   AU25_c  \\\n",
            "0      1.34     0.22  ...      0.0      0.0      0.0      0.0      0.0   \n",
            "1      1.34     0.22  ...      0.0      0.0      0.0      0.0      0.0   \n",
            "2      0.31     0.31  ...      0.0      0.0      0.0      0.0      0.0   \n",
            "3      0.32     0.06  ...      0.0      0.0      0.0      0.0      0.0   \n",
            "4      0.39     0.26  ...      1.0      0.0      0.0      0.0      1.0   \n",
            "5      0.60     0.26  ...      1.0      0.0      0.0      0.0      1.0   \n",
            "6      0.59     0.02  ...      1.0      0.0      0.0      0.0      1.0   \n",
            "7      0.73     0.00  ...      1.0      0.0      0.0      0.0      1.0   \n",
            "8      0.19     0.00  ...      1.0      1.0      0.0      0.0      0.0   \n",
            "9      0.25     0.00  ...      1.0      1.0      0.0      0.0      0.0   \n",
            "10     0.12     0.00  ...      1.0      1.0      0.0      0.0      0.0   \n",
            "11     0.29     0.00  ...      1.0      1.0      0.0      0.0      0.0   \n",
            "12     0.29     0.00  ...      0.0      0.0      0.0      0.0      0.0   \n",
            "13     0.11     0.25  ...      0.0      0.0      0.0      0.0      0.0   \n",
            "14     1.13     1.92  ...      0.0      0.0      0.0      0.0      0.0   \n",
            "15     1.13     1.92  ...      0.0      0.0      0.0      0.0      0.0   \n",
            "16     0.23     0.56  ...      0.0      0.0      0.0      0.0      0.0   \n",
            "17     1.02     0.17  ...      0.0      1.0      1.0      0.0      0.0   \n",
            "18     1.71     0.17  ...      0.0      1.0      1.0      0.0      0.0   \n",
            "19     1.93     0.00  ...      0.0      1.0      1.0      0.0      0.0   \n",
            "\n",
            "     AU26_c   AU28_c   AU45_c  ID  Timeframe  \n",
            "0       0.0      0.0      0.0  80  [4, 5, 6]  \n",
            "1       0.0      0.0      0.0  80  [4, 5, 6]  \n",
            "2       0.0      0.0      0.0  80  [4, 5, 6]  \n",
            "3       0.0      0.0      0.0  80  [4, 5, 6]  \n",
            "4       1.0      1.0      0.0  80  [4, 5, 6]  \n",
            "5       1.0      1.0      0.0  80  [4, 5, 6]  \n",
            "6       1.0      1.0      0.0  80  [4, 5, 6]  \n",
            "7       1.0      1.0      0.0  80  [4, 5, 6]  \n",
            "8       0.0      1.0      0.0  80  [4, 5, 6]  \n",
            "9       0.0      1.0      0.0  80  [4, 5, 6]  \n",
            "10      0.0      1.0      0.0  80  [4, 5, 6]  \n",
            "11      0.0      0.0      0.0  80  [4, 5, 6]  \n",
            "12      0.0      0.0      0.0  80  [4, 5, 6]  \n",
            "13      0.0      0.0      0.0  80  [4, 5, 6]  \n",
            "14      0.0      0.0      0.0  80  [4, 5, 6]  \n",
            "15      0.0      0.0      0.0  80  [4, 5, 6]  \n",
            "16      0.0      0.0      0.0  80  [4, 5, 6]  \n",
            "17      0.0      0.0      1.0  80  [4, 5, 6]  \n",
            "18      0.0      0.0      1.0  80  [4, 5, 6]  \n",
            "19      0.0      0.0      1.0  80  [4, 5, 6]  \n",
            "\n",
            "[20 rows x 41 columns]\n"
          ]
        }
      ],
      "source": [
        "print(action_units.head(20))"
      ]
    },
    {
      "cell_type": "code",
      "execution_count": 6,
      "metadata": {},
      "outputs": [
        {
          "name": "stdout",
          "output_type": "stream",
          "text": [
            "184\n"
          ]
        }
      ],
      "source": [
        "print(len(action_units['ID'].unique()))\n",
        "\n",
        "# I have thus 184 unique variables (missing IDs from 147 to 287)"
      ]
    },
    {
      "cell_type": "code",
      "execution_count": 17,
      "metadata": {},
      "outputs": [
        {
          "name": "stdout",
          "output_type": "stream",
          "text": [
            "frame              0\n",
            "face_id            0\n",
            "confidence         0\n",
            " success           0\n",
            " AU01_r       185160\n",
            " AU02_r       185160\n",
            " AU04_r       185160\n",
            " AU05_r       185160\n",
            " AU06_r       185160\n",
            " AU07_r       185160\n",
            " AU09_r       185160\n",
            " AU10_r       185160\n",
            " AU12_r       185160\n",
            " AU14_r       185160\n",
            " AU15_r       185160\n",
            " AU17_r       185160\n",
            " AU20_r       185160\n",
            " AU23_r       185160\n",
            " AU25_r       185160\n",
            " AU26_r       185160\n",
            " AU45_r       185160\n",
            " AU01_c       185160\n",
            " AU02_c       185160\n",
            " AU04_c       185160\n",
            " AU05_c       185160\n",
            " AU06_c       185160\n",
            " AU07_c       185160\n",
            " AU09_c       185160\n",
            " AU10_c       185160\n",
            " AU12_c       185160\n",
            " AU14_c       185160\n",
            " AU15_c       185160\n",
            " AU17_c       185160\n",
            " AU20_c       185160\n",
            " AU23_c       185160\n",
            " AU25_c       185160\n",
            " AU26_c       185160\n",
            " AU28_c       185160\n",
            " AU45_c       185160\n",
            "ID                 0\n",
            "Timeframe          0\n",
            "dtype: int64\n"
          ]
        }
      ],
      "source": [
        "nan_counts_au_df = action_units.isna().sum()\n",
        "print(nan_counts_au_df)"
      ]
    },
    {
      "cell_type": "code",
      "execution_count": 16,
      "metadata": {},
      "outputs": [
        {
          "name": "stdout",
          "output_type": "stream",
          "text": [
            "frame         2313881\n",
            "face_id       2313881\n",
            "confidence    2313881\n",
            " success      2313881\n",
            " AU01_r       2128721\n",
            " AU02_r       2128721\n",
            " AU04_r       2128721\n",
            " AU05_r       2128721\n",
            " AU06_r       2128721\n",
            " AU07_r       2128721\n",
            " AU09_r       2128721\n",
            " AU10_r       2128721\n",
            " AU12_r       2128721\n",
            " AU14_r       2128721\n",
            " AU15_r       2128721\n",
            " AU17_r       2128721\n",
            " AU20_r       2128721\n",
            " AU23_r       2128721\n",
            " AU25_r       2128721\n",
            " AU26_r       2128721\n",
            " AU45_r       2128721\n",
            " AU01_c       2128721\n",
            " AU02_c       2128721\n",
            " AU04_c       2128721\n",
            " AU05_c       2128721\n",
            " AU06_c       2128721\n",
            " AU07_c       2128721\n",
            " AU09_c       2128721\n",
            " AU10_c       2128721\n",
            " AU12_c       2128721\n",
            " AU14_c       2128721\n",
            " AU15_c       2128721\n",
            " AU17_c       2128721\n",
            " AU20_c       2128721\n",
            " AU23_c       2128721\n",
            " AU25_c       2128721\n",
            " AU26_c       2128721\n",
            " AU28_c       2128721\n",
            " AU45_c       2128721\n",
            "ID            2313881\n",
            "Timeframe     2313881\n",
            "dtype: int64\n"
          ]
        }
      ],
      "source": [
        "not_nan_counts_au_df = action_units.count()\n",
        "print(not_nan_counts_au_df)"
      ]
    },
    {
      "cell_type": "markdown",
      "metadata": {},
      "source": [
        "## TS fresh requirements "
      ]
    },
    {
      "cell_type": "code",
      "execution_count": 18,
      "metadata": {
        "colab": {
          "base_uri": "https://localhost:8080/"
        },
        "id": "40_DdinPSGFd",
        "outputId": "b6591ca9-0424-430b-de30-de9bef74d4f9"
      },
      "outputs": [
        {
          "name": "stdout",
          "output_type": "stream",
          "text": [
            "Requirement already satisfied: tsfresh in /Users/dionnespaltman/anaconda3/lib/python3.10/site-packages (0.20.2)\n",
            "Requirement already satisfied: statsmodels>=0.13 in /Users/dionnespaltman/anaconda3/lib/python3.10/site-packages (from tsfresh) (0.13.5)\n",
            "Requirement already satisfied: scipy>=1.2.0 in /Users/dionnespaltman/anaconda3/lib/python3.10/site-packages (from tsfresh) (1.10.0)\n",
            "Requirement already satisfied: pandas>=0.25.0 in /Users/dionnespaltman/anaconda3/lib/python3.10/site-packages (from tsfresh) (1.4.4)\n",
            "Requirement already satisfied: tqdm>=4.10.0 in /Users/dionnespaltman/anaconda3/lib/python3.10/site-packages (from tsfresh) (4.64.1)\n",
            "Requirement already satisfied: numpy>=1.15.1 in /Users/dionnespaltman/anaconda3/lib/python3.10/site-packages (from tsfresh) (1.23.5)\n",
            "Requirement already satisfied: scikit-learn>=0.22.0 in /Users/dionnespaltman/anaconda3/lib/python3.10/site-packages (from tsfresh) (1.4.2)\n",
            "Requirement already satisfied: cloudpickle in /Users/dionnespaltman/anaconda3/lib/python3.10/site-packages (from tsfresh) (2.0.0)\n",
            "Requirement already satisfied: stumpy>=1.7.2 in /Users/dionnespaltman/anaconda3/lib/python3.10/site-packages (from tsfresh) (1.12.0)\n",
            "Requirement already satisfied: patsy>=0.4.1 in /Users/dionnespaltman/anaconda3/lib/python3.10/site-packages (from tsfresh) (0.5.3)\n",
            "Requirement already satisfied: requests>=2.9.1 in /Users/dionnespaltman/anaconda3/lib/python3.10/site-packages (from tsfresh) (2.28.1)\n",
            "Requirement already satisfied: python-dateutil>=2.8.1 in /Users/dionnespaltman/anaconda3/lib/python3.10/site-packages (from pandas>=0.25.0->tsfresh) (2.8.2)\n",
            "Requirement already satisfied: pytz>=2020.1 in /Users/dionnespaltman/anaconda3/lib/python3.10/site-packages (from pandas>=0.25.0->tsfresh) (2022.7)\n",
            "Requirement already satisfied: six in /Users/dionnespaltman/anaconda3/lib/python3.10/site-packages (from patsy>=0.4.1->tsfresh) (1.16.0)\n",
            "Requirement already satisfied: charset-normalizer<3,>=2 in /Users/dionnespaltman/anaconda3/lib/python3.10/site-packages (from requests>=2.9.1->tsfresh) (2.0.4)\n",
            "Requirement already satisfied: certifi>=2017.4.17 in /Users/dionnespaltman/anaconda3/lib/python3.10/site-packages (from requests>=2.9.1->tsfresh) (2023.7.22)\n",
            "Requirement already satisfied: idna<4,>=2.5 in /Users/dionnespaltman/anaconda3/lib/python3.10/site-packages (from requests>=2.9.1->tsfresh) (3.4)\n",
            "Requirement already satisfied: urllib3<1.27,>=1.21.1 in /Users/dionnespaltman/anaconda3/lib/python3.10/site-packages (from requests>=2.9.1->tsfresh) (1.26.14)\n",
            "Requirement already satisfied: threadpoolctl>=2.0.0 in /Users/dionnespaltman/anaconda3/lib/python3.10/site-packages (from scikit-learn>=0.22.0->tsfresh) (3.5.0)\n",
            "Requirement already satisfied: joblib>=1.2.0 in /Users/dionnespaltman/anaconda3/lib/python3.10/site-packages (from scikit-learn>=0.22.0->tsfresh) (1.4.0)\n",
            "Requirement already satisfied: packaging>=21.3 in /Users/dionnespaltman/anaconda3/lib/python3.10/site-packages (from statsmodels>=0.13->tsfresh) (22.0)\n",
            "Requirement already satisfied: numba>=0.55.2 in /Users/dionnespaltman/anaconda3/lib/python3.10/site-packages (from stumpy>=1.7.2->tsfresh) (0.56.4)\n",
            "Requirement already satisfied: setuptools in /Users/dionnespaltman/anaconda3/lib/python3.10/site-packages (from numba>=0.55.2->stumpy>=1.7.2->tsfresh) (65.6.3)\n",
            "Requirement already satisfied: llvmlite<0.40,>=0.39.0dev0 in /Users/dionnespaltman/anaconda3/lib/python3.10/site-packages (from numba>=0.55.2->stumpy>=1.7.2->tsfresh) (0.39.1)\n"
          ]
        }
      ],
      "source": [
        "# Necessary imports\n",
        "!pip install tsfresh\n",
        "\n",
        "import pandas as pd\n",
        "from tsfresh import extract_features\n",
        "from tsfresh.feature_extraction import EfficientFCParameters\n",
        "from sklearn.preprocessing import StandardScaler"
      ]
    },
    {
      "cell_type": "code",
      "execution_count": 19,
      "metadata": {},
      "outputs": [
        {
          "name": "stdout",
          "output_type": "stream",
          "text": [
            "Requirement already satisfied: tsfresh in /Users/dionnespaltman/anaconda3/lib/python3.10/site-packages (0.20.2)\n",
            "Requirement already satisfied: stumpy>=1.7.2 in /Users/dionnespaltman/anaconda3/lib/python3.10/site-packages (from tsfresh) (1.12.0)\n",
            "Requirement already satisfied: numpy>=1.15.1 in /Users/dionnespaltman/anaconda3/lib/python3.10/site-packages (from tsfresh) (1.23.5)\n",
            "Requirement already satisfied: pandas>=0.25.0 in /Users/dionnespaltman/anaconda3/lib/python3.10/site-packages (from tsfresh) (1.4.4)\n",
            "Requirement already satisfied: cloudpickle in /Users/dionnespaltman/anaconda3/lib/python3.10/site-packages (from tsfresh) (2.0.0)\n",
            "Requirement already satisfied: tqdm>=4.10.0 in /Users/dionnespaltman/anaconda3/lib/python3.10/site-packages (from tsfresh) (4.64.1)\n",
            "Requirement already satisfied: statsmodels>=0.13 in /Users/dionnespaltman/anaconda3/lib/python3.10/site-packages (from tsfresh) (0.13.5)\n",
            "Requirement already satisfied: patsy>=0.4.1 in /Users/dionnespaltman/anaconda3/lib/python3.10/site-packages (from tsfresh) (0.5.3)\n",
            "Requirement already satisfied: scipy>=1.2.0 in /Users/dionnespaltman/anaconda3/lib/python3.10/site-packages (from tsfresh) (1.10.0)\n",
            "Requirement already satisfied: requests>=2.9.1 in /Users/dionnespaltman/anaconda3/lib/python3.10/site-packages (from tsfresh) (2.28.1)\n",
            "Requirement already satisfied: scikit-learn>=0.22.0 in /Users/dionnespaltman/anaconda3/lib/python3.10/site-packages (from tsfresh) (1.4.2)\n",
            "Requirement already satisfied: pytz>=2020.1 in /Users/dionnespaltman/anaconda3/lib/python3.10/site-packages (from pandas>=0.25.0->tsfresh) (2022.7)\n",
            "Requirement already satisfied: python-dateutil>=2.8.1 in /Users/dionnespaltman/anaconda3/lib/python3.10/site-packages (from pandas>=0.25.0->tsfresh) (2.8.2)\n",
            "Requirement already satisfied: six in /Users/dionnespaltman/anaconda3/lib/python3.10/site-packages (from patsy>=0.4.1->tsfresh) (1.16.0)\n",
            "Requirement already satisfied: idna<4,>=2.5 in /Users/dionnespaltman/anaconda3/lib/python3.10/site-packages (from requests>=2.9.1->tsfresh) (3.4)\n",
            "Requirement already satisfied: urllib3<1.27,>=1.21.1 in /Users/dionnespaltman/anaconda3/lib/python3.10/site-packages (from requests>=2.9.1->tsfresh) (1.26.14)\n",
            "Requirement already satisfied: charset-normalizer<3,>=2 in /Users/dionnespaltman/anaconda3/lib/python3.10/site-packages (from requests>=2.9.1->tsfresh) (2.0.4)\n",
            "Requirement already satisfied: certifi>=2017.4.17 in /Users/dionnespaltman/anaconda3/lib/python3.10/site-packages (from requests>=2.9.1->tsfresh) (2023.7.22)\n",
            "Requirement already satisfied: joblib>=1.2.0 in /Users/dionnespaltman/anaconda3/lib/python3.10/site-packages (from scikit-learn>=0.22.0->tsfresh) (1.4.0)\n",
            "Requirement already satisfied: threadpoolctl>=2.0.0 in /Users/dionnespaltman/anaconda3/lib/python3.10/site-packages (from scikit-learn>=0.22.0->tsfresh) (3.5.0)\n",
            "Requirement already satisfied: packaging>=21.3 in /Users/dionnespaltman/anaconda3/lib/python3.10/site-packages (from statsmodels>=0.13->tsfresh) (22.0)\n",
            "Requirement already satisfied: numba>=0.55.2 in /Users/dionnespaltman/anaconda3/lib/python3.10/site-packages (from stumpy>=1.7.2->tsfresh) (0.56.4)\n",
            "Requirement already satisfied: llvmlite<0.40,>=0.39.0dev0 in /Users/dionnespaltman/anaconda3/lib/python3.10/site-packages (from numba>=0.55.2->stumpy>=1.7.2->tsfresh) (0.39.1)\n",
            "Requirement already satisfied: setuptools in /Users/dionnespaltman/anaconda3/lib/python3.10/site-packages (from numba>=0.55.2->stumpy>=1.7.2->tsfresh) (65.6.3)\n"
          ]
        }
      ],
      "source": [
        "!pip install tsfresh\n",
        "from tsfresh import extract_features"
      ]
    },
    {
      "cell_type": "code",
      "execution_count": 20,
      "metadata": {},
      "outputs": [],
      "source": [
        "from tsfresh.feature_extraction import ComprehensiveFCParameters\n"
      ]
    },
    {
      "cell_type": "markdown",
      "metadata": {},
      "source": [
        "## AU "
      ]
    },
    {
      "cell_type": "markdown",
      "metadata": {},
      "source": [
        "I'm only interested in the intensity values (so the variables with R at the end, not C). "
      ]
    },
    {
      "cell_type": "code",
      "execution_count": 21,
      "metadata": {
        "id": "OL9Z0xyTSGIV"
      },
      "outputs": [],
      "source": [
        "au_long_format = pd.melt(action_units, id_vars=['ID', 'frame'],\n",
        "                                   var_name='measurement', value_name='value',\n",
        "                                   value_vars=[' AU01_r', ' AU02_r',\n",
        "       ' AU04_r', ' AU05_r', ' AU06_r', ' AU07_r', ' AU09_r', ' AU10_r',\n",
        "       ' AU12_r', ' AU14_r', ' AU15_r', ' AU17_r', ' AU20_r', ' AU23_r',\n",
        "       ' AU25_r', ' AU26_r', ' AU45_r'])"
      ]
    },
    {
      "cell_type": "code",
      "execution_count": 22,
      "metadata": {},
      "outputs": [
        {
          "data": {
            "text/html": [
              "<div>\n",
              "<style scoped>\n",
              "    .dataframe tbody tr th:only-of-type {\n",
              "        vertical-align: middle;\n",
              "    }\n",
              "\n",
              "    .dataframe tbody tr th {\n",
              "        vertical-align: top;\n",
              "    }\n",
              "\n",
              "    .dataframe thead th {\n",
              "        text-align: right;\n",
              "    }\n",
              "</style>\n",
              "<table border=\"1\" class=\"dataframe\">\n",
              "  <thead>\n",
              "    <tr style=\"text-align: right;\">\n",
              "      <th></th>\n",
              "      <th>ID</th>\n",
              "      <th>frame</th>\n",
              "      <th>measurement</th>\n",
              "      <th>value</th>\n",
              "    </tr>\n",
              "  </thead>\n",
              "  <tbody>\n",
              "    <tr>\n",
              "      <th>0</th>\n",
              "      <td>80</td>\n",
              "      <td>104</td>\n",
              "      <td>AU01_r</td>\n",
              "      <td>0.00</td>\n",
              "    </tr>\n",
              "    <tr>\n",
              "      <th>1</th>\n",
              "      <td>80</td>\n",
              "      <td>105</td>\n",
              "      <td>AU01_r</td>\n",
              "      <td>0.00</td>\n",
              "    </tr>\n",
              "    <tr>\n",
              "      <th>2</th>\n",
              "      <td>80</td>\n",
              "      <td>112</td>\n",
              "      <td>AU01_r</td>\n",
              "      <td>0.31</td>\n",
              "    </tr>\n",
              "    <tr>\n",
              "      <th>3</th>\n",
              "      <td>80</td>\n",
              "      <td>115</td>\n",
              "      <td>AU01_r</td>\n",
              "      <td>0.00</td>\n",
              "    </tr>\n",
              "    <tr>\n",
              "      <th>4</th>\n",
              "      <td>80</td>\n",
              "      <td>154</td>\n",
              "      <td>AU01_r</td>\n",
              "      <td>1.26</td>\n",
              "    </tr>\n",
              "    <tr>\n",
              "      <th>...</th>\n",
              "      <td>...</td>\n",
              "      <td>...</td>\n",
              "      <td>...</td>\n",
              "      <td>...</td>\n",
              "    </tr>\n",
              "    <tr>\n",
              "      <th>39335972</th>\n",
              "      <td>27</td>\n",
              "      <td>21069.0</td>\n",
              "      <td>AU45_r</td>\n",
              "      <td>1.50</td>\n",
              "    </tr>\n",
              "    <tr>\n",
              "      <th>39335973</th>\n",
              "      <td>27</td>\n",
              "      <td>21070.0</td>\n",
              "      <td>AU45_r</td>\n",
              "      <td>1.23</td>\n",
              "    </tr>\n",
              "    <tr>\n",
              "      <th>39335974</th>\n",
              "      <td>27</td>\n",
              "      <td>21071.0</td>\n",
              "      <td>AU45_r</td>\n",
              "      <td>1.43</td>\n",
              "    </tr>\n",
              "    <tr>\n",
              "      <th>39335975</th>\n",
              "      <td>27</td>\n",
              "      <td>21072.0</td>\n",
              "      <td>AU45_r</td>\n",
              "      <td>1.23</td>\n",
              "    </tr>\n",
              "    <tr>\n",
              "      <th>39335976</th>\n",
              "      <td>27</td>\n",
              "      <td>21073.0</td>\n",
              "      <td>AU45_r</td>\n",
              "      <td>1.49</td>\n",
              "    </tr>\n",
              "  </tbody>\n",
              "</table>\n",
              "<p>39335977 rows × 4 columns</p>\n",
              "</div>"
            ],
            "text/plain": [
              "          ID    frame measurement  value\n",
              "0         80      104      AU01_r   0.00\n",
              "1         80      105      AU01_r   0.00\n",
              "2         80      112      AU01_r   0.31\n",
              "3         80      115      AU01_r   0.00\n",
              "4         80      154      AU01_r   1.26\n",
              "...       ..      ...         ...    ...\n",
              "39335972  27  21069.0      AU45_r   1.50\n",
              "39335973  27  21070.0      AU45_r   1.23\n",
              "39335974  27  21071.0      AU45_r   1.43\n",
              "39335975  27  21072.0      AU45_r   1.23\n",
              "39335976  27  21073.0      AU45_r   1.49\n",
              "\n",
              "[39335977 rows x 4 columns]"
            ]
          },
          "metadata": {},
          "output_type": "display_data"
        }
      ],
      "source": [
        "display(au_long_format)"
      ]
    },
    {
      "cell_type": "markdown",
      "metadata": {},
      "source": [
        "There are a lot of missing values. "
      ]
    },
    {
      "cell_type": "code",
      "execution_count": 23,
      "metadata": {},
      "outputs": [
        {
          "name": "stdout",
          "output_type": "stream",
          "text": [
            "ID                   0\n",
            "frame                0\n",
            "measurement          0\n",
            "value          3147720\n",
            "dtype: int64\n"
          ]
        }
      ],
      "source": [
        "nan_counts = au_long_format.isna().sum()\n",
        "print(nan_counts)"
      ]
    },
    {
      "cell_type": "markdown",
      "metadata": {},
      "source": [
        "In Judita her article, she used the following six intensity level characteristics: sum, variance, standard deviation, maximum, mean, and mean-root square values (total number of extracted features = 102). \n",
        "\n",
        "The code down below doesn't run, because the value contains NaN values (also seen above, where I counted the occurences of NaN values). "
      ]
    },
    {
      "cell_type": "code",
      "execution_count": 24,
      "metadata": {
        "colab": {
          "base_uri": "https://localhost:8080/"
        },
        "id": "jMUfK15mSC1N",
        "outputId": "468c35d8-c286-4883-8e54-e10aac6fd025"
      },
      "outputs": [
        {
          "ename": "ValueError",
          "evalue": "Column must not contain NaN values: value",
          "output_type": "error",
          "traceback": [
            "\u001b[0;31m---------------------------------------------------------------------------\u001b[0m",
            "\u001b[0;31mValueError\u001b[0m                                Traceback (most recent call last)",
            "Cell \u001b[0;32mIn[24], line 16\u001b[0m\n\u001b[1;32m      2\u001b[0m settings \u001b[38;5;241m=\u001b[39m {\n\u001b[1;32m      3\u001b[0m     \u001b[38;5;124m'\u001b[39m\u001b[38;5;124msum\u001b[39m\u001b[38;5;124m'\u001b[39m: {},\n\u001b[1;32m      4\u001b[0m     \u001b[38;5;124m'\u001b[39m\u001b[38;5;124msum_values\u001b[39m\u001b[38;5;124m'\u001b[39m: {},\n\u001b[0;32m   (...)\u001b[0m\n\u001b[1;32m     12\u001b[0m     \u001b[38;5;66;03m#'agg_linear_trend': [{'attr': 'slope', 'f_agg': 'max', 'chunk_len': 5}, {'attr': 'slope', 'f_agg': 'min', 'chunk_len': 5}]  #maximale en minimale helling\u001b[39;00m\n\u001b[1;32m     13\u001b[0m }\n\u001b[1;32m     15\u001b[0m \u001b[38;5;66;03m# Extract features met aangepaste instellingen\u001b[39;00m\n\u001b[0;32m---> 16\u001b[0m extracted_features_au \u001b[38;5;241m=\u001b[39m \u001b[43mextract_features\u001b[49m\u001b[43m(\u001b[49m\n\u001b[1;32m     17\u001b[0m \u001b[43m    \u001b[49m\u001b[43mau_long_format\u001b[49m\u001b[43m,\u001b[49m\n\u001b[1;32m     18\u001b[0m \u001b[43m    \u001b[49m\u001b[43mcolumn_id\u001b[49m\u001b[38;5;241;43m=\u001b[39;49m\u001b[38;5;124;43m'\u001b[39;49m\u001b[38;5;124;43mID\u001b[39;49m\u001b[38;5;124;43m'\u001b[39;49m\u001b[43m,\u001b[49m\u001b[43m  \u001b[49m\u001b[38;5;66;43;03m# Identifies the time series\u001b[39;49;00m\n\u001b[1;32m     19\u001b[0m \u001b[43m    \u001b[49m\u001b[43mcolumn_sort\u001b[49m\u001b[38;5;241;43m=\u001b[39;49m\u001b[38;5;124;43m'\u001b[39;49m\u001b[38;5;124;43mframe\u001b[39;49m\u001b[38;5;124;43m'\u001b[39;49m\u001b[43m,\u001b[49m\u001b[43m  \u001b[49m\u001b[38;5;66;43;03m# Orders the time points\u001b[39;49;00m\n\u001b[1;32m     20\u001b[0m \u001b[43m    \u001b[49m\u001b[43mcolumn_kind\u001b[49m\u001b[38;5;241;43m=\u001b[39;49m\u001b[38;5;124;43m'\u001b[39;49m\u001b[38;5;124;43mmeasurement\u001b[39;49m\u001b[38;5;124;43m'\u001b[39;49m\u001b[43m,\u001b[49m\u001b[43m  \u001b[49m\u001b[38;5;66;43;03m# Distinguishes between different variables if necessary\u001b[39;49;00m\n\u001b[1;32m     21\u001b[0m \u001b[43m    \u001b[49m\u001b[43mcolumn_value\u001b[49m\u001b[38;5;241;43m=\u001b[39;49m\u001b[38;5;124;43m'\u001b[39;49m\u001b[38;5;124;43mvalue\u001b[39;49m\u001b[38;5;124;43m'\u001b[39;49m\u001b[43m,\u001b[49m\u001b[43m  \u001b[49m\u001b[38;5;66;43;03m# The actual measurements\u001b[39;49;00m\n\u001b[1;32m     22\u001b[0m \u001b[43m    \u001b[49m\u001b[43mdefault_fc_parameters\u001b[49m\u001b[38;5;241;43m=\u001b[39;49m\u001b[43msettings\u001b[49m\n\u001b[1;32m     23\u001b[0m \u001b[43m)\u001b[49m\n",
            "File \u001b[0;32m~/anaconda3/lib/python3.10/site-packages/tsfresh/feature_extraction/extraction.py:164\u001b[0m, in \u001b[0;36mextract_features\u001b[0;34m(timeseries_container, default_fc_parameters, kind_to_fc_parameters, column_id, column_sort, column_kind, column_value, chunksize, n_jobs, show_warnings, disable_progressbar, impute_function, profile, profiling_filename, profiling_sorting, distributor, pivot)\u001b[0m\n\u001b[1;32m    161\u001b[0m \u001b[38;5;28;01melse\u001b[39;00m:\n\u001b[1;32m    162\u001b[0m     warnings\u001b[38;5;241m.\u001b[39msimplefilter(\u001b[38;5;124m\"\u001b[39m\u001b[38;5;124mdefault\u001b[39m\u001b[38;5;124m\"\u001b[39m)\n\u001b[0;32m--> 164\u001b[0m result \u001b[38;5;241m=\u001b[39m \u001b[43m_do_extraction\u001b[49m\u001b[43m(\u001b[49m\n\u001b[1;32m    165\u001b[0m \u001b[43m    \u001b[49m\u001b[43mdf\u001b[49m\u001b[38;5;241;43m=\u001b[39;49m\u001b[43mtimeseries_container\u001b[49m\u001b[43m,\u001b[49m\n\u001b[1;32m    166\u001b[0m \u001b[43m    \u001b[49m\u001b[43mcolumn_id\u001b[49m\u001b[38;5;241;43m=\u001b[39;49m\u001b[43mcolumn_id\u001b[49m\u001b[43m,\u001b[49m\n\u001b[1;32m    167\u001b[0m \u001b[43m    \u001b[49m\u001b[43mcolumn_value\u001b[49m\u001b[38;5;241;43m=\u001b[39;49m\u001b[43mcolumn_value\u001b[49m\u001b[43m,\u001b[49m\n\u001b[1;32m    168\u001b[0m \u001b[43m    \u001b[49m\u001b[43mcolumn_kind\u001b[49m\u001b[38;5;241;43m=\u001b[39;49m\u001b[43mcolumn_kind\u001b[49m\u001b[43m,\u001b[49m\n\u001b[1;32m    169\u001b[0m \u001b[43m    \u001b[49m\u001b[43mcolumn_sort\u001b[49m\u001b[38;5;241;43m=\u001b[39;49m\u001b[43mcolumn_sort\u001b[49m\u001b[43m,\u001b[49m\n\u001b[1;32m    170\u001b[0m \u001b[43m    \u001b[49m\u001b[43mn_jobs\u001b[49m\u001b[38;5;241;43m=\u001b[39;49m\u001b[43mn_jobs\u001b[49m\u001b[43m,\u001b[49m\n\u001b[1;32m    171\u001b[0m \u001b[43m    \u001b[49m\u001b[43mchunk_size\u001b[49m\u001b[38;5;241;43m=\u001b[39;49m\u001b[43mchunksize\u001b[49m\u001b[43m,\u001b[49m\n\u001b[1;32m    172\u001b[0m \u001b[43m    \u001b[49m\u001b[43mdisable_progressbar\u001b[49m\u001b[38;5;241;43m=\u001b[39;49m\u001b[43mdisable_progressbar\u001b[49m\u001b[43m,\u001b[49m\n\u001b[1;32m    173\u001b[0m \u001b[43m    \u001b[49m\u001b[43mshow_warnings\u001b[49m\u001b[38;5;241;43m=\u001b[39;49m\u001b[43mshow_warnings\u001b[49m\u001b[43m,\u001b[49m\n\u001b[1;32m    174\u001b[0m \u001b[43m    \u001b[49m\u001b[43mdefault_fc_parameters\u001b[49m\u001b[38;5;241;43m=\u001b[39;49m\u001b[43mdefault_fc_parameters\u001b[49m\u001b[43m,\u001b[49m\n\u001b[1;32m    175\u001b[0m \u001b[43m    \u001b[49m\u001b[43mkind_to_fc_parameters\u001b[49m\u001b[38;5;241;43m=\u001b[39;49m\u001b[43mkind_to_fc_parameters\u001b[49m\u001b[43m,\u001b[49m\n\u001b[1;32m    176\u001b[0m \u001b[43m    \u001b[49m\u001b[43mdistributor\u001b[49m\u001b[38;5;241;43m=\u001b[39;49m\u001b[43mdistributor\u001b[49m\u001b[43m,\u001b[49m\n\u001b[1;32m    177\u001b[0m \u001b[43m    \u001b[49m\u001b[43mpivot\u001b[49m\u001b[38;5;241;43m=\u001b[39;49m\u001b[43mpivot\u001b[49m\u001b[43m,\u001b[49m\n\u001b[1;32m    178\u001b[0m \u001b[43m\u001b[49m\u001b[43m)\u001b[49m\n\u001b[1;32m    180\u001b[0m \u001b[38;5;66;03m# Impute the result if requested\u001b[39;00m\n\u001b[1;32m    181\u001b[0m \u001b[38;5;28;01mif\u001b[39;00m impute_function \u001b[38;5;129;01mis\u001b[39;00m \u001b[38;5;129;01mnot\u001b[39;00m \u001b[38;5;28;01mNone\u001b[39;00m:\n",
            "File \u001b[0;32m~/anaconda3/lib/python3.10/site-packages/tsfresh/feature_extraction/extraction.py:260\u001b[0m, in \u001b[0;36m_do_extraction\u001b[0;34m(df, column_id, column_value, column_kind, column_sort, default_fc_parameters, kind_to_fc_parameters, n_jobs, chunk_size, disable_progressbar, show_warnings, distributor, pivot)\u001b[0m\n\u001b[1;32m    193\u001b[0m \u001b[38;5;28;01mdef\u001b[39;00m \u001b[38;5;21m_do_extraction\u001b[39m(\n\u001b[1;32m    194\u001b[0m     df,\n\u001b[1;32m    195\u001b[0m     column_id,\n\u001b[0;32m   (...)\u001b[0m\n\u001b[1;32m    206\u001b[0m     pivot,\n\u001b[1;32m    207\u001b[0m ):\n\u001b[1;32m    208\u001b[0m \u001b[38;5;250m    \u001b[39m\u001b[38;5;124;03m\"\"\"\u001b[39;00m\n\u001b[1;32m    209\u001b[0m \u001b[38;5;124;03m    Wrapper around the _do_extraction_on_chunk, which calls it on all chunks in the data frame.\u001b[39;00m\n\u001b[1;32m    210\u001b[0m \u001b[38;5;124;03m    A chunk is a subset of the data, with a given kind and id - so a single time series.\u001b[39;00m\n\u001b[0;32m   (...)\u001b[0m\n\u001b[1;32m    257\u001b[0m \u001b[38;5;124;03m    :rtype: pd.DataFrame\u001b[39;00m\n\u001b[1;32m    258\u001b[0m \u001b[38;5;124;03m    \"\"\"\u001b[39;00m\n\u001b[0;32m--> 260\u001b[0m     data \u001b[38;5;241m=\u001b[39m \u001b[43mto_tsdata\u001b[49m\u001b[43m(\u001b[49m\u001b[43mdf\u001b[49m\u001b[43m,\u001b[49m\u001b[43m \u001b[49m\u001b[43mcolumn_id\u001b[49m\u001b[43m,\u001b[49m\u001b[43m \u001b[49m\u001b[43mcolumn_kind\u001b[49m\u001b[43m,\u001b[49m\u001b[43m \u001b[49m\u001b[43mcolumn_value\u001b[49m\u001b[43m,\u001b[49m\u001b[43m \u001b[49m\u001b[43mcolumn_sort\u001b[49m\u001b[43m)\u001b[49m\n\u001b[1;32m    262\u001b[0m     \u001b[38;5;28;01mif\u001b[39;00m distributor \u001b[38;5;129;01mis\u001b[39;00m \u001b[38;5;28;01mNone\u001b[39;00m:\n\u001b[1;32m    263\u001b[0m         \u001b[38;5;28;01mif\u001b[39;00m \u001b[38;5;28misinstance\u001b[39m(data, Iterable):\n",
            "File \u001b[0;32m~/anaconda3/lib/python3.10/site-packages/tsfresh/feature_extraction/data.py:471\u001b[0m, in \u001b[0;36mto_tsdata\u001b[0;34m(df, column_id, column_kind, column_value, column_sort)\u001b[0m\n\u001b[1;32m    469\u001b[0m \u001b[38;5;28;01melif\u001b[39;00m \u001b[38;5;28misinstance\u001b[39m(df, pd\u001b[38;5;241m.\u001b[39mDataFrame):\n\u001b[1;32m    470\u001b[0m     \u001b[38;5;28;01mif\u001b[39;00m column_kind \u001b[38;5;129;01mis\u001b[39;00m \u001b[38;5;129;01mnot\u001b[39;00m \u001b[38;5;28;01mNone\u001b[39;00m:\n\u001b[0;32m--> 471\u001b[0m         \u001b[38;5;28;01mreturn\u001b[39;00m \u001b[43mLongTsFrameAdapter\u001b[49m\u001b[43m(\u001b[49m\n\u001b[1;32m    472\u001b[0m \u001b[43m            \u001b[49m\u001b[43mdf\u001b[49m\u001b[43m,\u001b[49m\u001b[43m \u001b[49m\u001b[43mcolumn_id\u001b[49m\u001b[43m,\u001b[49m\u001b[43m \u001b[49m\u001b[43mcolumn_kind\u001b[49m\u001b[43m,\u001b[49m\u001b[43m \u001b[49m\u001b[43mcolumn_value\u001b[49m\u001b[43m,\u001b[49m\u001b[43m \u001b[49m\u001b[43mcolumn_sort\u001b[49m\n\u001b[1;32m    473\u001b[0m \u001b[43m        \u001b[49m\u001b[43m)\u001b[49m\n\u001b[1;32m    474\u001b[0m     \u001b[38;5;28;01melse\u001b[39;00m:\n\u001b[1;32m    475\u001b[0m         \u001b[38;5;28;01mif\u001b[39;00m column_value \u001b[38;5;129;01mis\u001b[39;00m \u001b[38;5;129;01mnot\u001b[39;00m \u001b[38;5;28;01mNone\u001b[39;00m:\n",
            "File \u001b[0;32m~/anaconda3/lib/python3.10/site-packages/tsfresh/feature_extraction/data.py:252\u001b[0m, in \u001b[0;36mLongTsFrameAdapter.__init__\u001b[0;34m(self, df, column_id, column_kind, column_value, column_sort)\u001b[0m\n\u001b[1;32m    249\u001b[0m \u001b[38;5;28;01melse\u001b[39;00m:\n\u001b[1;32m    250\u001b[0m     \u001b[38;5;28mself\u001b[39m\u001b[38;5;241m.\u001b[39mcolumn_value \u001b[38;5;241m=\u001b[39m column_value\n\u001b[0;32m--> 252\u001b[0m \u001b[43m_check_nan\u001b[49m\u001b[43m(\u001b[49m\u001b[43mdf\u001b[49m\u001b[43m,\u001b[49m\u001b[43m \u001b[49m\u001b[43mcolumn_id\u001b[49m\u001b[43m,\u001b[49m\u001b[43m \u001b[49m\u001b[43mcolumn_kind\u001b[49m\u001b[43m,\u001b[49m\u001b[43m \u001b[49m\u001b[38;5;28;43mself\u001b[39;49m\u001b[38;5;241;43m.\u001b[39;49m\u001b[43mcolumn_value\u001b[49m\u001b[43m)\u001b[49m\n\u001b[1;32m    254\u001b[0m \u001b[38;5;28;01mif\u001b[39;00m column_sort \u001b[38;5;129;01mis\u001b[39;00m \u001b[38;5;129;01mnot\u001b[39;00m \u001b[38;5;28;01mNone\u001b[39;00m:\n\u001b[1;32m    255\u001b[0m     _check_nan(df, column_sort)\n",
            "File \u001b[0;32m~/anaconda3/lib/python3.10/site-packages/tsfresh/feature_extraction/data.py:145\u001b[0m, in \u001b[0;36m_check_nan\u001b[0;34m(df, *columns)\u001b[0m\n\u001b[1;32m    142\u001b[0m     \u001b[38;5;28;01mraise\u001b[39;00m \u001b[38;5;167;01mValueError\u001b[39;00m(\u001b[38;5;124m\"\u001b[39m\u001b[38;5;124mColumn not found: \u001b[39m\u001b[38;5;132;01m{}\u001b[39;00m\u001b[38;5;124m\"\u001b[39m\u001b[38;5;241m.\u001b[39mformat(col))\n\u001b[1;32m    144\u001b[0m \u001b[38;5;28;01mif\u001b[39;00m df[col]\u001b[38;5;241m.\u001b[39misnull()\u001b[38;5;241m.\u001b[39many():\n\u001b[0;32m--> 145\u001b[0m     \u001b[38;5;28;01mraise\u001b[39;00m \u001b[38;5;167;01mValueError\u001b[39;00m(\u001b[38;5;124m\"\u001b[39m\u001b[38;5;124mColumn must not contain NaN values: \u001b[39m\u001b[38;5;132;01m{}\u001b[39;00m\u001b[38;5;124m\"\u001b[39m\u001b[38;5;241m.\u001b[39mformat(col))\n",
            "\u001b[0;31mValueError\u001b[0m: Column must not contain NaN values: value"
          ]
        }
      ],
      "source": [
        "# Specificeer de gewenste kenmerken\n",
        "settings = {\n",
        "    'sum': {},\n",
        "    'sum_values': {},\n",
        "    'variance': {},\n",
        "    'standard_deviation': {},\n",
        "    'maximum': {},\n",
        "    'minimum': {},\n",
        "    #'median': {},\n",
        "    'mean': {},\n",
        "    'mean_abs_change': {},  #proxy voor gemiddelde van de wortel van de kwadraten als 'mean root square' niet direct beschikbaar is\n",
        "    #'agg_linear_trend': [{'attr': 'slope', 'f_agg': 'max', 'chunk_len': 5}, {'attr': 'slope', 'f_agg': 'min', 'chunk_len': 5}]  #maximale en minimale helling\n",
        "}\n",
        "\n",
        "# Extract features met aangepaste instellingen\n",
        "extracted_features_au = extract_features(\n",
        "    au_long_format,\n",
        "    column_id='ID',  # Identifies the time series\n",
        "    column_sort='frame',  # Orders the time points\n",
        "    column_kind='measurement',  # Distinguishes between different variables if necessary\n",
        "    column_value='value',  # The actual measurements\n",
        "    default_fc_parameters=settings\n",
        ")\n"
      ]
    },
    {
      "cell_type": "code",
      "execution_count": null,
      "metadata": {
        "colab": {
          "base_uri": "https://localhost:8080/"
        },
        "id": "8nwW2y7vZCCl",
        "outputId": "c9ddf97a-3591-430d-8474-46254125eea3"
      },
      "outputs": [],
      "source": [
        "print(extracted_features_au.head)"
      ]
    },
    {
      "cell_type": "markdown",
      "metadata": {},
      "source": [
        "## Clean df (dropped missing values, about 7%)"
      ]
    },
    {
      "cell_type": "markdown",
      "metadata": {},
      "source": [
        "Drop missing values (not inputting them, but just removing them since it's only 7 percent of all data)."
      ]
    },
    {
      "cell_type": "code",
      "execution_count": 25,
      "metadata": {},
      "outputs": [],
      "source": [
        "# If you want to remove missing values only from specific columns, you can specify them\n",
        "clean_df = action_units.dropna(subset=[' AU01_r', ' AU02_r',\n",
        "       ' AU04_r', ' AU05_r', ' AU06_r', ' AU07_r', ' AU09_r', ' AU10_r',\n",
        "       ' AU12_r', ' AU14_r', ' AU15_r', ' AU17_r', ' AU20_r', ' AU23_r',\n",
        "       ' AU25_r', ' AU26_r', ' AU45_r'])"
      ]
    },
    {
      "cell_type": "code",
      "execution_count": 26,
      "metadata": {},
      "outputs": [
        {
          "name": "stdout",
          "output_type": "stream",
          "text": [
            "frame         0\n",
            "face_id       0\n",
            "confidence    0\n",
            " success      0\n",
            " AU01_r       0\n",
            " AU02_r       0\n",
            " AU04_r       0\n",
            " AU05_r       0\n",
            " AU06_r       0\n",
            " AU07_r       0\n",
            " AU09_r       0\n",
            " AU10_r       0\n",
            " AU12_r       0\n",
            " AU14_r       0\n",
            " AU15_r       0\n",
            " AU17_r       0\n",
            " AU20_r       0\n",
            " AU23_r       0\n",
            " AU25_r       0\n",
            " AU26_r       0\n",
            " AU45_r       0\n",
            " AU01_c       0\n",
            " AU02_c       0\n",
            " AU04_c       0\n",
            " AU05_c       0\n",
            " AU06_c       0\n",
            " AU07_c       0\n",
            " AU09_c       0\n",
            " AU10_c       0\n",
            " AU12_c       0\n",
            " AU14_c       0\n",
            " AU15_c       0\n",
            " AU17_c       0\n",
            " AU20_c       0\n",
            " AU23_c       0\n",
            " AU25_c       0\n",
            " AU26_c       0\n",
            " AU28_c       0\n",
            " AU45_c       0\n",
            "ID            0\n",
            "Timeframe     0\n",
            "dtype: int64\n"
          ]
        }
      ],
      "source": [
        "nan_counts_clean_df = clean_df.isna().sum()\n",
        "print(nan_counts_clean_df)\n"
      ]
    },
    {
      "cell_type": "code",
      "execution_count": 27,
      "metadata": {},
      "outputs": [],
      "source": [
        "clean_df.to_csv('/Users/dionnespaltman/Desktop/downloading_new/clean_df_action_units_incomplete.csv', index=True)\n"
      ]
    },
    {
      "cell_type": "code",
      "execution_count": 28,
      "metadata": {},
      "outputs": [],
      "source": [
        "clean_df_long_format = pd.melt(clean_df, id_vars=['ID', 'frame'],\n",
        "                                   var_name='measurement', value_name='value',\n",
        "                                   value_vars=[' AU01_r', ' AU02_r',\n",
        "       ' AU04_r', ' AU05_r', ' AU06_r', ' AU07_r', ' AU09_r', ' AU10_r',\n",
        "       ' AU12_r', ' AU14_r', ' AU15_r', ' AU17_r', ' AU20_r', ' AU23_r',\n",
        "       ' AU25_r', ' AU26_r', ' AU45_r'])"
      ]
    },
    {
      "cell_type": "code",
      "execution_count": 29,
      "metadata": {},
      "outputs": [
        {
          "data": {
            "text/html": [
              "<div>\n",
              "<style scoped>\n",
              "    .dataframe tbody tr th:only-of-type {\n",
              "        vertical-align: middle;\n",
              "    }\n",
              "\n",
              "    .dataframe tbody tr th {\n",
              "        vertical-align: top;\n",
              "    }\n",
              "\n",
              "    .dataframe thead th {\n",
              "        text-align: right;\n",
              "    }\n",
              "</style>\n",
              "<table border=\"1\" class=\"dataframe\">\n",
              "  <thead>\n",
              "    <tr style=\"text-align: right;\">\n",
              "      <th></th>\n",
              "      <th>ID</th>\n",
              "      <th>frame</th>\n",
              "      <th>measurement</th>\n",
              "      <th>value</th>\n",
              "    </tr>\n",
              "  </thead>\n",
              "  <tbody>\n",
              "    <tr>\n",
              "      <th>0</th>\n",
              "      <td>80</td>\n",
              "      <td>104</td>\n",
              "      <td>AU01_r</td>\n",
              "      <td>0.00</td>\n",
              "    </tr>\n",
              "    <tr>\n",
              "      <th>1</th>\n",
              "      <td>80</td>\n",
              "      <td>105</td>\n",
              "      <td>AU01_r</td>\n",
              "      <td>0.00</td>\n",
              "    </tr>\n",
              "    <tr>\n",
              "      <th>2</th>\n",
              "      <td>80</td>\n",
              "      <td>112</td>\n",
              "      <td>AU01_r</td>\n",
              "      <td>0.31</td>\n",
              "    </tr>\n",
              "    <tr>\n",
              "      <th>3</th>\n",
              "      <td>80</td>\n",
              "      <td>115</td>\n",
              "      <td>AU01_r</td>\n",
              "      <td>0.00</td>\n",
              "    </tr>\n",
              "    <tr>\n",
              "      <th>4</th>\n",
              "      <td>80</td>\n",
              "      <td>154</td>\n",
              "      <td>AU01_r</td>\n",
              "      <td>1.26</td>\n",
              "    </tr>\n",
              "    <tr>\n",
              "      <th>...</th>\n",
              "      <td>...</td>\n",
              "      <td>...</td>\n",
              "      <td>...</td>\n",
              "      <td>...</td>\n",
              "    </tr>\n",
              "    <tr>\n",
              "      <th>36188252</th>\n",
              "      <td>27</td>\n",
              "      <td>21069.0</td>\n",
              "      <td>AU45_r</td>\n",
              "      <td>1.50</td>\n",
              "    </tr>\n",
              "    <tr>\n",
              "      <th>36188253</th>\n",
              "      <td>27</td>\n",
              "      <td>21070.0</td>\n",
              "      <td>AU45_r</td>\n",
              "      <td>1.23</td>\n",
              "    </tr>\n",
              "    <tr>\n",
              "      <th>36188254</th>\n",
              "      <td>27</td>\n",
              "      <td>21071.0</td>\n",
              "      <td>AU45_r</td>\n",
              "      <td>1.43</td>\n",
              "    </tr>\n",
              "    <tr>\n",
              "      <th>36188255</th>\n",
              "      <td>27</td>\n",
              "      <td>21072.0</td>\n",
              "      <td>AU45_r</td>\n",
              "      <td>1.23</td>\n",
              "    </tr>\n",
              "    <tr>\n",
              "      <th>36188256</th>\n",
              "      <td>27</td>\n",
              "      <td>21073.0</td>\n",
              "      <td>AU45_r</td>\n",
              "      <td>1.49</td>\n",
              "    </tr>\n",
              "  </tbody>\n",
              "</table>\n",
              "<p>36188257 rows × 4 columns</p>\n",
              "</div>"
            ],
            "text/plain": [
              "          ID    frame measurement  value\n",
              "0         80      104      AU01_r   0.00\n",
              "1         80      105      AU01_r   0.00\n",
              "2         80      112      AU01_r   0.31\n",
              "3         80      115      AU01_r   0.00\n",
              "4         80      154      AU01_r   1.26\n",
              "...       ..      ...         ...    ...\n",
              "36188252  27  21069.0      AU45_r   1.50\n",
              "36188253  27  21070.0      AU45_r   1.23\n",
              "36188254  27  21071.0      AU45_r   1.43\n",
              "36188255  27  21072.0      AU45_r   1.23\n",
              "36188256  27  21073.0      AU45_r   1.49\n",
              "\n",
              "[36188257 rows x 4 columns]"
            ]
          },
          "metadata": {},
          "output_type": "display_data"
        }
      ],
      "source": [
        "display(clean_df_long_format)"
      ]
    },
    {
      "cell_type": "code",
      "execution_count": 30,
      "metadata": {},
      "outputs": [
        {
          "name": "stdout",
          "output_type": "stream",
          "text": [
            "ID             0\n",
            "frame          0\n",
            "measurement    0\n",
            "value          0\n",
            "dtype: int64\n"
          ]
        }
      ],
      "source": [
        "nan_counts_clean = clean_df_long_format.isna().sum()\n",
        "print(nan_counts_clean)"
      ]
    },
    {
      "cell_type": "code",
      "execution_count": 31,
      "metadata": {},
      "outputs": [
        {
          "data": {
            "text/html": [
              "<div>\n",
              "<style scoped>\n",
              "    .dataframe tbody tr th:only-of-type {\n",
              "        vertical-align: middle;\n",
              "    }\n",
              "\n",
              "    .dataframe tbody tr th {\n",
              "        vertical-align: top;\n",
              "    }\n",
              "\n",
              "    .dataframe thead th {\n",
              "        text-align: right;\n",
              "    }\n",
              "</style>\n",
              "<table border=\"1\" class=\"dataframe\">\n",
              "  <thead>\n",
              "    <tr style=\"text-align: right;\">\n",
              "      <th></th>\n",
              "      <th>ID</th>\n",
              "      <th>frame</th>\n",
              "      <th>measurement</th>\n",
              "      <th>value</th>\n",
              "    </tr>\n",
              "  </thead>\n",
              "  <tbody>\n",
              "    <tr>\n",
              "      <th>0</th>\n",
              "      <td>80</td>\n",
              "      <td>104</td>\n",
              "      <td>AU01_r</td>\n",
              "      <td>0.00</td>\n",
              "    </tr>\n",
              "    <tr>\n",
              "      <th>1</th>\n",
              "      <td>80</td>\n",
              "      <td>105</td>\n",
              "      <td>AU01_r</td>\n",
              "      <td>0.00</td>\n",
              "    </tr>\n",
              "    <tr>\n",
              "      <th>2</th>\n",
              "      <td>80</td>\n",
              "      <td>112</td>\n",
              "      <td>AU01_r</td>\n",
              "      <td>0.31</td>\n",
              "    </tr>\n",
              "    <tr>\n",
              "      <th>3</th>\n",
              "      <td>80</td>\n",
              "      <td>115</td>\n",
              "      <td>AU01_r</td>\n",
              "      <td>0.00</td>\n",
              "    </tr>\n",
              "    <tr>\n",
              "      <th>4</th>\n",
              "      <td>80</td>\n",
              "      <td>154</td>\n",
              "      <td>AU01_r</td>\n",
              "      <td>1.26</td>\n",
              "    </tr>\n",
              "    <tr>\n",
              "      <th>...</th>\n",
              "      <td>...</td>\n",
              "      <td>...</td>\n",
              "      <td>...</td>\n",
              "      <td>...</td>\n",
              "    </tr>\n",
              "    <tr>\n",
              "      <th>36188252</th>\n",
              "      <td>27</td>\n",
              "      <td>21069.0</td>\n",
              "      <td>AU45_r</td>\n",
              "      <td>1.50</td>\n",
              "    </tr>\n",
              "    <tr>\n",
              "      <th>36188253</th>\n",
              "      <td>27</td>\n",
              "      <td>21070.0</td>\n",
              "      <td>AU45_r</td>\n",
              "      <td>1.23</td>\n",
              "    </tr>\n",
              "    <tr>\n",
              "      <th>36188254</th>\n",
              "      <td>27</td>\n",
              "      <td>21071.0</td>\n",
              "      <td>AU45_r</td>\n",
              "      <td>1.43</td>\n",
              "    </tr>\n",
              "    <tr>\n",
              "      <th>36188255</th>\n",
              "      <td>27</td>\n",
              "      <td>21072.0</td>\n",
              "      <td>AU45_r</td>\n",
              "      <td>1.23</td>\n",
              "    </tr>\n",
              "    <tr>\n",
              "      <th>36188256</th>\n",
              "      <td>27</td>\n",
              "      <td>21073.0</td>\n",
              "      <td>AU45_r</td>\n",
              "      <td>1.49</td>\n",
              "    </tr>\n",
              "  </tbody>\n",
              "</table>\n",
              "<p>36188257 rows × 4 columns</p>\n",
              "</div>"
            ],
            "text/plain": [
              "          ID    frame measurement  value\n",
              "0         80      104      AU01_r   0.00\n",
              "1         80      105      AU01_r   0.00\n",
              "2         80      112      AU01_r   0.31\n",
              "3         80      115      AU01_r   0.00\n",
              "4         80      154      AU01_r   1.26\n",
              "...       ..      ...         ...    ...\n",
              "36188252  27  21069.0      AU45_r   1.50\n",
              "36188253  27  21070.0      AU45_r   1.23\n",
              "36188254  27  21071.0      AU45_r   1.43\n",
              "36188255  27  21072.0      AU45_r   1.23\n",
              "36188256  27  21073.0      AU45_r   1.49\n",
              "\n",
              "[36188257 rows x 4 columns]"
            ]
          },
          "metadata": {},
          "output_type": "display_data"
        }
      ],
      "source": [
        "display(clean_df_long_format)"
      ]
    },
    {
      "cell_type": "code",
      "execution_count": 32,
      "metadata": {},
      "outputs": [],
      "source": [
        "# Convert 'ID' and 'frame' columns to integer data type\n",
        "clean_df_long_format['ID'] = clean_df_long_format['ID'].astype(int)\n",
        "clean_df_long_format['frame'] = clean_df_long_format['frame'].astype(int)\n",
        "\n",
        "# # Convert 'measurement' column to string data type\n",
        "clean_df_long_format['measurement'] = clean_df_long_format['measurement'].astype(str)"
      ]
    },
    {
      "cell_type": "code",
      "execution_count": 33,
      "metadata": {},
      "outputs": [],
      "source": [
        "clean_df_long_format.to_csv('/Users/dionnespaltman/Desktop/downloading_new/clean_df_long_format_incomplete.csv', index=True)\n"
      ]
    },
    {
      "cell_type": "code",
      "execution_count": 19,
      "metadata": {},
      "outputs": [
        {
          "name": "stdout",
          "output_type": "stream",
          "text": [
            "ID               int64\n",
            "frame            int64\n",
            "measurement     object\n",
            "value          float64\n",
            "dtype: object\n"
          ]
        }
      ],
      "source": [
        "column_types = clean_df_long_format.dtypes\n",
        "print(column_types)"
      ]
    },
    {
      "cell_type": "code",
      "execution_count": null,
      "metadata": {},
      "outputs": [],
      "source": [
        "# Specificeer de gewenste kenmerken\n",
        "settings = {\n",
        "    'sum_values': {},\n",
        "    'variance': {},\n",
        "    'standard_deviation': {},\n",
        "    'maximum': {},\n",
        "    'minimum': {},\n",
        "    #'median': {},\n",
        "    'mean': {},\n",
        "    'mean_abs_change': {},  #proxy voor gemiddelde van de wortel van de kwadraten als 'mean root square' niet direct beschikbaar is\n",
        "}\n",
        "\n",
        "# Extract features met aangepaste instellingen\n",
        "extracted_features_clean = extract_features(\n",
        "    clean_df_long_format,\n",
        "    column_id='ID',  # Identifies the time series\n",
        "    column_sort='frame',  # Orders the time points\n",
        "    column_kind='measurement',  # Distinguishes between different variables if necessary\n",
        "    column_value='value',  # The actual measurements\n",
        "    default_fc_parameters=settings\n",
        ")"
      ]
    },
    {
      "cell_type": "markdown",
      "metadata": {},
      "source": [
        "If you've done this already, you can just load the file. "
      ]
    },
    {
      "cell_type": "code",
      "execution_count": 21,
      "metadata": {},
      "outputs": [],
      "source": [
        "path = '/Users/dionnespaltman/Desktop/downloading_new/extracted_features_clean_incomplete.csv'\n",
        "extracted_features_clean = pd.read_csv(path)"
      ]
    },
    {
      "cell_type": "code",
      "execution_count": 22,
      "metadata": {},
      "outputs": [
        {
          "name": "stdout",
          "output_type": "stream",
          "text": [
            "<bound method NDFrame.head of      Unnamed: 0   AU01_r__sum_values   AU01_r__variance  \\\n",
            "0             5              6142.65           0.233452   \n",
            "1             6              6802.40           0.437904   \n",
            "2             7              7125.50           0.333478   \n",
            "3             8              5542.21           0.222518   \n",
            "4             9              5854.51           0.164812   \n",
            "..          ...                  ...                ...   \n",
            "178         328              1543.09           0.225924   \n",
            "179         329              1479.36           0.138269   \n",
            "180         330              1066.31           0.078431   \n",
            "181         331              1691.75           0.216956   \n",
            "182         332              1283.27           0.152346   \n",
            "\n",
            "      AU01_r__standard_deviation   AU01_r__maximum   AU01_r__minimum  \\\n",
            "0                       0.483169              4.59               0.0   \n",
            "1                       0.661743              5.00               0.0   \n",
            "2                       0.577475              5.00               0.0   \n",
            "3                       0.471719              4.22               0.0   \n",
            "4                       0.405970              4.64               0.0   \n",
            "..                           ...               ...               ...   \n",
            "178                     0.475314              3.82               0.0   \n",
            "179                     0.371846              2.98               0.0   \n",
            "180                     0.280056              2.57               0.0   \n",
            "181                     0.465785              2.59               0.0   \n",
            "182                     0.390315              3.11               0.0   \n",
            "\n",
            "      AU01_r__mean   AU01_r__mean_abs_change   AU02_r__sum_values  \\\n",
            "0         0.245529                  0.093365              2545.74   \n",
            "1         0.389845                  0.131898              3626.81   \n",
            "2         0.281240                  0.252769              5123.91   \n",
            "3         0.276654                  0.068581              2367.16   \n",
            "4         0.259382                  0.092342              2084.46   \n",
            "..             ...                       ...                  ...   \n",
            "178       0.254048                  0.082508               766.74   \n",
            "179       0.216851                  0.226594               905.73   \n",
            "180       0.183942                  0.152402               849.92   \n",
            "181       0.322484                  0.273945               780.01   \n",
            "182       0.230266                  0.267913               654.81   \n",
            "\n",
            "      AU02_r__variance  ...   AU26_r__minimum   AU26_r__mean  \\\n",
            "0             0.078076  ...               0.0       0.321875   \n",
            "1             0.239063  ...               0.0       0.676600   \n",
            "2             0.303784  ...               0.0       0.660326   \n",
            "3             0.093930  ...               0.0       0.701038   \n",
            "4             0.066052  ...               0.0       0.729662   \n",
            "..                 ...  ...               ...            ...   \n",
            "178           0.114677  ...               0.0       0.415239   \n",
            "179           0.114883  ...               0.0       0.404461   \n",
            "180           0.096006  ...               0.0       0.419805   \n",
            "181           0.110991  ...               0.0       0.539449   \n",
            "182           0.063012  ...               0.0       0.421959   \n",
            "\n",
            "      AU26_r__mean_abs_change   AU45_r__sum_values   AU45_r__variance  \\\n",
            "0                    0.099693              9502.95           0.365947   \n",
            "1                    0.204811              5834.73           0.311603   \n",
            "2                    0.469192             15768.86           1.250335   \n",
            "3                    0.209352              7791.52           0.409860   \n",
            "4                    0.146979             11029.72           0.698892   \n",
            "..                        ...                  ...                ...   \n",
            "178                  0.362868              2693.11           0.668294   \n",
            "179                  0.367889              4740.86           1.369941   \n",
            "180                  0.255323              3189.20           0.889855   \n",
            "181                  0.320787              2740.62           1.085287   \n",
            "182                  0.320526              2930.24           1.051245   \n",
            "\n",
            "      AU45_r__standard_deviation   AU45_r__maximum   AU45_r__minimum  \\\n",
            "0                       0.604936              3.78               0.0   \n",
            "1                       0.558214              3.95               0.0   \n",
            "2                       1.118184              5.00               0.0   \n",
            "3                       0.640203              3.67               0.0   \n",
            "4                       0.835998              4.63               0.0   \n",
            "..                           ...               ...               ...   \n",
            "178                     0.817492              4.96               0.0   \n",
            "179                     1.170445              5.00               0.0   \n",
            "180                     0.943322              4.95               0.0   \n",
            "181                     1.041771              5.00               0.0   \n",
            "182                     1.025302              4.52               0.0   \n",
            "\n",
            "      AU45_r__mean   AU45_r__mean_abs_change  \n",
            "0         0.379845                  0.128288  \n",
            "1         0.334388                  0.157706  \n",
            "2         0.622389                  0.636920  \n",
            "3         0.388934                  0.117176  \n",
            "4         0.488668                  0.162506  \n",
            "..             ...                       ...  \n",
            "178       0.443383                  0.368594  \n",
            "179       0.694937                  0.718933  \n",
            "180       0.550147                  0.427193  \n",
            "181       0.522421                  0.480385  \n",
            "182       0.525792                  0.476224  \n",
            "\n",
            "[183 rows x 120 columns]>\n"
          ]
        }
      ],
      "source": [
        "print(extracted_features_clean.head)"
      ]
    },
    {
      "cell_type": "code",
      "execution_count": 42,
      "metadata": {},
      "outputs": [],
      "source": [
        "extracted_features_clean.to_csv('/Users/dionnespaltman/Desktop/downloading_new/extracted_features_clean_incomplete.csv', index=True)"
      ]
    },
    {
      "cell_type": "markdown",
      "metadata": {},
      "source": [
        "## Understanding extracted features "
      ]
    },
    {
      "cell_type": "code",
      "execution_count": 23,
      "metadata": {},
      "outputs": [
        {
          "name": "stdout",
          "output_type": "stream",
          "text": [
            "       Unnamed: 0   AU01_r__sum_values   AU01_r__variance  \\\n",
            "count  183.000000           183.000000         183.000000   \n",
            "mean   132.688525          6669.963388           0.406814   \n",
            "std    107.812853          5330.085086           0.287668   \n",
            "min      5.000000             1.590000           0.009519   \n",
            "25%     50.500000          1331.710000           0.221400   \n",
            "50%     98.000000          6786.440000           0.333478   \n",
            "75%    145.500000          9889.495000           0.522462   \n",
            "max    332.000000         22053.430000           1.617627   \n",
            "\n",
            "        AU01_r__standard_deviation   AU01_r__maximum   AU01_r__minimum  \\\n",
            "count                   183.000000        183.000000        183.000000   \n",
            "mean                      0.599693          4.208743         -0.043716   \n",
            "std                       0.217808          1.047440          0.441447   \n",
            "min                       0.097566          0.380000         -4.330000   \n",
            "25%                       0.470531          3.665000          0.000000   \n",
            "50%                       0.577475          4.640000          0.000000   \n",
            "75%                       0.722805          5.000000          0.000000   \n",
            "max                       1.271860          7.080000          0.660000   \n",
            "\n",
            "        AU01_r__mean   AU01_r__mean_abs_change   AU02_r__sum_values  \\\n",
            "count     183.000000                183.000000           183.000000   \n",
            "mean        0.348603                  0.145677          3194.100437   \n",
            "std         0.156000                  0.088276          2625.492504   \n",
            "min         0.056170                  0.021667             4.150000   \n",
            "25%         0.253128                  0.081284           766.090000   \n",
            "50%         0.316426                  0.119841          3082.200000   \n",
            "75%         0.419314                  0.203542          4800.915000   \n",
            "max         1.279710                  0.459468         16341.400000   \n",
            "\n",
            "        AU02_r__variance  ...   AU26_r__minimum   AU26_r__mean  \\\n",
            "count         183.000000  ...        183.000000     183.000000   \n",
            "mean            0.202943  ...         -0.034153       0.655815   \n",
            "std             0.192262  ...          0.328298       0.262880   \n",
            "min             0.010520  ...         -3.920000       0.175808   \n",
            "25%             0.095351  ...          0.000000       0.448457   \n",
            "50%             0.154236  ...          0.000000       0.650452   \n",
            "75%             0.251469  ...          0.000000       0.795873   \n",
            "max             1.642312  ...          0.000000       1.935325   \n",
            "\n",
            "        AU26_r__mean_abs_change   AU45_r__sum_values   AU45_r__variance  \\\n",
            "count                183.000000           183.000000         183.000000   \n",
            "mean                   0.232247          8823.075902           0.773932   \n",
            "std                    0.129525          6059.583387           0.343754   \n",
            "min                    0.061436             0.360000           0.000306   \n",
            "25%                    0.151222          2620.855000           0.530242   \n",
            "50%                    0.209352          9502.950000           0.735545   \n",
            "75%                    0.282942         13438.800000           0.980779   \n",
            "max                    1.022075         27436.600000           1.935481   \n",
            "\n",
            "        AU45_r__standard_deviation   AU45_r__maximum   AU45_r__minimum  \\\n",
            "count                   183.000000        183.000000        183.000000   \n",
            "mean                      0.855411          4.565683         -0.046503   \n",
            "std                       0.206001          0.699956          0.384820   \n",
            "min                       0.017500          0.120000         -4.290000   \n",
            "25%                       0.728174          4.330000          0.000000   \n",
            "50%                       0.857639          4.830000          0.000000   \n",
            "75%                       0.990342          5.000000          0.000000   \n",
            "max                       1.391216          6.750000          0.000000   \n",
            "\n",
            "        AU45_r__mean   AU45_r__mean_abs_change  \n",
            "count     183.000000                183.000000  \n",
            "mean        0.498023                  0.274535  \n",
            "std         0.143751                  0.169977  \n",
            "min         0.002609                  0.001752  \n",
            "25%         0.406272                  0.145954  \n",
            "50%         0.491571                  0.215732  \n",
            "75%         0.582867                  0.371223  \n",
            "max         1.035161                  0.892924  \n",
            "\n",
            "[8 rows x 120 columns]\n"
          ]
        }
      ],
      "source": [
        "print(extracted_features_clean.describe())"
      ]
    },
    {
      "cell_type": "markdown",
      "metadata": {},
      "source": [
        "Running the code below took about # minutes. "
      ]
    },
    {
      "cell_type": "code",
      "execution_count": 45,
      "metadata": {},
      "outputs": [],
      "source": [
        "# visualization (for example, using seaborn)\n",
        "import seaborn as sns\n",
        "sns.pairplot(extracted_features_clean)"
      ]
    },
    {
      "cell_type": "markdown",
      "metadata": {},
      "source": [
        "### Reducing features to hte most important ones "
      ]
    },
    {
      "cell_type": "markdown",
      "metadata": {},
      "source": [
        "In this example, y represents the target variable you are trying to predict or classify. The select_features function filters out the irrelevant features, keeping only those with significant predictive power."
      ]
    },
    {
      "cell_type": "code",
      "execution_count": 26,
      "metadata": {},
      "outputs": [
        {
          "name": "stdout",
          "output_type": "stream",
          "text": [
            "320\n"
          ]
        }
      ],
      "source": [
        "print(len(donor_info['VVR_group']))"
      ]
    },
    {
      "cell_type": "code",
      "execution_count": 27,
      "metadata": {},
      "outputs": [
        {
          "name": "stdout",
          "output_type": "stream",
          "text": [
            "183\n"
          ]
        }
      ],
      "source": [
        "print(len(extracted_features_clean))"
      ]
    },
    {
      "cell_type": "code",
      "execution_count": 25,
      "metadata": {},
      "outputs": [
        {
          "ename": "AssertionError",
          "evalue": "X and y must contain the same number of samples.",
          "output_type": "error",
          "traceback": [
            "\u001b[0;31m---------------------------------------------------------------------------\u001b[0m",
            "\u001b[0;31mAssertionError\u001b[0m                            Traceback (most recent call last)",
            "Cell \u001b[0;32mIn[25], line 11\u001b[0m\n\u001b[1;32m      8\u001b[0m y \u001b[38;5;241m=\u001b[39m donor_info[\u001b[38;5;124m'\u001b[39m\u001b[38;5;124mVVR_group\u001b[39m\u001b[38;5;124m'\u001b[39m]\n\u001b[1;32m     10\u001b[0m \u001b[38;5;66;03m# selecting important features \u001b[39;00m\n\u001b[0;32m---> 11\u001b[0m important_features \u001b[38;5;241m=\u001b[39m \u001b[43mselect_features\u001b[49m\u001b[43m(\u001b[49m\u001b[43mextracted_features_clean\u001b[49m\u001b[43m,\u001b[49m\u001b[43m \u001b[49m\u001b[43my\u001b[49m\u001b[43m)\u001b[49m\n\u001b[1;32m     13\u001b[0m \u001b[38;5;66;03m# display important features\u001b[39;00m\n\u001b[1;32m     14\u001b[0m \u001b[38;5;28mprint\u001b[39m(important_features\u001b[38;5;241m.\u001b[39mhead())\n",
            "File \u001b[0;32m~/anaconda3/lib/python3.10/site-packages/tsfresh/feature_selection/selection.py:154\u001b[0m, in \u001b[0;36mselect_features\u001b[0;34m(X, y, test_for_binary_target_binary_feature, test_for_binary_target_real_feature, test_for_real_target_binary_feature, test_for_real_target_real_feature, fdr_level, hypotheses_independent, n_jobs, show_warnings, chunksize, ml_task, multiclass, n_significant)\u001b[0m\n\u001b[1;32m    150\u001b[0m \u001b[38;5;28;01massert\u001b[39;00m \u001b[38;5;28misinstance\u001b[39m(y, (pd\u001b[38;5;241m.\u001b[39mSeries, np\u001b[38;5;241m.\u001b[39mndarray)), (\n\u001b[1;32m    151\u001b[0m     \u001b[38;5;124m\"\u001b[39m\u001b[38;5;124mThe type of target vector y must be one of: \u001b[39m\u001b[38;5;124m\"\u001b[39m \u001b[38;5;124m\"\u001b[39m\u001b[38;5;124mpandas.Series, numpy.ndarray\u001b[39m\u001b[38;5;124m\"\u001b[39m\n\u001b[1;32m    152\u001b[0m )\n\u001b[1;32m    153\u001b[0m \u001b[38;5;28;01massert\u001b[39;00m \u001b[38;5;28mlen\u001b[39m(y) \u001b[38;5;241m>\u001b[39m \u001b[38;5;241m1\u001b[39m, \u001b[38;5;124m\"\u001b[39m\u001b[38;5;124my must contain at least two samples.\u001b[39m\u001b[38;5;124m\"\u001b[39m\n\u001b[0;32m--> 154\u001b[0m \u001b[38;5;28;01massert\u001b[39;00m \u001b[38;5;28mlen\u001b[39m(X) \u001b[38;5;241m==\u001b[39m \u001b[38;5;28mlen\u001b[39m(y), \u001b[38;5;124m\"\u001b[39m\u001b[38;5;124mX and y must contain the same number of samples.\u001b[39m\u001b[38;5;124m\"\u001b[39m\n\u001b[1;32m    155\u001b[0m \u001b[38;5;28;01massert\u001b[39;00m (\n\u001b[1;32m    156\u001b[0m     \u001b[38;5;28mlen\u001b[39m(\u001b[38;5;28mset\u001b[39m(y)) \u001b[38;5;241m>\u001b[39m \u001b[38;5;241m1\u001b[39m\n\u001b[1;32m    157\u001b[0m ), \u001b[38;5;124m\"\u001b[39m\u001b[38;5;124mFeature selection is only possible if more than 1 label/class is provided\u001b[39m\u001b[38;5;124m\"\u001b[39m\n\u001b[1;32m    159\u001b[0m \u001b[38;5;28;01mif\u001b[39;00m \u001b[38;5;28misinstance\u001b[39m(y, pd\u001b[38;5;241m.\u001b[39mSeries) \u001b[38;5;129;01mand\u001b[39;00m \u001b[38;5;28mset\u001b[39m(X\u001b[38;5;241m.\u001b[39mindex) \u001b[38;5;241m!=\u001b[39m \u001b[38;5;28mset\u001b[39m(y\u001b[38;5;241m.\u001b[39mindex):\n",
            "\u001b[0;31mAssertionError\u001b[0m: X and y must contain the same number of samples."
          ]
        }
      ],
      "source": [
        "from tsfresh import select_features\n",
        "from tsfresh.utilities.dataframe_functions import impute\n",
        "\n",
        "# impute missing values \n",
        "impute(extracted_features_clean)\n",
        "\n",
        "# your target variable \n",
        "y = donor_info['VVR_group']\n",
        "\n",
        "# selecting important features \n",
        "important_features = select_features(extracted_features_clean, y)\n",
        "\n",
        "# display important features\n",
        "print(important_features.head())\n"
      ]
    }
  ],
  "metadata": {
    "colab": {
      "provenance": []
    },
    "kernelspec": {
      "display_name": "Python 3",
      "name": "python3"
    },
    "language_info": {
      "codemirror_mode": {
        "name": "ipython",
        "version": 3
      },
      "file_extension": ".py",
      "mimetype": "text/x-python",
      "name": "python",
      "nbconvert_exporter": "python",
      "pygments_lexer": "ipython3",
      "version": "3.10.9"
    }
  },
  "nbformat": 4,
  "nbformat_minor": 0
}
