{
  "cells": [
    {
      "cell_type": "markdown",
      "metadata": {},
      "source": [
        "# TS fresh for action units"
      ]
    },
    {
      "cell_type": "code",
      "execution_count": 2,
      "metadata": {},
      "outputs": [],
      "source": [
        "import pandas as pd\n",
        "import pickle"
      ]
    },
    {
      "cell_type": "code",
      "execution_count": 3,
      "metadata": {
        "id": "yi0nPS3HSF97"
      },
      "outputs": [],
      "source": [
        "# Construct the path \n",
        "au_data_path = '/Users/dionnespaltman/Desktop/downloading_new/big_dataframe.pkl'\n",
        "\n",
        "# Load the dataset\n",
        "au_df = pd.read_pickle(au_data_path)"
      ]
    },
    {
      "cell_type": "code",
      "execution_count": 4,
      "metadata": {
        "colab": {
          "base_uri": "https://localhost:8080/"
        },
        "id": "z0ge5BbCSGAi",
        "outputId": "e38060b4-e66e-4828-898a-f6dcb2b670df"
      },
      "outputs": [
        {
          "name": "stdout",
          "output_type": "stream",
          "text": [
            "Index(['frame', 'face_id', 'confidence', ' success', ' AU01_r', ' AU02_r',\n",
            "       ' AU04_r', ' AU05_r', ' AU06_r', ' AU07_r', ' AU09_r', ' AU10_r',\n",
            "       ' AU12_r', ' AU14_r', ' AU15_r', ' AU17_r', ' AU20_r', ' AU23_r',\n",
            "       ' AU25_r', ' AU26_r', ' AU45_r', ' AU01_c', ' AU02_c', ' AU04_c',\n",
            "       ' AU05_c', ' AU06_c', ' AU07_c', ' AU09_c', ' AU10_c', ' AU12_c',\n",
            "       ' AU14_c', ' AU15_c', ' AU17_c', ' AU20_c', ' AU23_c', ' AU25_c',\n",
            "       ' AU26_c', ' AU28_c', ' AU45_c', 'ID', 'Timeframe'],\n",
            "      dtype='object')\n"
          ]
        }
      ],
      "source": [
        "print(au_df.columns)"
      ]
    },
    {
      "cell_type": "code",
      "execution_count": 38,
      "metadata": {},
      "outputs": [
        {
          "name": "stdout",
          "output_type": "stream",
          "text": [
            "  frame  face_id  confidence   success   AU01_r   AU02_r   AU04_r   AU05_r  \\\n",
            "0   104      0.0        0.88       1.0     0.00     0.00      0.0      0.0   \n",
            "1   105      0.0        0.98       1.0     0.00     0.00      0.0      0.0   \n",
            "2   112      0.0        0.98       1.0     0.31     0.59      0.0      0.0   \n",
            "3   115      0.0        0.98       1.0     0.00     0.12      0.0      0.0   \n",
            "4   154      0.0        0.98       1.0     1.26     1.67      0.0      0.0   \n",
            "\n",
            "    AU06_r   AU07_r  ...   AU15_c   AU17_c   AU20_c   AU23_c   AU25_c  \\\n",
            "0     1.34     0.22  ...      0.0      0.0      0.0      0.0      0.0   \n",
            "1     1.34     0.22  ...      0.0      0.0      0.0      0.0      0.0   \n",
            "2     0.31     0.31  ...      0.0      0.0      0.0      0.0      0.0   \n",
            "3     0.32     0.06  ...      0.0      0.0      0.0      0.0      0.0   \n",
            "4     0.39     0.26  ...      1.0      0.0      0.0      0.0      1.0   \n",
            "\n",
            "    AU26_c   AU28_c   AU45_c  ID  Timeframe  \n",
            "0      0.0      0.0      0.0  80  [4, 5, 6]  \n",
            "1      0.0      0.0      0.0  80  [4, 5, 6]  \n",
            "2      0.0      0.0      0.0  80  [4, 5, 6]  \n",
            "3      0.0      0.0      0.0  80  [4, 5, 6]  \n",
            "4      1.0      1.0      0.0  80  [4, 5, 6]  \n",
            "\n",
            "[5 rows x 41 columns]\n"
          ]
        }
      ],
      "source": [
        "print(au_df.head())"
      ]
    },
    {
      "cell_type": "code",
      "execution_count": 6,
      "metadata": {},
      "outputs": [
        {
          "name": "stdout",
          "output_type": "stream",
          "text": [
            "184\n"
          ]
        }
      ],
      "source": [
        "print(len(au_df['ID'].unique()))\n",
        "\n",
        "# I have thus 184 unique variables "
      ]
    },
    {
      "cell_type": "code",
      "execution_count": 26,
      "metadata": {},
      "outputs": [
        {
          "name": "stdout",
          "output_type": "stream",
          "text": [
            "frame              0\n",
            "face_id            0\n",
            "confidence         0\n",
            " success           0\n",
            " AU01_r       243394\n",
            " AU02_r       243394\n",
            " AU04_r       243394\n",
            " AU05_r       243394\n",
            " AU06_r       243394\n",
            " AU07_r       243394\n",
            " AU09_r       243394\n",
            " AU10_r       243394\n",
            " AU12_r       243394\n",
            " AU14_r       243394\n",
            " AU15_r       243394\n",
            " AU17_r       243394\n",
            " AU20_r       243394\n",
            " AU23_r       243394\n",
            " AU25_r       243394\n",
            " AU26_r       243394\n",
            " AU45_r       243394\n",
            " AU01_c       243394\n",
            " AU02_c       243394\n",
            " AU04_c       243394\n",
            " AU05_c       243394\n",
            " AU06_c       243394\n",
            " AU07_c       243394\n",
            " AU09_c       243394\n",
            " AU10_c       243394\n",
            " AU12_c       243394\n",
            " AU14_c       243394\n",
            " AU15_c       243394\n",
            " AU17_c       243394\n",
            " AU20_c       243394\n",
            " AU23_c       243394\n",
            " AU25_c       243394\n",
            " AU26_c       243394\n",
            " AU28_c       243394\n",
            " AU45_c       243394\n",
            "ID                 0\n",
            "Timeframe          0\n",
            "dtype: int64\n"
          ]
        }
      ],
      "source": [
        "nan_counts_au_df = au_df.isna().sum()\n",
        "print(nan_counts_au_df)"
      ]
    },
    {
      "cell_type": "code",
      "execution_count": 39,
      "metadata": {},
      "outputs": [
        {
          "name": "stdout",
          "output_type": "stream",
          "text": [
            "frame         3395916\n",
            "face_id       3395916\n",
            "confidence    3395916\n",
            " success      3395916\n",
            " AU01_r       3152522\n",
            " AU02_r       3152522\n",
            " AU04_r       3152522\n",
            " AU05_r       3152522\n",
            " AU06_r       3152522\n",
            " AU07_r       3152522\n",
            " AU09_r       3152522\n",
            " AU10_r       3152522\n",
            " AU12_r       3152522\n",
            " AU14_r       3152522\n",
            " AU15_r       3152522\n",
            " AU17_r       3152522\n",
            " AU20_r       3152522\n",
            " AU23_r       3152522\n",
            " AU25_r       3152522\n",
            " AU26_r       3152522\n",
            " AU45_r       3152522\n",
            " AU01_c       3152522\n",
            " AU02_c       3152522\n",
            " AU04_c       3152522\n",
            " AU05_c       3152522\n",
            " AU06_c       3152522\n",
            " AU07_c       3152522\n",
            " AU09_c       3152522\n",
            " AU10_c       3152522\n",
            " AU12_c       3152522\n",
            " AU14_c       3152522\n",
            " AU15_c       3152522\n",
            " AU17_c       3152522\n",
            " AU20_c       3152522\n",
            " AU23_c       3152522\n",
            " AU25_c       3152522\n",
            " AU26_c       3152522\n",
            " AU28_c       3152522\n",
            " AU45_c       3152522\n",
            "ID            3395916\n",
            "Timeframe     3395916\n",
            "dtype: int64\n"
          ]
        }
      ],
      "source": [
        "not_nan_counts_au_df = au_df.count()\n",
        "print(not_nan_counts_au_df)"
      ]
    },
    {
      "cell_type": "code",
      "execution_count": null,
      "metadata": {
        "colab": {
          "base_uri": "https://localhost:8080/"
        },
        "id": "40_DdinPSGFd",
        "outputId": "b6591ca9-0424-430b-de30-de9bef74d4f9"
      },
      "outputs": [],
      "source": [
        "# Necessary imports\n",
        "!pip install tsfresh\n",
        "\n",
        "import pandas as pd\n",
        "from tsfresh import extract_features\n",
        "from tsfresh.feature_extraction import EfficientFCParameters\n",
        "from sklearn.preprocessing import StandardScaler"
      ]
    },
    {
      "cell_type": "markdown",
      "metadata": {},
      "source": [
        "I'm only interested in the intensity values (so the variables with R at the end, not C). "
      ]
    },
    {
      "cell_type": "code",
      "execution_count": 20,
      "metadata": {
        "id": "OL9Z0xyTSGIV"
      },
      "outputs": [],
      "source": [
        "au_long_format = pd.melt(au_df, id_vars=['ID', 'frame'],\n",
        "                                   var_name='measurement', value_name='value',\n",
        "                                   value_vars=[' AU01_r', ' AU02_r',\n",
        "       ' AU04_r', ' AU05_r', ' AU06_r', ' AU07_r', ' AU09_r', ' AU10_r',\n",
        "       ' AU12_r', ' AU14_r', ' AU15_r', ' AU17_r', ' AU20_r', ' AU23_r',\n",
        "       ' AU25_r', ' AU26_r', ' AU45_r'])"
      ]
    },
    {
      "cell_type": "code",
      "execution_count": 21,
      "metadata": {},
      "outputs": [
        {
          "data": {
            "text/html": [
              "<div>\n",
              "<style scoped>\n",
              "    .dataframe tbody tr th:only-of-type {\n",
              "        vertical-align: middle;\n",
              "    }\n",
              "\n",
              "    .dataframe tbody tr th {\n",
              "        vertical-align: top;\n",
              "    }\n",
              "\n",
              "    .dataframe thead th {\n",
              "        text-align: right;\n",
              "    }\n",
              "</style>\n",
              "<table border=\"1\" class=\"dataframe\">\n",
              "  <thead>\n",
              "    <tr style=\"text-align: right;\">\n",
              "      <th></th>\n",
              "      <th>ID</th>\n",
              "      <th>frame</th>\n",
              "      <th>measurement</th>\n",
              "      <th>value</th>\n",
              "    </tr>\n",
              "  </thead>\n",
              "  <tbody>\n",
              "    <tr>\n",
              "      <th>0</th>\n",
              "      <td>80</td>\n",
              "      <td>104</td>\n",
              "      <td>AU01_r</td>\n",
              "      <td>0.00</td>\n",
              "    </tr>\n",
              "    <tr>\n",
              "      <th>1</th>\n",
              "      <td>80</td>\n",
              "      <td>105</td>\n",
              "      <td>AU01_r</td>\n",
              "      <td>0.00</td>\n",
              "    </tr>\n",
              "    <tr>\n",
              "      <th>2</th>\n",
              "      <td>80</td>\n",
              "      <td>112</td>\n",
              "      <td>AU01_r</td>\n",
              "      <td>0.31</td>\n",
              "    </tr>\n",
              "    <tr>\n",
              "      <th>3</th>\n",
              "      <td>80</td>\n",
              "      <td>115</td>\n",
              "      <td>AU01_r</td>\n",
              "      <td>0.00</td>\n",
              "    </tr>\n",
              "    <tr>\n",
              "      <th>4</th>\n",
              "      <td>80</td>\n",
              "      <td>154</td>\n",
              "      <td>AU01_r</td>\n",
              "      <td>1.26</td>\n",
              "    </tr>\n",
              "    <tr>\n",
              "      <th>...</th>\n",
              "      <td>...</td>\n",
              "      <td>...</td>\n",
              "      <td>...</td>\n",
              "      <td>...</td>\n",
              "    </tr>\n",
              "    <tr>\n",
              "      <th>57730567</th>\n",
              "      <td>25</td>\n",
              "      <td>2196</td>\n",
              "      <td>AU45_r</td>\n",
              "      <td>0.00</td>\n",
              "    </tr>\n",
              "    <tr>\n",
              "      <th>57730568</th>\n",
              "      <td>25</td>\n",
              "      <td>2197</td>\n",
              "      <td>AU45_r</td>\n",
              "      <td>0.00</td>\n",
              "    </tr>\n",
              "    <tr>\n",
              "      <th>57730569</th>\n",
              "      <td>25</td>\n",
              "      <td>2198</td>\n",
              "      <td>AU45_r</td>\n",
              "      <td>0.00</td>\n",
              "    </tr>\n",
              "    <tr>\n",
              "      <th>57730570</th>\n",
              "      <td>25</td>\n",
              "      <td>2199</td>\n",
              "      <td>AU45_r</td>\n",
              "      <td>0.00</td>\n",
              "    </tr>\n",
              "    <tr>\n",
              "      <th>57730571</th>\n",
              "      <td>25</td>\n",
              "      <td>2200</td>\n",
              "      <td>AU45_r</td>\n",
              "      <td>0.00</td>\n",
              "    </tr>\n",
              "  </tbody>\n",
              "</table>\n",
              "<p>57730572 rows × 4 columns</p>\n",
              "</div>"
            ],
            "text/plain": [
              "          ID frame measurement  value\n",
              "0         80   104      AU01_r   0.00\n",
              "1         80   105      AU01_r   0.00\n",
              "2         80   112      AU01_r   0.31\n",
              "3         80   115      AU01_r   0.00\n",
              "4         80   154      AU01_r   1.26\n",
              "...       ..   ...         ...    ...\n",
              "57730567  25  2196      AU45_r   0.00\n",
              "57730568  25  2197      AU45_r   0.00\n",
              "57730569  25  2198      AU45_r   0.00\n",
              "57730570  25  2199      AU45_r   0.00\n",
              "57730571  25  2200      AU45_r   0.00\n",
              "\n",
              "[57730572 rows x 4 columns]"
            ]
          },
          "metadata": {},
          "output_type": "display_data"
        }
      ],
      "source": [
        "display(au_long_format)"
      ]
    },
    {
      "cell_type": "markdown",
      "metadata": {},
      "source": [
        "There are a lot of missing values. "
      ]
    },
    {
      "cell_type": "code",
      "execution_count": 25,
      "metadata": {},
      "outputs": [
        {
          "name": "stdout",
          "output_type": "stream",
          "text": [
            "ID                   0\n",
            "frame                0\n",
            "measurement          0\n",
            "value          4137698\n",
            "dtype: int64\n"
          ]
        }
      ],
      "source": [
        "nan_counts = au_long_format.isna().sum()\n",
        "print(nan_counts)"
      ]
    },
    {
      "cell_type": "code",
      "execution_count": 23,
      "metadata": {
        "colab": {
          "base_uri": "https://localhost:8080/"
        },
        "id": "hInmv7hJSdH0",
        "outputId": "74c7ae12-6254-4f26-9188-206a0229c258"
      },
      "outputs": [
        {
          "name": "stdout",
          "output_type": "stream",
          "text": [
            "Requirement already satisfied: tsfresh in /Users/dionnespaltman/anaconda3/lib/python3.10/site-packages (0.20.2)\n",
            "Requirement already satisfied: tqdm>=4.10.0 in /Users/dionnespaltman/anaconda3/lib/python3.10/site-packages (from tsfresh) (4.64.1)\n",
            "Requirement already satisfied: scipy>=1.2.0 in /Users/dionnespaltman/anaconda3/lib/python3.10/site-packages (from tsfresh) (1.10.0)\n",
            "Requirement already satisfied: pandas>=0.25.0 in /Users/dionnespaltman/anaconda3/lib/python3.10/site-packages (from tsfresh) (1.4.4)\n",
            "Requirement already satisfied: statsmodels>=0.13 in /Users/dionnespaltman/anaconda3/lib/python3.10/site-packages (from tsfresh) (0.13.5)\n",
            "Requirement already satisfied: patsy>=0.4.1 in /Users/dionnespaltman/anaconda3/lib/python3.10/site-packages (from tsfresh) (0.5.3)\n",
            "Requirement already satisfied: scikit-learn>=0.22.0 in /Users/dionnespaltman/anaconda3/lib/python3.10/site-packages (from tsfresh) (1.2.1)\n",
            "Requirement already satisfied: stumpy>=1.7.2 in /Users/dionnespaltman/anaconda3/lib/python3.10/site-packages (from tsfresh) (1.12.0)\n",
            "Requirement already satisfied: cloudpickle in /Users/dionnespaltman/anaconda3/lib/python3.10/site-packages (from tsfresh) (2.0.0)\n",
            "Requirement already satisfied: requests>=2.9.1 in /Users/dionnespaltman/anaconda3/lib/python3.10/site-packages (from tsfresh) (2.28.1)\n",
            "Requirement already satisfied: numpy>=1.15.1 in /Users/dionnespaltman/anaconda3/lib/python3.10/site-packages (from tsfresh) (1.23.5)\n",
            "Requirement already satisfied: pytz>=2020.1 in /Users/dionnespaltman/anaconda3/lib/python3.10/site-packages (from pandas>=0.25.0->tsfresh) (2022.7)\n",
            "Requirement already satisfied: python-dateutil>=2.8.1 in /Users/dionnespaltman/anaconda3/lib/python3.10/site-packages (from pandas>=0.25.0->tsfresh) (2.8.2)\n",
            "Requirement already satisfied: six in /Users/dionnespaltman/anaconda3/lib/python3.10/site-packages (from patsy>=0.4.1->tsfresh) (1.16.0)\n",
            "Requirement already satisfied: urllib3<1.27,>=1.21.1 in /Users/dionnespaltman/anaconda3/lib/python3.10/site-packages (from requests>=2.9.1->tsfresh) (1.26.14)\n",
            "Requirement already satisfied: charset-normalizer<3,>=2 in /Users/dionnespaltman/anaconda3/lib/python3.10/site-packages (from requests>=2.9.1->tsfresh) (2.0.4)\n",
            "Requirement already satisfied: idna<4,>=2.5 in /Users/dionnespaltman/anaconda3/lib/python3.10/site-packages (from requests>=2.9.1->tsfresh) (3.4)\n",
            "Requirement already satisfied: certifi>=2017.4.17 in /Users/dionnespaltman/anaconda3/lib/python3.10/site-packages (from requests>=2.9.1->tsfresh) (2023.7.22)\n",
            "Requirement already satisfied: joblib>=1.1.1 in /Users/dionnespaltman/anaconda3/lib/python3.10/site-packages (from scikit-learn>=0.22.0->tsfresh) (1.1.1)\n",
            "Requirement already satisfied: threadpoolctl>=2.0.0 in /Users/dionnespaltman/anaconda3/lib/python3.10/site-packages (from scikit-learn>=0.22.0->tsfresh) (2.2.0)\n",
            "Requirement already satisfied: packaging>=21.3 in /Users/dionnespaltman/anaconda3/lib/python3.10/site-packages (from statsmodels>=0.13->tsfresh) (22.0)\n",
            "Requirement already satisfied: numba>=0.55.2 in /Users/dionnespaltman/anaconda3/lib/python3.10/site-packages (from stumpy>=1.7.2->tsfresh) (0.56.4)\n",
            "Requirement already satisfied: llvmlite<0.40,>=0.39.0dev0 in /Users/dionnespaltman/anaconda3/lib/python3.10/site-packages (from numba>=0.55.2->stumpy>=1.7.2->tsfresh) (0.39.1)\n",
            "Requirement already satisfied: setuptools in /Users/dionnespaltman/anaconda3/lib/python3.10/site-packages (from numba>=0.55.2->stumpy>=1.7.2->tsfresh) (65.6.3)\n"
          ]
        }
      ],
      "source": [
        "!pip install tsfresh\n",
        "from tsfresh import extract_features"
      ]
    },
    {
      "cell_type": "markdown",
      "metadata": {},
      "source": [
        "In Judita her article, she used the following six intensity level characteristics: sum, variance, standard deviation, maximum, mean, and mean-root square values (total number of extracted features = 102). \n",
        "\n",
        "The code down below doesn't run, because the value contains NaN values (also seen above, where I counted the occurences of NaN values). "
      ]
    },
    {
      "cell_type": "code",
      "execution_count": 24,
      "metadata": {
        "colab": {
          "base_uri": "https://localhost:8080/"
        },
        "id": "jMUfK15mSC1N",
        "outputId": "468c35d8-c286-4883-8e54-e10aac6fd025"
      },
      "outputs": [
        {
          "ename": "ValueError",
          "evalue": "Column must not contain NaN values: value",
          "output_type": "error",
          "traceback": [
            "\u001b[0;31m---------------------------------------------------------------------------\u001b[0m",
            "\u001b[0;31mValueError\u001b[0m                                Traceback (most recent call last)",
            "Cell \u001b[0;32mIn[24], line 17\u001b[0m\n\u001b[1;32m      4\u001b[0m settings \u001b[38;5;241m=\u001b[39m {\n\u001b[1;32m      5\u001b[0m     \u001b[38;5;124m'\u001b[39m\u001b[38;5;124msum_values\u001b[39m\u001b[38;5;124m'\u001b[39m: {},\n\u001b[1;32m      6\u001b[0m     \u001b[38;5;124m'\u001b[39m\u001b[38;5;124mvariance\u001b[39m\u001b[38;5;124m'\u001b[39m: {},\n\u001b[0;32m   (...)\u001b[0m\n\u001b[1;32m     13\u001b[0m     \u001b[38;5;124m'\u001b[39m\u001b[38;5;124magg_linear_trend\u001b[39m\u001b[38;5;124m'\u001b[39m: [{\u001b[38;5;124m'\u001b[39m\u001b[38;5;124mattr\u001b[39m\u001b[38;5;124m'\u001b[39m: \u001b[38;5;124m'\u001b[39m\u001b[38;5;124mslope\u001b[39m\u001b[38;5;124m'\u001b[39m, \u001b[38;5;124m'\u001b[39m\u001b[38;5;124mf_agg\u001b[39m\u001b[38;5;124m'\u001b[39m: \u001b[38;5;124m'\u001b[39m\u001b[38;5;124mmax\u001b[39m\u001b[38;5;124m'\u001b[39m, \u001b[38;5;124m'\u001b[39m\u001b[38;5;124mchunk_len\u001b[39m\u001b[38;5;124m'\u001b[39m: \u001b[38;5;241m5\u001b[39m}, {\u001b[38;5;124m'\u001b[39m\u001b[38;5;124mattr\u001b[39m\u001b[38;5;124m'\u001b[39m: \u001b[38;5;124m'\u001b[39m\u001b[38;5;124mslope\u001b[39m\u001b[38;5;124m'\u001b[39m, \u001b[38;5;124m'\u001b[39m\u001b[38;5;124mf_agg\u001b[39m\u001b[38;5;124m'\u001b[39m: \u001b[38;5;124m'\u001b[39m\u001b[38;5;124mmin\u001b[39m\u001b[38;5;124m'\u001b[39m, \u001b[38;5;124m'\u001b[39m\u001b[38;5;124mchunk_len\u001b[39m\u001b[38;5;124m'\u001b[39m: \u001b[38;5;241m5\u001b[39m}]  \u001b[38;5;66;03m#maximale en minimale helling\u001b[39;00m\n\u001b[1;32m     14\u001b[0m }\n\u001b[1;32m     16\u001b[0m \u001b[38;5;66;03m# Extract features met aangepaste instellingen\u001b[39;00m\n\u001b[0;32m---> 17\u001b[0m extracted_features_thermal \u001b[38;5;241m=\u001b[39m \u001b[43mextract_features\u001b[49m\u001b[43m(\u001b[49m\n\u001b[1;32m     18\u001b[0m \u001b[43m    \u001b[49m\u001b[43mau_long_format\u001b[49m\u001b[43m,\u001b[49m\n\u001b[1;32m     19\u001b[0m \u001b[43m    \u001b[49m\u001b[43mcolumn_id\u001b[49m\u001b[38;5;241;43m=\u001b[39;49m\u001b[38;5;124;43m'\u001b[39;49m\u001b[38;5;124;43mID\u001b[39;49m\u001b[38;5;124;43m'\u001b[39;49m\u001b[43m,\u001b[49m\u001b[43m  \u001b[49m\u001b[38;5;66;43;03m# Identifies the time series\u001b[39;49;00m\n\u001b[1;32m     20\u001b[0m \u001b[43m    \u001b[49m\u001b[43mcolumn_sort\u001b[49m\u001b[38;5;241;43m=\u001b[39;49m\u001b[38;5;124;43m'\u001b[39;49m\u001b[38;5;124;43mframe\u001b[39;49m\u001b[38;5;124;43m'\u001b[39;49m\u001b[43m,\u001b[49m\u001b[43m  \u001b[49m\u001b[38;5;66;43;03m# Orders the time points\u001b[39;49;00m\n\u001b[1;32m     21\u001b[0m \u001b[43m    \u001b[49m\u001b[43mcolumn_kind\u001b[49m\u001b[38;5;241;43m=\u001b[39;49m\u001b[38;5;124;43m'\u001b[39;49m\u001b[38;5;124;43mmeasurement\u001b[39;49m\u001b[38;5;124;43m'\u001b[39;49m\u001b[43m,\u001b[49m\u001b[43m  \u001b[49m\u001b[38;5;66;43;03m# Distinguishes between different variables if necessary\u001b[39;49;00m\n\u001b[1;32m     22\u001b[0m \u001b[43m    \u001b[49m\u001b[43mcolumn_value\u001b[49m\u001b[38;5;241;43m=\u001b[39;49m\u001b[38;5;124;43m'\u001b[39;49m\u001b[38;5;124;43mvalue\u001b[39;49m\u001b[38;5;124;43m'\u001b[39;49m\u001b[43m,\u001b[49m\u001b[43m  \u001b[49m\u001b[38;5;66;43;03m# The actual measurements\u001b[39;49;00m\n\u001b[1;32m     23\u001b[0m \u001b[43m    \u001b[49m\u001b[43mdefault_fc_parameters\u001b[49m\u001b[38;5;241;43m=\u001b[39;49m\u001b[43msettings\u001b[49m\n\u001b[1;32m     24\u001b[0m \u001b[43m)\u001b[49m\n",
            "File \u001b[0;32m~/anaconda3/lib/python3.10/site-packages/tsfresh/feature_extraction/extraction.py:164\u001b[0m, in \u001b[0;36mextract_features\u001b[0;34m(timeseries_container, default_fc_parameters, kind_to_fc_parameters, column_id, column_sort, column_kind, column_value, chunksize, n_jobs, show_warnings, disable_progressbar, impute_function, profile, profiling_filename, profiling_sorting, distributor, pivot)\u001b[0m\n\u001b[1;32m    161\u001b[0m \u001b[38;5;28;01melse\u001b[39;00m:\n\u001b[1;32m    162\u001b[0m     warnings\u001b[38;5;241m.\u001b[39msimplefilter(\u001b[38;5;124m\"\u001b[39m\u001b[38;5;124mdefault\u001b[39m\u001b[38;5;124m\"\u001b[39m)\n\u001b[0;32m--> 164\u001b[0m result \u001b[38;5;241m=\u001b[39m \u001b[43m_do_extraction\u001b[49m\u001b[43m(\u001b[49m\n\u001b[1;32m    165\u001b[0m \u001b[43m    \u001b[49m\u001b[43mdf\u001b[49m\u001b[38;5;241;43m=\u001b[39;49m\u001b[43mtimeseries_container\u001b[49m\u001b[43m,\u001b[49m\n\u001b[1;32m    166\u001b[0m \u001b[43m    \u001b[49m\u001b[43mcolumn_id\u001b[49m\u001b[38;5;241;43m=\u001b[39;49m\u001b[43mcolumn_id\u001b[49m\u001b[43m,\u001b[49m\n\u001b[1;32m    167\u001b[0m \u001b[43m    \u001b[49m\u001b[43mcolumn_value\u001b[49m\u001b[38;5;241;43m=\u001b[39;49m\u001b[43mcolumn_value\u001b[49m\u001b[43m,\u001b[49m\n\u001b[1;32m    168\u001b[0m \u001b[43m    \u001b[49m\u001b[43mcolumn_kind\u001b[49m\u001b[38;5;241;43m=\u001b[39;49m\u001b[43mcolumn_kind\u001b[49m\u001b[43m,\u001b[49m\n\u001b[1;32m    169\u001b[0m \u001b[43m    \u001b[49m\u001b[43mcolumn_sort\u001b[49m\u001b[38;5;241;43m=\u001b[39;49m\u001b[43mcolumn_sort\u001b[49m\u001b[43m,\u001b[49m\n\u001b[1;32m    170\u001b[0m \u001b[43m    \u001b[49m\u001b[43mn_jobs\u001b[49m\u001b[38;5;241;43m=\u001b[39;49m\u001b[43mn_jobs\u001b[49m\u001b[43m,\u001b[49m\n\u001b[1;32m    171\u001b[0m \u001b[43m    \u001b[49m\u001b[43mchunk_size\u001b[49m\u001b[38;5;241;43m=\u001b[39;49m\u001b[43mchunksize\u001b[49m\u001b[43m,\u001b[49m\n\u001b[1;32m    172\u001b[0m \u001b[43m    \u001b[49m\u001b[43mdisable_progressbar\u001b[49m\u001b[38;5;241;43m=\u001b[39;49m\u001b[43mdisable_progressbar\u001b[49m\u001b[43m,\u001b[49m\n\u001b[1;32m    173\u001b[0m \u001b[43m    \u001b[49m\u001b[43mshow_warnings\u001b[49m\u001b[38;5;241;43m=\u001b[39;49m\u001b[43mshow_warnings\u001b[49m\u001b[43m,\u001b[49m\n\u001b[1;32m    174\u001b[0m \u001b[43m    \u001b[49m\u001b[43mdefault_fc_parameters\u001b[49m\u001b[38;5;241;43m=\u001b[39;49m\u001b[43mdefault_fc_parameters\u001b[49m\u001b[43m,\u001b[49m\n\u001b[1;32m    175\u001b[0m \u001b[43m    \u001b[49m\u001b[43mkind_to_fc_parameters\u001b[49m\u001b[38;5;241;43m=\u001b[39;49m\u001b[43mkind_to_fc_parameters\u001b[49m\u001b[43m,\u001b[49m\n\u001b[1;32m    176\u001b[0m \u001b[43m    \u001b[49m\u001b[43mdistributor\u001b[49m\u001b[38;5;241;43m=\u001b[39;49m\u001b[43mdistributor\u001b[49m\u001b[43m,\u001b[49m\n\u001b[1;32m    177\u001b[0m \u001b[43m    \u001b[49m\u001b[43mpivot\u001b[49m\u001b[38;5;241;43m=\u001b[39;49m\u001b[43mpivot\u001b[49m\u001b[43m,\u001b[49m\n\u001b[1;32m    178\u001b[0m \u001b[43m\u001b[49m\u001b[43m)\u001b[49m\n\u001b[1;32m    180\u001b[0m \u001b[38;5;66;03m# Impute the result if requested\u001b[39;00m\n\u001b[1;32m    181\u001b[0m \u001b[38;5;28;01mif\u001b[39;00m impute_function \u001b[38;5;129;01mis\u001b[39;00m \u001b[38;5;129;01mnot\u001b[39;00m \u001b[38;5;28;01mNone\u001b[39;00m:\n",
            "File \u001b[0;32m~/anaconda3/lib/python3.10/site-packages/tsfresh/feature_extraction/extraction.py:260\u001b[0m, in \u001b[0;36m_do_extraction\u001b[0;34m(df, column_id, column_value, column_kind, column_sort, default_fc_parameters, kind_to_fc_parameters, n_jobs, chunk_size, disable_progressbar, show_warnings, distributor, pivot)\u001b[0m\n\u001b[1;32m    193\u001b[0m \u001b[38;5;28;01mdef\u001b[39;00m \u001b[38;5;21m_do_extraction\u001b[39m(\n\u001b[1;32m    194\u001b[0m     df,\n\u001b[1;32m    195\u001b[0m     column_id,\n\u001b[0;32m   (...)\u001b[0m\n\u001b[1;32m    206\u001b[0m     pivot,\n\u001b[1;32m    207\u001b[0m ):\n\u001b[1;32m    208\u001b[0m \u001b[38;5;250m    \u001b[39m\u001b[38;5;124;03m\"\"\"\u001b[39;00m\n\u001b[1;32m    209\u001b[0m \u001b[38;5;124;03m    Wrapper around the _do_extraction_on_chunk, which calls it on all chunks in the data frame.\u001b[39;00m\n\u001b[1;32m    210\u001b[0m \u001b[38;5;124;03m    A chunk is a subset of the data, with a given kind and id - so a single time series.\u001b[39;00m\n\u001b[0;32m   (...)\u001b[0m\n\u001b[1;32m    257\u001b[0m \u001b[38;5;124;03m    :rtype: pd.DataFrame\u001b[39;00m\n\u001b[1;32m    258\u001b[0m \u001b[38;5;124;03m    \"\"\"\u001b[39;00m\n\u001b[0;32m--> 260\u001b[0m     data \u001b[38;5;241m=\u001b[39m \u001b[43mto_tsdata\u001b[49m\u001b[43m(\u001b[49m\u001b[43mdf\u001b[49m\u001b[43m,\u001b[49m\u001b[43m \u001b[49m\u001b[43mcolumn_id\u001b[49m\u001b[43m,\u001b[49m\u001b[43m \u001b[49m\u001b[43mcolumn_kind\u001b[49m\u001b[43m,\u001b[49m\u001b[43m \u001b[49m\u001b[43mcolumn_value\u001b[49m\u001b[43m,\u001b[49m\u001b[43m \u001b[49m\u001b[43mcolumn_sort\u001b[49m\u001b[43m)\u001b[49m\n\u001b[1;32m    262\u001b[0m     \u001b[38;5;28;01mif\u001b[39;00m distributor \u001b[38;5;129;01mis\u001b[39;00m \u001b[38;5;28;01mNone\u001b[39;00m:\n\u001b[1;32m    263\u001b[0m         \u001b[38;5;28;01mif\u001b[39;00m \u001b[38;5;28misinstance\u001b[39m(data, Iterable):\n",
            "File \u001b[0;32m~/anaconda3/lib/python3.10/site-packages/tsfresh/feature_extraction/data.py:471\u001b[0m, in \u001b[0;36mto_tsdata\u001b[0;34m(df, column_id, column_kind, column_value, column_sort)\u001b[0m\n\u001b[1;32m    469\u001b[0m \u001b[38;5;28;01melif\u001b[39;00m \u001b[38;5;28misinstance\u001b[39m(df, pd\u001b[38;5;241m.\u001b[39mDataFrame):\n\u001b[1;32m    470\u001b[0m     \u001b[38;5;28;01mif\u001b[39;00m column_kind \u001b[38;5;129;01mis\u001b[39;00m \u001b[38;5;129;01mnot\u001b[39;00m \u001b[38;5;28;01mNone\u001b[39;00m:\n\u001b[0;32m--> 471\u001b[0m         \u001b[38;5;28;01mreturn\u001b[39;00m \u001b[43mLongTsFrameAdapter\u001b[49m\u001b[43m(\u001b[49m\n\u001b[1;32m    472\u001b[0m \u001b[43m            \u001b[49m\u001b[43mdf\u001b[49m\u001b[43m,\u001b[49m\u001b[43m \u001b[49m\u001b[43mcolumn_id\u001b[49m\u001b[43m,\u001b[49m\u001b[43m \u001b[49m\u001b[43mcolumn_kind\u001b[49m\u001b[43m,\u001b[49m\u001b[43m \u001b[49m\u001b[43mcolumn_value\u001b[49m\u001b[43m,\u001b[49m\u001b[43m \u001b[49m\u001b[43mcolumn_sort\u001b[49m\n\u001b[1;32m    473\u001b[0m \u001b[43m        \u001b[49m\u001b[43m)\u001b[49m\n\u001b[1;32m    474\u001b[0m     \u001b[38;5;28;01melse\u001b[39;00m:\n\u001b[1;32m    475\u001b[0m         \u001b[38;5;28;01mif\u001b[39;00m column_value \u001b[38;5;129;01mis\u001b[39;00m \u001b[38;5;129;01mnot\u001b[39;00m \u001b[38;5;28;01mNone\u001b[39;00m:\n",
            "File \u001b[0;32m~/anaconda3/lib/python3.10/site-packages/tsfresh/feature_extraction/data.py:252\u001b[0m, in \u001b[0;36mLongTsFrameAdapter.__init__\u001b[0;34m(self, df, column_id, column_kind, column_value, column_sort)\u001b[0m\n\u001b[1;32m    249\u001b[0m \u001b[38;5;28;01melse\u001b[39;00m:\n\u001b[1;32m    250\u001b[0m     \u001b[38;5;28mself\u001b[39m\u001b[38;5;241m.\u001b[39mcolumn_value \u001b[38;5;241m=\u001b[39m column_value\n\u001b[0;32m--> 252\u001b[0m \u001b[43m_check_nan\u001b[49m\u001b[43m(\u001b[49m\u001b[43mdf\u001b[49m\u001b[43m,\u001b[49m\u001b[43m \u001b[49m\u001b[43mcolumn_id\u001b[49m\u001b[43m,\u001b[49m\u001b[43m \u001b[49m\u001b[43mcolumn_kind\u001b[49m\u001b[43m,\u001b[49m\u001b[43m \u001b[49m\u001b[38;5;28;43mself\u001b[39;49m\u001b[38;5;241;43m.\u001b[39;49m\u001b[43mcolumn_value\u001b[49m\u001b[43m)\u001b[49m\n\u001b[1;32m    254\u001b[0m \u001b[38;5;28;01mif\u001b[39;00m column_sort \u001b[38;5;129;01mis\u001b[39;00m \u001b[38;5;129;01mnot\u001b[39;00m \u001b[38;5;28;01mNone\u001b[39;00m:\n\u001b[1;32m    255\u001b[0m     _check_nan(df, column_sort)\n",
            "File \u001b[0;32m~/anaconda3/lib/python3.10/site-packages/tsfresh/feature_extraction/data.py:145\u001b[0m, in \u001b[0;36m_check_nan\u001b[0;34m(df, *columns)\u001b[0m\n\u001b[1;32m    142\u001b[0m     \u001b[38;5;28;01mraise\u001b[39;00m \u001b[38;5;167;01mValueError\u001b[39;00m(\u001b[38;5;124m\"\u001b[39m\u001b[38;5;124mColumn not found: \u001b[39m\u001b[38;5;132;01m{}\u001b[39;00m\u001b[38;5;124m\"\u001b[39m\u001b[38;5;241m.\u001b[39mformat(col))\n\u001b[1;32m    144\u001b[0m \u001b[38;5;28;01mif\u001b[39;00m df[col]\u001b[38;5;241m.\u001b[39misnull()\u001b[38;5;241m.\u001b[39many():\n\u001b[0;32m--> 145\u001b[0m     \u001b[38;5;28;01mraise\u001b[39;00m \u001b[38;5;167;01mValueError\u001b[39;00m(\u001b[38;5;124m\"\u001b[39m\u001b[38;5;124mColumn must not contain NaN values: \u001b[39m\u001b[38;5;132;01m{}\u001b[39;00m\u001b[38;5;124m\"\u001b[39m\u001b[38;5;241m.\u001b[39mformat(col))\n",
            "\u001b[0;31mValueError\u001b[0m: Column must not contain NaN values: value"
          ]
        }
      ],
      "source": [
        "from tsfresh.feature_extraction import ComprehensiveFCParameters\n",
        "\n",
        "# Specificeer de gewenste kenmerken\n",
        "settings = {\n",
        "    'sum': {},\n",
        "    'sum_values': {},\n",
        "    'variance': {},\n",
        "    'standard_deviation': {},\n",
        "    'maximum': {},\n",
        "    'minimum': {},\n",
        "    #'median': {},\n",
        "    'mean': {},\n",
        "    'mean_abs_change': {},  #proxy voor gemiddelde van de wortel van de kwadraten als 'mean root square' niet direct beschikbaar is\n",
        "    #'agg_linear_trend': [{'attr': 'slope', 'f_agg': 'max', 'chunk_len': 5}, {'attr': 'slope', 'f_agg': 'min', 'chunk_len': 5}]  #maximale en minimale helling\n",
        "}\n",
        "\n",
        "# Extract features met aangepaste instellingen\n",
        "extracted_features_au = extract_features(\n",
        "    au_long_format,\n",
        "    column_id='ID',  # Identifies the time series\n",
        "    column_sort='frame',  # Orders the time points\n",
        "    column_kind='measurement',  # Distinguishes between different variables if necessary\n",
        "    column_value='value',  # The actual measurements\n",
        "    default_fc_parameters=settings\n",
        ")\n"
      ]
    },
    {
      "cell_type": "code",
      "execution_count": null,
      "metadata": {
        "colab": {
          "base_uri": "https://localhost:8080/"
        },
        "id": "8nwW2y7vZCCl",
        "outputId": "c9ddf97a-3591-430d-8474-46254125eea3"
      },
      "outputs": [],
      "source": [
        "print(extracted_features_au.head)"
      ]
    }
  ],
  "metadata": {
    "colab": {
      "provenance": []
    },
    "kernelspec": {
      "display_name": "Python 3",
      "name": "python3"
    },
    "language_info": {
      "codemirror_mode": {
        "name": "ipython",
        "version": 3
      },
      "file_extension": ".py",
      "mimetype": "text/x-python",
      "name": "python",
      "nbconvert_exporter": "python",
      "pygments_lexer": "ipython3",
      "version": "3.10.9"
    }
  },
  "nbformat": 4,
  "nbformat_minor": 0
}
