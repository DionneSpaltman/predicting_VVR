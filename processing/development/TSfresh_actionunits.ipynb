{
  "cells": [
    {
      "cell_type": "markdown",
      "metadata": {},
      "source": [
        "# TS fresh for action units"
      ]
    },
    {
      "cell_type": "code",
      "execution_count": 4,
      "metadata": {},
      "outputs": [],
      "source": [
        "import pandas as pd\n",
        "import pickle"
      ]
    },
    {
      "cell_type": "code",
      "execution_count": 5,
      "metadata": {
        "id": "yi0nPS3HSF97"
      },
      "outputs": [],
      "source": [
        "# Construct the path \n",
        "au_data_path = '/Users/dionnespaltman/Desktop/downloading_new/big_dataframe.pkl'\n",
        "\n",
        "# Load the dataset\n",
        "au_df = pd.read_pickle(au_data_path)"
      ]
    },
    {
      "cell_type": "code",
      "execution_count": 6,
      "metadata": {
        "colab": {
          "base_uri": "https://localhost:8080/"
        },
        "id": "z0ge5BbCSGAi",
        "outputId": "e38060b4-e66e-4828-898a-f6dcb2b670df"
      },
      "outputs": [
        {
          "name": "stdout",
          "output_type": "stream",
          "text": [
            "Index(['frame', 'face_id', 'confidence', ' success', ' AU01_r', ' AU02_r',\n",
            "       ' AU04_r', ' AU05_r', ' AU06_r', ' AU07_r', ' AU09_r', ' AU10_r',\n",
            "       ' AU12_r', ' AU14_r', ' AU15_r', ' AU17_r', ' AU20_r', ' AU23_r',\n",
            "       ' AU25_r', ' AU26_r', ' AU45_r', ' AU01_c', ' AU02_c', ' AU04_c',\n",
            "       ' AU05_c', ' AU06_c', ' AU07_c', ' AU09_c', ' AU10_c', ' AU12_c',\n",
            "       ' AU14_c', ' AU15_c', ' AU17_c', ' AU20_c', ' AU23_c', ' AU25_c',\n",
            "       ' AU26_c', ' AU28_c', ' AU45_c', 'ID', 'Timeframe'],\n",
            "      dtype='object')\n"
          ]
        }
      ],
      "source": [
        "print(au_df.columns)"
      ]
    },
    {
      "cell_type": "code",
      "execution_count": 8,
      "metadata": {},
      "outputs": [
        {
          "name": "stdout",
          "output_type": "stream",
          "text": [
            "   frame  face_id  confidence   success   AU01_r   AU02_r   AU04_r   AU05_r  \\\n",
            "0    104      0.0        0.88       1.0     0.00     0.00      0.0      0.0   \n",
            "1    105      0.0        0.98       1.0     0.00     0.00      0.0      0.0   \n",
            "2    112      0.0        0.98       1.0     0.31     0.59      0.0      0.0   \n",
            "3    115      0.0        0.98       1.0     0.00     0.12      0.0      0.0   \n",
            "4    154      0.0        0.98       1.0     1.26     1.67      0.0      0.0   \n",
            "5    155      0.0        0.98       1.0     1.50     2.48      0.0      0.0   \n",
            "6    156      0.0        0.88       1.0     0.88     2.77      0.0      0.0   \n",
            "7    157      0.0        0.98       1.0     0.34     2.22      0.0      0.0   \n",
            "8    160      0.0        0.98       1.0     0.00     1.30      0.0      0.0   \n",
            "9    161      0.0        0.98       1.0     0.00     1.79      0.0      0.0   \n",
            "10   162      0.0        0.98       1.0     0.00     1.18      0.0      0.0   \n",
            "11   164      0.0        0.98       1.0     0.00     0.59      0.0      0.0   \n",
            "12   165      0.0        0.98       1.0     0.00     0.59      0.0      0.0   \n",
            "13   175      0.0        0.98       1.0     0.20     0.86      0.0      0.0   \n",
            "14   198      0.0        0.98       1.0     1.60     0.91      0.0      0.0   \n",
            "15   199      0.0        0.98       1.0     1.60     0.91      0.0      0.0   \n",
            "16   208      0.0        0.98       1.0     0.00     0.04      0.0      0.0   \n",
            "17   213      0.0        0.98       1.0     0.00     0.00      0.0      0.0   \n",
            "18   214      0.0        0.98       1.0     0.00     0.00      0.0      0.0   \n",
            "19   215      0.0        0.98       1.0     0.00     0.00      0.0      0.0   \n",
            "\n",
            "     AU06_r   AU07_r  ...   AU15_c   AU17_c   AU20_c   AU23_c   AU25_c  \\\n",
            "0      1.34     0.22  ...      0.0      0.0      0.0      0.0      0.0   \n",
            "1      1.34     0.22  ...      0.0      0.0      0.0      0.0      0.0   \n",
            "2      0.31     0.31  ...      0.0      0.0      0.0      0.0      0.0   \n",
            "3      0.32     0.06  ...      0.0      0.0      0.0      0.0      0.0   \n",
            "4      0.39     0.26  ...      1.0      0.0      0.0      0.0      1.0   \n",
            "5      0.60     0.26  ...      1.0      0.0      0.0      0.0      1.0   \n",
            "6      0.59     0.02  ...      1.0      0.0      0.0      0.0      1.0   \n",
            "7      0.73     0.00  ...      1.0      0.0      0.0      0.0      1.0   \n",
            "8      0.19     0.00  ...      1.0      1.0      0.0      0.0      0.0   \n",
            "9      0.25     0.00  ...      1.0      1.0      0.0      0.0      0.0   \n",
            "10     0.12     0.00  ...      1.0      1.0      0.0      0.0      0.0   \n",
            "11     0.29     0.00  ...      1.0      1.0      0.0      0.0      0.0   \n",
            "12     0.29     0.00  ...      0.0      0.0      0.0      0.0      0.0   \n",
            "13     0.11     0.25  ...      0.0      0.0      0.0      0.0      0.0   \n",
            "14     1.13     1.92  ...      0.0      0.0      0.0      0.0      0.0   \n",
            "15     1.13     1.92  ...      0.0      0.0      0.0      0.0      0.0   \n",
            "16     0.23     0.56  ...      0.0      0.0      0.0      0.0      0.0   \n",
            "17     1.02     0.17  ...      0.0      1.0      1.0      0.0      0.0   \n",
            "18     1.71     0.17  ...      0.0      1.0      1.0      0.0      0.0   \n",
            "19     1.93     0.00  ...      0.0      1.0      1.0      0.0      0.0   \n",
            "\n",
            "     AU26_c   AU28_c   AU45_c  ID  Timeframe  \n",
            "0       0.0      0.0      0.0  80  [4, 5, 6]  \n",
            "1       0.0      0.0      0.0  80  [4, 5, 6]  \n",
            "2       0.0      0.0      0.0  80  [4, 5, 6]  \n",
            "3       0.0      0.0      0.0  80  [4, 5, 6]  \n",
            "4       1.0      1.0      0.0  80  [4, 5, 6]  \n",
            "5       1.0      1.0      0.0  80  [4, 5, 6]  \n",
            "6       1.0      1.0      0.0  80  [4, 5, 6]  \n",
            "7       1.0      1.0      0.0  80  [4, 5, 6]  \n",
            "8       0.0      1.0      0.0  80  [4, 5, 6]  \n",
            "9       0.0      1.0      0.0  80  [4, 5, 6]  \n",
            "10      0.0      1.0      0.0  80  [4, 5, 6]  \n",
            "11      0.0      0.0      0.0  80  [4, 5, 6]  \n",
            "12      0.0      0.0      0.0  80  [4, 5, 6]  \n",
            "13      0.0      0.0      0.0  80  [4, 5, 6]  \n",
            "14      0.0      0.0      0.0  80  [4, 5, 6]  \n",
            "15      0.0      0.0      0.0  80  [4, 5, 6]  \n",
            "16      0.0      0.0      0.0  80  [4, 5, 6]  \n",
            "17      0.0      0.0      1.0  80  [4, 5, 6]  \n",
            "18      0.0      0.0      1.0  80  [4, 5, 6]  \n",
            "19      0.0      0.0      1.0  80  [4, 5, 6]  \n",
            "\n",
            "[20 rows x 41 columns]\n"
          ]
        }
      ],
      "source": [
        "print(au_df.head(20))"
      ]
    },
    {
      "cell_type": "code",
      "execution_count": 6,
      "metadata": {},
      "outputs": [
        {
          "name": "stdout",
          "output_type": "stream",
          "text": [
            "184\n"
          ]
        }
      ],
      "source": [
        "print(len(au_df['ID'].unique()))\n",
        "\n",
        "# I have thus 184 unique variables "
      ]
    },
    {
      "cell_type": "code",
      "execution_count": 26,
      "metadata": {},
      "outputs": [
        {
          "name": "stdout",
          "output_type": "stream",
          "text": [
            "frame              0\n",
            "face_id            0\n",
            "confidence         0\n",
            " success           0\n",
            " AU01_r       243394\n",
            " AU02_r       243394\n",
            " AU04_r       243394\n",
            " AU05_r       243394\n",
            " AU06_r       243394\n",
            " AU07_r       243394\n",
            " AU09_r       243394\n",
            " AU10_r       243394\n",
            " AU12_r       243394\n",
            " AU14_r       243394\n",
            " AU15_r       243394\n",
            " AU17_r       243394\n",
            " AU20_r       243394\n",
            " AU23_r       243394\n",
            " AU25_r       243394\n",
            " AU26_r       243394\n",
            " AU45_r       243394\n",
            " AU01_c       243394\n",
            " AU02_c       243394\n",
            " AU04_c       243394\n",
            " AU05_c       243394\n",
            " AU06_c       243394\n",
            " AU07_c       243394\n",
            " AU09_c       243394\n",
            " AU10_c       243394\n",
            " AU12_c       243394\n",
            " AU14_c       243394\n",
            " AU15_c       243394\n",
            " AU17_c       243394\n",
            " AU20_c       243394\n",
            " AU23_c       243394\n",
            " AU25_c       243394\n",
            " AU26_c       243394\n",
            " AU28_c       243394\n",
            " AU45_c       243394\n",
            "ID                 0\n",
            "Timeframe          0\n",
            "dtype: int64\n"
          ]
        }
      ],
      "source": [
        "nan_counts_au_df = au_df.isna().sum()\n",
        "print(nan_counts_au_df)"
      ]
    },
    {
      "cell_type": "code",
      "execution_count": 39,
      "metadata": {},
      "outputs": [
        {
          "name": "stdout",
          "output_type": "stream",
          "text": [
            "frame         3395916\n",
            "face_id       3395916\n",
            "confidence    3395916\n",
            " success      3395916\n",
            " AU01_r       3152522\n",
            " AU02_r       3152522\n",
            " AU04_r       3152522\n",
            " AU05_r       3152522\n",
            " AU06_r       3152522\n",
            " AU07_r       3152522\n",
            " AU09_r       3152522\n",
            " AU10_r       3152522\n",
            " AU12_r       3152522\n",
            " AU14_r       3152522\n",
            " AU15_r       3152522\n",
            " AU17_r       3152522\n",
            " AU20_r       3152522\n",
            " AU23_r       3152522\n",
            " AU25_r       3152522\n",
            " AU26_r       3152522\n",
            " AU45_r       3152522\n",
            " AU01_c       3152522\n",
            " AU02_c       3152522\n",
            " AU04_c       3152522\n",
            " AU05_c       3152522\n",
            " AU06_c       3152522\n",
            " AU07_c       3152522\n",
            " AU09_c       3152522\n",
            " AU10_c       3152522\n",
            " AU12_c       3152522\n",
            " AU14_c       3152522\n",
            " AU15_c       3152522\n",
            " AU17_c       3152522\n",
            " AU20_c       3152522\n",
            " AU23_c       3152522\n",
            " AU25_c       3152522\n",
            " AU26_c       3152522\n",
            " AU28_c       3152522\n",
            " AU45_c       3152522\n",
            "ID            3395916\n",
            "Timeframe     3395916\n",
            "dtype: int64\n"
          ]
        }
      ],
      "source": [
        "not_nan_counts_au_df = au_df.count()\n",
        "print(not_nan_counts_au_df)"
      ]
    },
    {
      "cell_type": "markdown",
      "metadata": {},
      "source": [
        "## TS fresh requirements "
      ]
    },
    {
      "cell_type": "code",
      "execution_count": 11,
      "metadata": {
        "colab": {
          "base_uri": "https://localhost:8080/"
        },
        "id": "40_DdinPSGFd",
        "outputId": "b6591ca9-0424-430b-de30-de9bef74d4f9"
      },
      "outputs": [
        {
          "name": "stdout",
          "output_type": "stream",
          "text": [
            "Requirement already satisfied: tsfresh in /Users/dionnespaltman/anaconda3/lib/python3.10/site-packages (0.20.2)\n",
            "Requirement already satisfied: stumpy>=1.7.2 in /Users/dionnespaltman/anaconda3/lib/python3.10/site-packages (from tsfresh) (1.12.0)\n",
            "Requirement already satisfied: cloudpickle in /Users/dionnespaltman/anaconda3/lib/python3.10/site-packages (from tsfresh) (2.0.0)\n",
            "Requirement already satisfied: statsmodels>=0.13 in /Users/dionnespaltman/anaconda3/lib/python3.10/site-packages (from tsfresh) (0.13.5)\n",
            "Requirement already satisfied: tqdm>=4.10.0 in /Users/dionnespaltman/anaconda3/lib/python3.10/site-packages (from tsfresh) (4.64.1)\n",
            "Requirement already satisfied: requests>=2.9.1 in /Users/dionnespaltman/anaconda3/lib/python3.10/site-packages (from tsfresh) (2.28.1)\n",
            "Requirement already satisfied: scipy>=1.2.0 in /Users/dionnespaltman/anaconda3/lib/python3.10/site-packages (from tsfresh) (1.10.0)\n",
            "Requirement already satisfied: patsy>=0.4.1 in /Users/dionnespaltman/anaconda3/lib/python3.10/site-packages (from tsfresh) (0.5.3)\n",
            "Requirement already satisfied: scikit-learn>=0.22.0 in /Users/dionnespaltman/anaconda3/lib/python3.10/site-packages (from tsfresh) (1.2.1)\n",
            "Requirement already satisfied: numpy>=1.15.1 in /Users/dionnespaltman/anaconda3/lib/python3.10/site-packages (from tsfresh) (1.23.5)\n",
            "Requirement already satisfied: pandas>=0.25.0 in /Users/dionnespaltman/anaconda3/lib/python3.10/site-packages (from tsfresh) (1.4.4)\n",
            "Requirement already satisfied: pytz>=2020.1 in /Users/dionnespaltman/anaconda3/lib/python3.10/site-packages (from pandas>=0.25.0->tsfresh) (2022.7)\n",
            "Requirement already satisfied: python-dateutil>=2.8.1 in /Users/dionnespaltman/anaconda3/lib/python3.10/site-packages (from pandas>=0.25.0->tsfresh) (2.8.2)\n",
            "Requirement already satisfied: six in /Users/dionnespaltman/anaconda3/lib/python3.10/site-packages (from patsy>=0.4.1->tsfresh) (1.16.0)\n",
            "Requirement already satisfied: certifi>=2017.4.17 in /Users/dionnespaltman/anaconda3/lib/python3.10/site-packages (from requests>=2.9.1->tsfresh) (2023.7.22)\n",
            "Requirement already satisfied: idna<4,>=2.5 in /Users/dionnespaltman/anaconda3/lib/python3.10/site-packages (from requests>=2.9.1->tsfresh) (3.4)\n",
            "Requirement already satisfied: urllib3<1.27,>=1.21.1 in /Users/dionnespaltman/anaconda3/lib/python3.10/site-packages (from requests>=2.9.1->tsfresh) (1.26.14)\n",
            "Requirement already satisfied: charset-normalizer<3,>=2 in /Users/dionnespaltman/anaconda3/lib/python3.10/site-packages (from requests>=2.9.1->tsfresh) (2.0.4)\n",
            "Requirement already satisfied: threadpoolctl>=2.0.0 in /Users/dionnespaltman/anaconda3/lib/python3.10/site-packages (from scikit-learn>=0.22.0->tsfresh) (2.2.0)\n",
            "Requirement already satisfied: joblib>=1.1.1 in /Users/dionnespaltman/anaconda3/lib/python3.10/site-packages (from scikit-learn>=0.22.0->tsfresh) (1.1.1)\n",
            "Requirement already satisfied: packaging>=21.3 in /Users/dionnespaltman/anaconda3/lib/python3.10/site-packages (from statsmodels>=0.13->tsfresh) (22.0)\n",
            "Requirement already satisfied: numba>=0.55.2 in /Users/dionnespaltman/anaconda3/lib/python3.10/site-packages (from stumpy>=1.7.2->tsfresh) (0.56.4)\n",
            "Requirement already satisfied: llvmlite<0.40,>=0.39.0dev0 in /Users/dionnespaltman/anaconda3/lib/python3.10/site-packages (from numba>=0.55.2->stumpy>=1.7.2->tsfresh) (0.39.1)\n",
            "Requirement already satisfied: setuptools in /Users/dionnespaltman/anaconda3/lib/python3.10/site-packages (from numba>=0.55.2->stumpy>=1.7.2->tsfresh) (65.6.3)\n"
          ]
        }
      ],
      "source": [
        "# Necessary imports\n",
        "!pip install tsfresh\n",
        "\n",
        "import pandas as pd\n",
        "from tsfresh import extract_features\n",
        "from tsfresh.feature_extraction import EfficientFCParameters\n",
        "from sklearn.preprocessing import StandardScaler"
      ]
    },
    {
      "cell_type": "code",
      "execution_count": 16,
      "metadata": {},
      "outputs": [
        {
          "name": "stdout",
          "output_type": "stream",
          "text": [
            "Requirement already satisfied: tsfresh in /Users/dionnespaltman/anaconda3/lib/python3.10/site-packages (0.20.2)\n",
            "Requirement already satisfied: requests>=2.9.1 in /Users/dionnespaltman/anaconda3/lib/python3.10/site-packages (from tsfresh) (2.28.1)\n",
            "Requirement already satisfied: cloudpickle in /Users/dionnespaltman/anaconda3/lib/python3.10/site-packages (from tsfresh) (2.0.0)\n",
            "Requirement already satisfied: statsmodels>=0.13 in /Users/dionnespaltman/anaconda3/lib/python3.10/site-packages (from tsfresh) (0.13.5)\n",
            "Requirement already satisfied: scikit-learn>=0.22.0 in /Users/dionnespaltman/anaconda3/lib/python3.10/site-packages (from tsfresh) (1.2.1)\n",
            "Requirement already satisfied: numpy>=1.15.1 in /Users/dionnespaltman/anaconda3/lib/python3.10/site-packages (from tsfresh) (1.23.5)\n",
            "Requirement already satisfied: stumpy>=1.7.2 in /Users/dionnespaltman/anaconda3/lib/python3.10/site-packages (from tsfresh) (1.12.0)\n",
            "Requirement already satisfied: scipy>=1.2.0 in /Users/dionnespaltman/anaconda3/lib/python3.10/site-packages (from tsfresh) (1.10.0)\n",
            "Requirement already satisfied: patsy>=0.4.1 in /Users/dionnespaltman/anaconda3/lib/python3.10/site-packages (from tsfresh) (0.5.3)\n",
            "Requirement already satisfied: pandas>=0.25.0 in /Users/dionnespaltman/anaconda3/lib/python3.10/site-packages (from tsfresh) (1.4.4)\n",
            "Requirement already satisfied: tqdm>=4.10.0 in /Users/dionnespaltman/anaconda3/lib/python3.10/site-packages (from tsfresh) (4.64.1)\n",
            "Requirement already satisfied: python-dateutil>=2.8.1 in /Users/dionnespaltman/anaconda3/lib/python3.10/site-packages (from pandas>=0.25.0->tsfresh) (2.8.2)\n",
            "Requirement already satisfied: pytz>=2020.1 in /Users/dionnespaltman/anaconda3/lib/python3.10/site-packages (from pandas>=0.25.0->tsfresh) (2022.7)\n",
            "Requirement already satisfied: six in /Users/dionnespaltman/anaconda3/lib/python3.10/site-packages (from patsy>=0.4.1->tsfresh) (1.16.0)\n",
            "Requirement already satisfied: urllib3<1.27,>=1.21.1 in /Users/dionnespaltman/anaconda3/lib/python3.10/site-packages (from requests>=2.9.1->tsfresh) (1.26.14)\n",
            "Requirement already satisfied: charset-normalizer<3,>=2 in /Users/dionnespaltman/anaconda3/lib/python3.10/site-packages (from requests>=2.9.1->tsfresh) (2.0.4)\n",
            "Requirement already satisfied: idna<4,>=2.5 in /Users/dionnespaltman/anaconda3/lib/python3.10/site-packages (from requests>=2.9.1->tsfresh) (3.4)\n",
            "Requirement already satisfied: certifi>=2017.4.17 in /Users/dionnespaltman/anaconda3/lib/python3.10/site-packages (from requests>=2.9.1->tsfresh) (2023.7.22)\n",
            "Requirement already satisfied: joblib>=1.1.1 in /Users/dionnespaltman/anaconda3/lib/python3.10/site-packages (from scikit-learn>=0.22.0->tsfresh) (1.1.1)\n",
            "Requirement already satisfied: threadpoolctl>=2.0.0 in /Users/dionnespaltman/anaconda3/lib/python3.10/site-packages (from scikit-learn>=0.22.0->tsfresh) (2.2.0)\n",
            "Requirement already satisfied: packaging>=21.3 in /Users/dionnespaltman/anaconda3/lib/python3.10/site-packages (from statsmodels>=0.13->tsfresh) (22.0)\n",
            "Requirement already satisfied: numba>=0.55.2 in /Users/dionnespaltman/anaconda3/lib/python3.10/site-packages (from stumpy>=1.7.2->tsfresh) (0.56.4)\n",
            "Requirement already satisfied: setuptools in /Users/dionnespaltman/anaconda3/lib/python3.10/site-packages (from numba>=0.55.2->stumpy>=1.7.2->tsfresh) (65.6.3)\n",
            "Requirement already satisfied: llvmlite<0.40,>=0.39.0dev0 in /Users/dionnespaltman/anaconda3/lib/python3.10/site-packages (from numba>=0.55.2->stumpy>=1.7.2->tsfresh) (0.39.1)\n"
          ]
        }
      ],
      "source": [
        "!pip install tsfresh\n",
        "from tsfresh import extract_features"
      ]
    },
    {
      "cell_type": "code",
      "execution_count": 17,
      "metadata": {},
      "outputs": [],
      "source": [
        "from tsfresh.feature_extraction import ComprehensiveFCParameters\n"
      ]
    },
    {
      "cell_type": "markdown",
      "metadata": {},
      "source": [
        "## AU "
      ]
    },
    {
      "cell_type": "markdown",
      "metadata": {},
      "source": [
        "I'm only interested in the intensity values (so the variables with R at the end, not C). "
      ]
    },
    {
      "cell_type": "code",
      "execution_count": 12,
      "metadata": {
        "id": "OL9Z0xyTSGIV"
      },
      "outputs": [],
      "source": [
        "au_long_format = pd.melt(au_df, id_vars=['ID', 'frame'],\n",
        "                                   var_name='measurement', value_name='value',\n",
        "                                   value_vars=[' AU01_r', ' AU02_r',\n",
        "       ' AU04_r', ' AU05_r', ' AU06_r', ' AU07_r', ' AU09_r', ' AU10_r',\n",
        "       ' AU12_r', ' AU14_r', ' AU15_r', ' AU17_r', ' AU20_r', ' AU23_r',\n",
        "       ' AU25_r', ' AU26_r', ' AU45_r'])"
      ]
    },
    {
      "cell_type": "code",
      "execution_count": 13,
      "metadata": {},
      "outputs": [
        {
          "data": {
            "text/html": [
              "<div>\n",
              "<style scoped>\n",
              "    .dataframe tbody tr th:only-of-type {\n",
              "        vertical-align: middle;\n",
              "    }\n",
              "\n",
              "    .dataframe tbody tr th {\n",
              "        vertical-align: top;\n",
              "    }\n",
              "\n",
              "    .dataframe thead th {\n",
              "        text-align: right;\n",
              "    }\n",
              "</style>\n",
              "<table border=\"1\" class=\"dataframe\">\n",
              "  <thead>\n",
              "    <tr style=\"text-align: right;\">\n",
              "      <th></th>\n",
              "      <th>ID</th>\n",
              "      <th>frame</th>\n",
              "      <th>measurement</th>\n",
              "      <th>value</th>\n",
              "    </tr>\n",
              "  </thead>\n",
              "  <tbody>\n",
              "    <tr>\n",
              "      <th>0</th>\n",
              "      <td>80</td>\n",
              "      <td>104</td>\n",
              "      <td>AU01_r</td>\n",
              "      <td>0.00</td>\n",
              "    </tr>\n",
              "    <tr>\n",
              "      <th>1</th>\n",
              "      <td>80</td>\n",
              "      <td>105</td>\n",
              "      <td>AU01_r</td>\n",
              "      <td>0.00</td>\n",
              "    </tr>\n",
              "    <tr>\n",
              "      <th>2</th>\n",
              "      <td>80</td>\n",
              "      <td>112</td>\n",
              "      <td>AU01_r</td>\n",
              "      <td>0.31</td>\n",
              "    </tr>\n",
              "    <tr>\n",
              "      <th>3</th>\n",
              "      <td>80</td>\n",
              "      <td>115</td>\n",
              "      <td>AU01_r</td>\n",
              "      <td>0.00</td>\n",
              "    </tr>\n",
              "    <tr>\n",
              "      <th>4</th>\n",
              "      <td>80</td>\n",
              "      <td>154</td>\n",
              "      <td>AU01_r</td>\n",
              "      <td>1.26</td>\n",
              "    </tr>\n",
              "    <tr>\n",
              "      <th>...</th>\n",
              "      <td>...</td>\n",
              "      <td>...</td>\n",
              "      <td>...</td>\n",
              "      <td>...</td>\n",
              "    </tr>\n",
              "    <tr>\n",
              "      <th>57730567</th>\n",
              "      <td>25</td>\n",
              "      <td>2196</td>\n",
              "      <td>AU45_r</td>\n",
              "      <td>0.00</td>\n",
              "    </tr>\n",
              "    <tr>\n",
              "      <th>57730568</th>\n",
              "      <td>25</td>\n",
              "      <td>2197</td>\n",
              "      <td>AU45_r</td>\n",
              "      <td>0.00</td>\n",
              "    </tr>\n",
              "    <tr>\n",
              "      <th>57730569</th>\n",
              "      <td>25</td>\n",
              "      <td>2198</td>\n",
              "      <td>AU45_r</td>\n",
              "      <td>0.00</td>\n",
              "    </tr>\n",
              "    <tr>\n",
              "      <th>57730570</th>\n",
              "      <td>25</td>\n",
              "      <td>2199</td>\n",
              "      <td>AU45_r</td>\n",
              "      <td>0.00</td>\n",
              "    </tr>\n",
              "    <tr>\n",
              "      <th>57730571</th>\n",
              "      <td>25</td>\n",
              "      <td>2200</td>\n",
              "      <td>AU45_r</td>\n",
              "      <td>0.00</td>\n",
              "    </tr>\n",
              "  </tbody>\n",
              "</table>\n",
              "<p>57730572 rows × 4 columns</p>\n",
              "</div>"
            ],
            "text/plain": [
              "          ID frame measurement  value\n",
              "0         80   104      AU01_r   0.00\n",
              "1         80   105      AU01_r   0.00\n",
              "2         80   112      AU01_r   0.31\n",
              "3         80   115      AU01_r   0.00\n",
              "4         80   154      AU01_r   1.26\n",
              "...       ..   ...         ...    ...\n",
              "57730567  25  2196      AU45_r   0.00\n",
              "57730568  25  2197      AU45_r   0.00\n",
              "57730569  25  2198      AU45_r   0.00\n",
              "57730570  25  2199      AU45_r   0.00\n",
              "57730571  25  2200      AU45_r   0.00\n",
              "\n",
              "[57730572 rows x 4 columns]"
            ]
          },
          "metadata": {},
          "output_type": "display_data"
        }
      ],
      "source": [
        "display(au_long_format)"
      ]
    },
    {
      "cell_type": "markdown",
      "metadata": {},
      "source": [
        "There are a lot of missing values. "
      ]
    },
    {
      "cell_type": "code",
      "execution_count": 14,
      "metadata": {},
      "outputs": [
        {
          "name": "stdout",
          "output_type": "stream",
          "text": [
            "ID                   0\n",
            "frame                0\n",
            "measurement          0\n",
            "value          4137698\n",
            "dtype: int64\n"
          ]
        }
      ],
      "source": [
        "nan_counts = au_long_format.isna().sum()\n",
        "print(nan_counts)"
      ]
    },
    {
      "cell_type": "markdown",
      "metadata": {},
      "source": [
        "In Judita her article, she used the following six intensity level characteristics: sum, variance, standard deviation, maximum, mean, and mean-root square values (total number of extracted features = 102). \n",
        "\n",
        "The code down below doesn't run, because the value contains NaN values (also seen above, where I counted the occurences of NaN values). "
      ]
    },
    {
      "cell_type": "code",
      "execution_count": null,
      "metadata": {
        "colab": {
          "base_uri": "https://localhost:8080/"
        },
        "id": "jMUfK15mSC1N",
        "outputId": "468c35d8-c286-4883-8e54-e10aac6fd025"
      },
      "outputs": [],
      "source": [
        "# Specificeer de gewenste kenmerken\n",
        "settings = {\n",
        "    'sum': {},\n",
        "    'sum_values': {},\n",
        "    'variance': {},\n",
        "    'standard_deviation': {},\n",
        "    'maximum': {},\n",
        "    'minimum': {},\n",
        "    #'median': {},\n",
        "    'mean': {},\n",
        "    'mean_abs_change': {},  #proxy voor gemiddelde van de wortel van de kwadraten als 'mean root square' niet direct beschikbaar is\n",
        "    #'agg_linear_trend': [{'attr': 'slope', 'f_agg': 'max', 'chunk_len': 5}, {'attr': 'slope', 'f_agg': 'min', 'chunk_len': 5}]  #maximale en minimale helling\n",
        "}\n",
        "\n",
        "# Extract features met aangepaste instellingen\n",
        "extracted_features_au = extract_features(\n",
        "    au_long_format,\n",
        "    column_id='ID',  # Identifies the time series\n",
        "    column_sort='frame',  # Orders the time points\n",
        "    column_kind='measurement',  # Distinguishes between different variables if necessary\n",
        "    column_value='value',  # The actual measurements\n",
        "    default_fc_parameters=settings\n",
        ")\n"
      ]
    },
    {
      "cell_type": "code",
      "execution_count": null,
      "metadata": {
        "colab": {
          "base_uri": "https://localhost:8080/"
        },
        "id": "8nwW2y7vZCCl",
        "outputId": "c9ddf97a-3591-430d-8474-46254125eea3"
      },
      "outputs": [],
      "source": [
        "print(extracted_features_au.head)"
      ]
    },
    {
      "cell_type": "markdown",
      "metadata": {},
      "source": [
        "## Clean df (dropped missing values, about 7%)"
      ]
    },
    {
      "cell_type": "markdown",
      "metadata": {},
      "source": [
        "Drop missing values (not inputting them, but just removing them since it's only 7 percent of all data)."
      ]
    },
    {
      "cell_type": "code",
      "execution_count": 38,
      "metadata": {},
      "outputs": [],
      "source": [
        "# If you want to remove missing values only from specific columns, you can specify them\n",
        "clean_df = au_df.dropna(subset=[' AU01_r', ' AU02_r',\n",
        "       ' AU04_r', ' AU05_r', ' AU06_r', ' AU07_r', ' AU09_r', ' AU10_r',\n",
        "       ' AU12_r', ' AU14_r', ' AU15_r', ' AU17_r', ' AU20_r', ' AU23_r',\n",
        "       ' AU25_r', ' AU26_r', ' AU45_r'])"
      ]
    },
    {
      "cell_type": "code",
      "execution_count": 39,
      "metadata": {},
      "outputs": [
        {
          "name": "stdout",
          "output_type": "stream",
          "text": [
            "frame         0\n",
            "face_id       0\n",
            "confidence    0\n",
            " success      0\n",
            " AU01_r       0\n",
            " AU02_r       0\n",
            " AU04_r       0\n",
            " AU05_r       0\n",
            " AU06_r       0\n",
            " AU07_r       0\n",
            " AU09_r       0\n",
            " AU10_r       0\n",
            " AU12_r       0\n",
            " AU14_r       0\n",
            " AU15_r       0\n",
            " AU17_r       0\n",
            " AU20_r       0\n",
            " AU23_r       0\n",
            " AU25_r       0\n",
            " AU26_r       0\n",
            " AU45_r       0\n",
            " AU01_c       0\n",
            " AU02_c       0\n",
            " AU04_c       0\n",
            " AU05_c       0\n",
            " AU06_c       0\n",
            " AU07_c       0\n",
            " AU09_c       0\n",
            " AU10_c       0\n",
            " AU12_c       0\n",
            " AU14_c       0\n",
            " AU15_c       0\n",
            " AU17_c       0\n",
            " AU20_c       0\n",
            " AU23_c       0\n",
            " AU25_c       0\n",
            " AU26_c       0\n",
            " AU28_c       0\n",
            " AU45_c       0\n",
            "ID            0\n",
            "Timeframe     0\n",
            "dtype: int64\n"
          ]
        }
      ],
      "source": [
        "nan_counts_clean_df = clean_df.isna().sum()\n",
        "print(nan_counts_clean_df)\n"
      ]
    },
    {
      "cell_type": "code",
      "execution_count": 40,
      "metadata": {},
      "outputs": [],
      "source": [
        "clean_df.to_csv('/Users/dionnespaltman/Desktop/downloading_new/clean_df_action_units_incomplete.csv', index=True)\n"
      ]
    },
    {
      "cell_type": "code",
      "execution_count": 18,
      "metadata": {},
      "outputs": [],
      "source": [
        "clean_df_long_format = pd.melt(clean_df, id_vars=['ID', 'frame'],\n",
        "                                   var_name='measurement', value_name='value',\n",
        "                                   value_vars=[' AU01_r', ' AU02_r',\n",
        "       ' AU04_r', ' AU05_r', ' AU06_r', ' AU07_r', ' AU09_r', ' AU10_r',\n",
        "       ' AU12_r', ' AU14_r', ' AU15_r', ' AU17_r', ' AU20_r', ' AU23_r',\n",
        "       ' AU25_r', ' AU26_r', ' AU45_r'])"
      ]
    },
    {
      "cell_type": "code",
      "execution_count": 19,
      "metadata": {},
      "outputs": [
        {
          "data": {
            "text/html": [
              "<div>\n",
              "<style scoped>\n",
              "    .dataframe tbody tr th:only-of-type {\n",
              "        vertical-align: middle;\n",
              "    }\n",
              "\n",
              "    .dataframe tbody tr th {\n",
              "        vertical-align: top;\n",
              "    }\n",
              "\n",
              "    .dataframe thead th {\n",
              "        text-align: right;\n",
              "    }\n",
              "</style>\n",
              "<table border=\"1\" class=\"dataframe\">\n",
              "  <thead>\n",
              "    <tr style=\"text-align: right;\">\n",
              "      <th></th>\n",
              "      <th>ID</th>\n",
              "      <th>frame</th>\n",
              "      <th>measurement</th>\n",
              "      <th>value</th>\n",
              "    </tr>\n",
              "  </thead>\n",
              "  <tbody>\n",
              "    <tr>\n",
              "      <th>0</th>\n",
              "      <td>80</td>\n",
              "      <td>104</td>\n",
              "      <td>AU01_r</td>\n",
              "      <td>0.00</td>\n",
              "    </tr>\n",
              "    <tr>\n",
              "      <th>1</th>\n",
              "      <td>80</td>\n",
              "      <td>105</td>\n",
              "      <td>AU01_r</td>\n",
              "      <td>0.00</td>\n",
              "    </tr>\n",
              "    <tr>\n",
              "      <th>2</th>\n",
              "      <td>80</td>\n",
              "      <td>112</td>\n",
              "      <td>AU01_r</td>\n",
              "      <td>0.31</td>\n",
              "    </tr>\n",
              "    <tr>\n",
              "      <th>3</th>\n",
              "      <td>80</td>\n",
              "      <td>115</td>\n",
              "      <td>AU01_r</td>\n",
              "      <td>0.00</td>\n",
              "    </tr>\n",
              "    <tr>\n",
              "      <th>4</th>\n",
              "      <td>80</td>\n",
              "      <td>154</td>\n",
              "      <td>AU01_r</td>\n",
              "      <td>1.26</td>\n",
              "    </tr>\n",
              "    <tr>\n",
              "      <th>...</th>\n",
              "      <td>...</td>\n",
              "      <td>...</td>\n",
              "      <td>...</td>\n",
              "      <td>...</td>\n",
              "    </tr>\n",
              "    <tr>\n",
              "      <th>53592869</th>\n",
              "      <td>25</td>\n",
              "      <td>2196</td>\n",
              "      <td>AU45_r</td>\n",
              "      <td>0.00</td>\n",
              "    </tr>\n",
              "    <tr>\n",
              "      <th>53592870</th>\n",
              "      <td>25</td>\n",
              "      <td>2197</td>\n",
              "      <td>AU45_r</td>\n",
              "      <td>0.00</td>\n",
              "    </tr>\n",
              "    <tr>\n",
              "      <th>53592871</th>\n",
              "      <td>25</td>\n",
              "      <td>2198</td>\n",
              "      <td>AU45_r</td>\n",
              "      <td>0.00</td>\n",
              "    </tr>\n",
              "    <tr>\n",
              "      <th>53592872</th>\n",
              "      <td>25</td>\n",
              "      <td>2199</td>\n",
              "      <td>AU45_r</td>\n",
              "      <td>0.00</td>\n",
              "    </tr>\n",
              "    <tr>\n",
              "      <th>53592873</th>\n",
              "      <td>25</td>\n",
              "      <td>2200</td>\n",
              "      <td>AU45_r</td>\n",
              "      <td>0.00</td>\n",
              "    </tr>\n",
              "  </tbody>\n",
              "</table>\n",
              "<p>53592874 rows × 4 columns</p>\n",
              "</div>"
            ],
            "text/plain": [
              "          ID frame measurement  value\n",
              "0         80   104      AU01_r   0.00\n",
              "1         80   105      AU01_r   0.00\n",
              "2         80   112      AU01_r   0.31\n",
              "3         80   115      AU01_r   0.00\n",
              "4         80   154      AU01_r   1.26\n",
              "...       ..   ...         ...    ...\n",
              "53592869  25  2196      AU45_r   0.00\n",
              "53592870  25  2197      AU45_r   0.00\n",
              "53592871  25  2198      AU45_r   0.00\n",
              "53592872  25  2199      AU45_r   0.00\n",
              "53592873  25  2200      AU45_r   0.00\n",
              "\n",
              "[53592874 rows x 4 columns]"
            ]
          },
          "metadata": {},
          "output_type": "display_data"
        }
      ],
      "source": [
        "display(clean_df_long_format)"
      ]
    },
    {
      "cell_type": "code",
      "execution_count": 21,
      "metadata": {},
      "outputs": [
        {
          "name": "stdout",
          "output_type": "stream",
          "text": [
            "ID             0\n",
            "frame          0\n",
            "measurement    0\n",
            "value          0\n",
            "dtype: int64\n"
          ]
        }
      ],
      "source": [
        "nan_counts_clean = clean_df_long_format.isna().sum()\n",
        "print(nan_counts_clean)"
      ]
    },
    {
      "cell_type": "code",
      "execution_count": 24,
      "metadata": {},
      "outputs": [
        {
          "data": {
            "text/html": [
              "<div>\n",
              "<style scoped>\n",
              "    .dataframe tbody tr th:only-of-type {\n",
              "        vertical-align: middle;\n",
              "    }\n",
              "\n",
              "    .dataframe tbody tr th {\n",
              "        vertical-align: top;\n",
              "    }\n",
              "\n",
              "    .dataframe thead th {\n",
              "        text-align: right;\n",
              "    }\n",
              "</style>\n",
              "<table border=\"1\" class=\"dataframe\">\n",
              "  <thead>\n",
              "    <tr style=\"text-align: right;\">\n",
              "      <th></th>\n",
              "      <th>ID</th>\n",
              "      <th>frame</th>\n",
              "      <th>measurement</th>\n",
              "      <th>value</th>\n",
              "    </tr>\n",
              "  </thead>\n",
              "  <tbody>\n",
              "    <tr>\n",
              "      <th>0</th>\n",
              "      <td>80</td>\n",
              "      <td>104</td>\n",
              "      <td>AU01_r</td>\n",
              "      <td>0.00</td>\n",
              "    </tr>\n",
              "    <tr>\n",
              "      <th>1</th>\n",
              "      <td>80</td>\n",
              "      <td>105</td>\n",
              "      <td>AU01_r</td>\n",
              "      <td>0.00</td>\n",
              "    </tr>\n",
              "    <tr>\n",
              "      <th>2</th>\n",
              "      <td>80</td>\n",
              "      <td>112</td>\n",
              "      <td>AU01_r</td>\n",
              "      <td>0.31</td>\n",
              "    </tr>\n",
              "    <tr>\n",
              "      <th>3</th>\n",
              "      <td>80</td>\n",
              "      <td>115</td>\n",
              "      <td>AU01_r</td>\n",
              "      <td>0.00</td>\n",
              "    </tr>\n",
              "    <tr>\n",
              "      <th>4</th>\n",
              "      <td>80</td>\n",
              "      <td>154</td>\n",
              "      <td>AU01_r</td>\n",
              "      <td>1.26</td>\n",
              "    </tr>\n",
              "    <tr>\n",
              "      <th>...</th>\n",
              "      <td>...</td>\n",
              "      <td>...</td>\n",
              "      <td>...</td>\n",
              "      <td>...</td>\n",
              "    </tr>\n",
              "    <tr>\n",
              "      <th>53592869</th>\n",
              "      <td>25</td>\n",
              "      <td>2196</td>\n",
              "      <td>AU45_r</td>\n",
              "      <td>0.00</td>\n",
              "    </tr>\n",
              "    <tr>\n",
              "      <th>53592870</th>\n",
              "      <td>25</td>\n",
              "      <td>2197</td>\n",
              "      <td>AU45_r</td>\n",
              "      <td>0.00</td>\n",
              "    </tr>\n",
              "    <tr>\n",
              "      <th>53592871</th>\n",
              "      <td>25</td>\n",
              "      <td>2198</td>\n",
              "      <td>AU45_r</td>\n",
              "      <td>0.00</td>\n",
              "    </tr>\n",
              "    <tr>\n",
              "      <th>53592872</th>\n",
              "      <td>25</td>\n",
              "      <td>2199</td>\n",
              "      <td>AU45_r</td>\n",
              "      <td>0.00</td>\n",
              "    </tr>\n",
              "    <tr>\n",
              "      <th>53592873</th>\n",
              "      <td>25</td>\n",
              "      <td>2200</td>\n",
              "      <td>AU45_r</td>\n",
              "      <td>0.00</td>\n",
              "    </tr>\n",
              "  </tbody>\n",
              "</table>\n",
              "<p>53592874 rows × 4 columns</p>\n",
              "</div>"
            ],
            "text/plain": [
              "          ID frame measurement  value\n",
              "0         80   104      AU01_r   0.00\n",
              "1         80   105      AU01_r   0.00\n",
              "2         80   112      AU01_r   0.31\n",
              "3         80   115      AU01_r   0.00\n",
              "4         80   154      AU01_r   1.26\n",
              "...       ..   ...         ...    ...\n",
              "53592869  25  2196      AU45_r   0.00\n",
              "53592870  25  2197      AU45_r   0.00\n",
              "53592871  25  2198      AU45_r   0.00\n",
              "53592872  25  2199      AU45_r   0.00\n",
              "53592873  25  2200      AU45_r   0.00\n",
              "\n",
              "[53592874 rows x 4 columns]"
            ]
          },
          "metadata": {},
          "output_type": "display_data"
        }
      ],
      "source": [
        "display(clean_df_long_format)"
      ]
    },
    {
      "cell_type": "code",
      "execution_count": 32,
      "metadata": {},
      "outputs": [],
      "source": [
        "# Convert 'ID' and 'frame' columns to integer data type\n",
        "clean_df_long_format['ID'] = clean_df_long_format['ID'].astype(int)\n",
        "clean_df_long_format['frame'] = clean_df_long_format['frame'].astype(int)\n",
        "\n",
        "# # Convert 'measurement' column to string data type\n",
        "clean_df_long_format['measurement'] = clean_df_long_format['measurement'].astype(str)"
      ]
    },
    {
      "cell_type": "code",
      "execution_count": 41,
      "metadata": {},
      "outputs": [],
      "source": [
        "clean_df_long_format.to_csv('/Users/dionnespaltman/Desktop/downloading_new/clean_df_long_format_incomplete.csv', index=True)\n"
      ]
    },
    {
      "cell_type": "code",
      "execution_count": 34,
      "metadata": {},
      "outputs": [
        {
          "name": "stdout",
          "output_type": "stream",
          "text": [
            "ID               int64\n",
            "frame            int64\n",
            "measurement     object\n",
            "value          float64\n",
            "dtype: object\n"
          ]
        }
      ],
      "source": [
        "column_types = clean_df_long_format.dtypes\n",
        "print(column_types)"
      ]
    },
    {
      "cell_type": "code",
      "execution_count": 35,
      "metadata": {},
      "outputs": [
        {
          "name": "stderr",
          "output_type": "stream",
          "text": [
            "Feature Extraction: 100%|██████████| 20/20 [00:26<00:00,  1.34s/it]\n"
          ]
        }
      ],
      "source": [
        "# Specificeer de gewenste kenmerken\n",
        "settings = {\n",
        "    'sum_values': {},\n",
        "    'variance': {},\n",
        "    'standard_deviation': {},\n",
        "    'maximum': {},\n",
        "    'minimum': {},\n",
        "    #'median': {},\n",
        "    'mean': {},\n",
        "    'mean_abs_change': {},  #proxy voor gemiddelde van de wortel van de kwadraten als 'mean root square' niet direct beschikbaar is\n",
        "}\n",
        "\n",
        "# Extract features met aangepaste instellingen\n",
        "extracted_features_clean = extract_features(\n",
        "    clean_df_long_format,\n",
        "    column_id='ID',  # Identifies the time series\n",
        "    column_sort='frame',  # Orders the time points\n",
        "    column_kind='measurement',  # Distinguishes between different variables if necessary\n",
        "    column_value='value',  # The actual measurements\n",
        "    default_fc_parameters=settings\n",
        ")"
      ]
    },
    {
      "cell_type": "code",
      "execution_count": 37,
      "metadata": {},
      "outputs": [
        {
          "name": "stdout",
          "output_type": "stream",
          "text": [
            "<bound method NDFrame.head of       AU01_r__sum_values   AU01_r__variance   AU01_r__standard_deviation  \\\n",
            "5                6142.65           0.233452                     0.483169   \n",
            "6                6802.40           0.437904                     0.661743   \n",
            "7                7125.50           0.333478                     0.577475   \n",
            "8                5542.21           0.222518                     0.471719   \n",
            "9                5854.51           0.164812                     0.405970   \n",
            "..                   ...                ...                          ...   \n",
            "328              1543.09           0.225924                     0.475314   \n",
            "329              1479.36           0.138269                     0.371846   \n",
            "330              1066.31           0.078431                     0.280056   \n",
            "331              1691.75           0.216956                     0.465785   \n",
            "332              1283.27           0.152346                     0.390315   \n",
            "\n",
            "      AU01_r__maximum   AU01_r__minimum   AU01_r__mean  \\\n",
            "5                4.59               0.0       0.245529   \n",
            "6                5.00               0.0       0.389845   \n",
            "7                5.00               0.0       0.281240   \n",
            "8                4.22               0.0       0.276654   \n",
            "9                4.64               0.0       0.259382   \n",
            "..                ...               ...            ...   \n",
            "328              3.82               0.0       0.254048   \n",
            "329              2.98               0.0       0.216851   \n",
            "330              2.57               0.0       0.183942   \n",
            "331              2.59               0.0       0.322484   \n",
            "332              3.11               0.0       0.230266   \n",
            "\n",
            "      AU01_r__mean_abs_change   AU02_r__sum_values   AU02_r__variance  \\\n",
            "5                    0.093365              2545.74           0.078076   \n",
            "6                    0.131898              3626.81           0.239063   \n",
            "7                    0.252769              5123.91           0.303784   \n",
            "8                    0.068581              2367.16           0.093930   \n",
            "9                    0.092342              2084.46           0.066052   \n",
            "..                        ...                  ...                ...   \n",
            "328                  0.082508               766.74           0.114677   \n",
            "329                  0.226594               905.73           0.114883   \n",
            "330                  0.152402               849.92           0.096006   \n",
            "331                  0.273945               780.01           0.110991   \n",
            "332                  0.267913               654.81           0.063012   \n",
            "\n",
            "      AU02_r__standard_deviation  ...   AU26_r__minimum   AU26_r__mean  \\\n",
            "5                       0.279421  ...               0.0       0.321875   \n",
            "6                       0.488941  ...               0.0       0.676600   \n",
            "7                       0.551166  ...               0.0       0.660326   \n",
            "8                       0.306479  ...               0.0       0.701038   \n",
            "9                       0.257006  ...               0.0       0.729662   \n",
            "..                           ...  ...               ...            ...   \n",
            "328                     0.338641  ...               0.0       0.415239   \n",
            "329                     0.338945  ...               0.0       0.404461   \n",
            "330                     0.309849  ...               0.0       0.419805   \n",
            "331                     0.333153  ...               0.0       0.539449   \n",
            "332                     0.251023  ...               0.0       0.421959   \n",
            "\n",
            "      AU26_r__mean_abs_change   AU45_r__sum_values   AU45_r__variance  \\\n",
            "5                    0.099693              9502.95           0.365947   \n",
            "6                    0.204811              5834.73           0.311603   \n",
            "7                    0.469192             15768.86           1.250335   \n",
            "8                    0.209352              7791.52           0.409860   \n",
            "9                    0.146979             11029.72           0.698892   \n",
            "..                        ...                  ...                ...   \n",
            "328                  0.362868              2693.11           0.668294   \n",
            "329                  0.367889              4740.86           1.369941   \n",
            "330                  0.255323              3189.20           0.889855   \n",
            "331                  0.320787              2740.62           1.085287   \n",
            "332                  0.320526              2930.24           1.051245   \n",
            "\n",
            "      AU45_r__standard_deviation   AU45_r__maximum   AU45_r__minimum  \\\n",
            "5                       0.604936              3.78               0.0   \n",
            "6                       0.558214              3.95               0.0   \n",
            "7                       1.118184              5.00               0.0   \n",
            "8                       0.640203              3.67               0.0   \n",
            "9                       0.835998              4.63               0.0   \n",
            "..                           ...               ...               ...   \n",
            "328                     0.817492              4.96               0.0   \n",
            "329                     1.170445              5.00               0.0   \n",
            "330                     0.943322              4.95               0.0   \n",
            "331                     1.041771              5.00               0.0   \n",
            "332                     1.025302              4.52               0.0   \n",
            "\n",
            "      AU45_r__mean   AU45_r__mean_abs_change  \n",
            "5         0.379845                  0.128288  \n",
            "6         0.334388                  0.157706  \n",
            "7         0.622389                  0.636920  \n",
            "8         0.388934                  0.117176  \n",
            "9         0.488668                  0.162506  \n",
            "..             ...                       ...  \n",
            "328       0.443383                  0.368594  \n",
            "329       0.694937                  0.718933  \n",
            "330       0.550147                  0.427193  \n",
            "331       0.522421                  0.480385  \n",
            "332       0.525792                  0.476224  \n",
            "\n",
            "[183 rows x 119 columns]>\n"
          ]
        }
      ],
      "source": [
        "print(extracted_features_clean.head)"
      ]
    },
    {
      "cell_type": "code",
      "execution_count": 42,
      "metadata": {},
      "outputs": [],
      "source": [
        "extracted_features_clean.to_csv('/Users/dionnespaltman/Desktop/downloading_new/extracted_features_clean_incomplete.csv', index=True)"
      ]
    }
  ],
  "metadata": {
    "colab": {
      "provenance": []
    },
    "kernelspec": {
      "display_name": "Python 3",
      "name": "python3"
    },
    "language_info": {
      "codemirror_mode": {
        "name": "ipython",
        "version": 3
      },
      "file_extension": ".py",
      "mimetype": "text/x-python",
      "name": "python",
      "nbconvert_exporter": "python",
      "pygments_lexer": "ipython3",
      "version": "3.10.9"
    }
  },
  "nbformat": 4,
  "nbformat_minor": 0
}
