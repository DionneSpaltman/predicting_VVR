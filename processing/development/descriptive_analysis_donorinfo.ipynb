{
 "cells": [
  {
   "cell_type": "markdown",
   "metadata": {},
   "source": [
    "# Descriptive analytics donor info"
   ]
  },
  {
   "cell_type": "markdown",
   "metadata": {},
   "source": [
    "This notebook contains descriptive analytics about the donor info csv file. "
   ]
  },
  {
   "cell_type": "code",
   "execution_count": 1,
   "metadata": {},
   "outputs": [],
   "source": [
    "# import \n",
    "import pandas as pd\n",
    "import matplotlib.pyplot as plt\n",
    "import numpy as np"
   ]
  },
  {
   "cell_type": "markdown",
   "metadata": {},
   "source": [
    "# Load csv file "
   ]
  },
  {
   "cell_type": "code",
   "execution_count": 2,
   "metadata": {},
   "outputs": [
    {
     "data": {
      "text/html": [
       "<div>\n",
       "<style scoped>\n",
       "    .dataframe tbody tr th:only-of-type {\n",
       "        vertical-align: middle;\n",
       "    }\n",
       "\n",
       "    .dataframe tbody tr th {\n",
       "        vertical-align: top;\n",
       "    }\n",
       "\n",
       "    .dataframe thead th {\n",
       "        text-align: right;\n",
       "    }\n",
       "</style>\n",
       "<table border=\"1\" class=\"dataframe\">\n",
       "  <thead>\n",
       "    <tr style=\"text-align: right;\">\n",
       "      <th></th>\n",
       "      <th>Time_point</th>\n",
       "      <th>Path</th>\n",
       "      <th>Sum</th>\n",
       "      <th>Binary</th>\n",
       "      <th>Gender</th>\n",
       "      <th>Location</th>\n",
       "      <th>Condition</th>\n",
       "    </tr>\n",
       "    <tr>\n",
       "      <th>ID</th>\n",
       "      <th></th>\n",
       "      <th></th>\n",
       "      <th></th>\n",
       "      <th></th>\n",
       "      <th></th>\n",
       "      <th></th>\n",
       "      <th></th>\n",
       "    </tr>\n",
       "  </thead>\n",
       "  <tbody>\n",
       "    <tr>\n",
       "      <th>5</th>\n",
       "      <td>1</td>\n",
       "      <td>video5_1.MOV</td>\n",
       "      <td>12</td>\n",
       "      <td>0</td>\n",
       "      <td>2</td>\n",
       "      <td>0</td>\n",
       "      <td>1</td>\n",
       "    </tr>\n",
       "    <tr>\n",
       "      <th>5</th>\n",
       "      <td>1</td>\n",
       "      <td>video5_1.MOV</td>\n",
       "      <td>12</td>\n",
       "      <td>0</td>\n",
       "      <td>2</td>\n",
       "      <td>0</td>\n",
       "      <td>1</td>\n",
       "    </tr>\n",
       "    <tr>\n",
       "      <th>5</th>\n",
       "      <td>1</td>\n",
       "      <td>video5_1.MOV</td>\n",
       "      <td>12</td>\n",
       "      <td>0</td>\n",
       "      <td>2</td>\n",
       "      <td>0</td>\n",
       "      <td>1</td>\n",
       "    </tr>\n",
       "    <tr>\n",
       "      <th>5</th>\n",
       "      <td>1</td>\n",
       "      <td>video5_1.MOV</td>\n",
       "      <td>12</td>\n",
       "      <td>0</td>\n",
       "      <td>2</td>\n",
       "      <td>0</td>\n",
       "      <td>1</td>\n",
       "    </tr>\n",
       "    <tr>\n",
       "      <th>5</th>\n",
       "      <td>1</td>\n",
       "      <td>video5_1.MOV</td>\n",
       "      <td>12</td>\n",
       "      <td>0</td>\n",
       "      <td>2</td>\n",
       "      <td>0</td>\n",
       "      <td>1</td>\n",
       "    </tr>\n",
       "  </tbody>\n",
       "</table>\n",
       "</div>"
      ],
      "text/plain": [
       "    Time_point          Path  Sum  Binary  Gender  Location  Condition\n",
       "ID                                                                    \n",
       "5            1  video5_1.MOV   12       0       2         0          1\n",
       "5            1  video5_1.MOV   12       0       2         0          1\n",
       "5            1  video5_1.MOV   12       0       2         0          1\n",
       "5            1  video5_1.MOV   12       0       2         0          1\n",
       "5            1  video5_1.MOV   12       0       2         0          1"
      ]
     },
     "execution_count": 2,
     "metadata": {},
     "output_type": "execute_result"
    }
   ],
   "source": [
    "donor_info_path = \"/Users/dionnespaltman/Desktop/downloading/20221101_donor_info2.csv\"\n",
    "\n",
    "df = pd.read_csv(donor_info_path, index_col=0)\n",
    "df = df.rename(columns={'sum': 'Sum'})\n",
    "df = df.rename(columns={'binary': 'Binary'})\n",
    "\n",
    "df_with_id = pd.read_csv(donor_info_path)\n",
    "\n",
    "df.head()"
   ]
  },
  {
   "cell_type": "code",
   "execution_count": 3,
   "metadata": {},
   "outputs": [
    {
     "data": {
      "text/html": [
       "<div>\n",
       "<style scoped>\n",
       "    .dataframe tbody tr th:only-of-type {\n",
       "        vertical-align: middle;\n",
       "    }\n",
       "\n",
       "    .dataframe tbody tr th {\n",
       "        vertical-align: top;\n",
       "    }\n",
       "\n",
       "    .dataframe thead th {\n",
       "        text-align: right;\n",
       "    }\n",
       "</style>\n",
       "<table border=\"1\" class=\"dataframe\">\n",
       "  <thead>\n",
       "    <tr style=\"text-align: right;\">\n",
       "      <th></th>\n",
       "      <th>Time_point</th>\n",
       "      <th>Path</th>\n",
       "      <th>Sum</th>\n",
       "      <th>Binary</th>\n",
       "      <th>Gender</th>\n",
       "      <th>Location</th>\n",
       "      <th>Condition</th>\n",
       "    </tr>\n",
       "    <tr>\n",
       "      <th>ID</th>\n",
       "      <th></th>\n",
       "      <th></th>\n",
       "      <th></th>\n",
       "      <th></th>\n",
       "      <th></th>\n",
       "      <th></th>\n",
       "      <th></th>\n",
       "    </tr>\n",
       "  </thead>\n",
       "  <tbody>\n",
       "    <tr>\n",
       "      <th>5</th>\n",
       "      <td>1</td>\n",
       "      <td>video5_1.MOV</td>\n",
       "      <td>12</td>\n",
       "      <td>0</td>\n",
       "      <td>2</td>\n",
       "      <td>0</td>\n",
       "      <td>1</td>\n",
       "    </tr>\n",
       "    <tr>\n",
       "      <th>5</th>\n",
       "      <td>1</td>\n",
       "      <td>video5_1.MOV</td>\n",
       "      <td>12</td>\n",
       "      <td>0</td>\n",
       "      <td>2</td>\n",
       "      <td>0</td>\n",
       "      <td>1</td>\n",
       "    </tr>\n",
       "    <tr>\n",
       "      <th>5</th>\n",
       "      <td>1</td>\n",
       "      <td>video5_1.MOV</td>\n",
       "      <td>12</td>\n",
       "      <td>0</td>\n",
       "      <td>2</td>\n",
       "      <td>0</td>\n",
       "      <td>1</td>\n",
       "    </tr>\n",
       "    <tr>\n",
       "      <th>5</th>\n",
       "      <td>1</td>\n",
       "      <td>video5_1.MOV</td>\n",
       "      <td>12</td>\n",
       "      <td>0</td>\n",
       "      <td>2</td>\n",
       "      <td>0</td>\n",
       "      <td>1</td>\n",
       "    </tr>\n",
       "    <tr>\n",
       "      <th>5</th>\n",
       "      <td>1</td>\n",
       "      <td>video5_1.MOV</td>\n",
       "      <td>12</td>\n",
       "      <td>0</td>\n",
       "      <td>2</td>\n",
       "      <td>0</td>\n",
       "      <td>1</td>\n",
       "    </tr>\n",
       "    <tr>\n",
       "      <th>...</th>\n",
       "      <td>...</td>\n",
       "      <td>...</td>\n",
       "      <td>...</td>\n",
       "      <td>...</td>\n",
       "      <td>...</td>\n",
       "      <td>...</td>\n",
       "      <td>...</td>\n",
       "    </tr>\n",
       "    <tr>\n",
       "      <th>291</th>\n",
       "      <td>2</td>\n",
       "      <td>video291_2.MOV</td>\n",
       "      <td>10</td>\n",
       "      <td>1</td>\n",
       "      <td>1</td>\n",
       "      <td>0</td>\n",
       "      <td>3</td>\n",
       "    </tr>\n",
       "    <tr>\n",
       "      <th>291</th>\n",
       "      <td>4</td>\n",
       "      <td>video291_4.MOV</td>\n",
       "      <td>12</td>\n",
       "      <td>0</td>\n",
       "      <td>1</td>\n",
       "      <td>0</td>\n",
       "      <td>3</td>\n",
       "    </tr>\n",
       "    <tr>\n",
       "      <th>291</th>\n",
       "      <td>5</td>\n",
       "      <td>video291_5.MOV</td>\n",
       "      <td>8</td>\n",
       "      <td>1</td>\n",
       "      <td>1</td>\n",
       "      <td>0</td>\n",
       "      <td>3</td>\n",
       "    </tr>\n",
       "    <tr>\n",
       "      <th>291</th>\n",
       "      <td>6</td>\n",
       "      <td>video291_6.MOV</td>\n",
       "      <td>10</td>\n",
       "      <td>1</td>\n",
       "      <td>1</td>\n",
       "      <td>0</td>\n",
       "      <td>3</td>\n",
       "    </tr>\n",
       "    <tr>\n",
       "      <th>291</th>\n",
       "      <td>7</td>\n",
       "      <td>video291_7.MOV</td>\n",
       "      <td>8</td>\n",
       "      <td>1</td>\n",
       "      <td>1</td>\n",
       "      <td>0</td>\n",
       "      <td>3</td>\n",
       "    </tr>\n",
       "  </tbody>\n",
       "</table>\n",
       "<p>15125 rows × 7 columns</p>\n",
       "</div>"
      ],
      "text/plain": [
       "     Time_point            Path  Sum  Binary  Gender  Location  Condition\n",
       "ID                                                                       \n",
       "5             1    video5_1.MOV   12       0       2         0          1\n",
       "5             1    video5_1.MOV   12       0       2         0          1\n",
       "5             1    video5_1.MOV   12       0       2         0          1\n",
       "5             1    video5_1.MOV   12       0       2         0          1\n",
       "5             1    video5_1.MOV   12       0       2         0          1\n",
       "..          ...             ...  ...     ...     ...       ...        ...\n",
       "291           2  video291_2.MOV   10       1       1         0          3\n",
       "291           4  video291_4.MOV   12       0       1         0          3\n",
       "291           5  video291_5.MOV    8       1       1         0          3\n",
       "291           6  video291_6.MOV   10       1       1         0          3\n",
       "291           7  video291_7.MOV    8       1       1         0          3\n",
       "\n",
       "[15125 rows x 7 columns]"
      ]
     },
     "metadata": {},
     "output_type": "display_data"
    }
   ],
   "source": [
    "display(df)"
   ]
  },
  {
   "cell_type": "code",
   "execution_count": 4,
   "metadata": {},
   "outputs": [
    {
     "name": "stdout",
     "output_type": "stream",
     "text": [
      "Number of categories in the ID column is 281.\n",
      "Number of categories in the time point column is 7.\n",
      "Number of categories in the path column is 2792.\n",
      "Number of categories in the sum column is 21.\n",
      "Number of categories in the binary column is 2.\n",
      "Number of categories in the gender column is 2.\n",
      "Number of categories in the location column is 3.\n",
      "Number of categories in the condition column is 3.\n"
     ]
    }
   ],
   "source": [
    "print(f\"Number of categories in the ID column is {df_with_id.ID.nunique()}.\")\n",
    "print(f\"Number of categories in the time point column is {df.Time_point.nunique()}.\")\n",
    "print(f\"Number of categories in the path column is {df.Path.nunique()}.\")\n",
    "print(f\"Number of categories in the sum column is {df.Sum.nunique()}.\")\n",
    "print(f\"Number of categories in the binary column is {df.Binary.nunique()}.\")\n",
    "print(f\"Number of categories in the gender column is {df.Gender.nunique()}.\")\n",
    "print(f\"Number of categories in the location column is {df.Location.nunique()}.\")\n",
    "print(f\"Number of categories in the condition column is {df.Condition.nunique()}.\")"
   ]
  },
  {
   "cell_type": "markdown",
   "metadata": {},
   "source": [
    "# Possible values of condition (what do they mean?)"
   ]
  },
  {
   "cell_type": "code",
   "execution_count": 7,
   "metadata": {},
   "outputs": [
    {
     "name": "stdout",
     "output_type": "stream",
     "text": [
      "[1 2 3]\n"
     ]
    }
   ],
   "source": [
    "condition_values = df['Condition'].unique()\n",
    "\n",
    "print(condition_values)"
   ]
  },
  {
   "cell_type": "markdown",
   "metadata": {},
   "source": [
    "# Count gender (does not work yet!)"
   ]
  },
  {
   "cell_type": "code",
   "execution_count": null,
   "metadata": {},
   "outputs": [],
   "source": [
    "# Create a copy of the original dataframe\n",
    "df_copy = df.copy()\n",
    "\n",
    "# Drop duplicate rows based on the 'ID' column to ensure each participant is counted only once\n",
    "unique_participants = df_copy.drop_duplicates(subset=['ID'])\n",
    "\n",
    "# Reset index to ensure 'ID' is treated as a column\n",
    "df_copy.reset_index(inplace=True)\n",
    "\n",
    "# Drop duplicate rows based on the 'ID' column to ensure each participant is counted only once\n",
    "unique_participants = df_copy.drop_duplicates(subset=['ID'])\n",
    "\n",
    "# Count the occurrences of each gender\n",
    "gender_counts = unique_participants['Gender'].value_counts()\n",
    "\n",
    "print(\"Gender Counts:\")\n",
    "print(gender_counts)"
   ]
  },
  {
   "cell_type": "markdown",
   "metadata": {},
   "source": [
    "# Unique IDs"
   ]
  },
  {
   "cell_type": "code",
   "execution_count": 12,
   "metadata": {},
   "outputs": [
    {
     "name": "stdout",
     "output_type": "stream",
     "text": [
      "281\n",
      "281\n",
      "Int64Index([5, 5, 5, 5, 5, 5, 5, 5, 5, 5, 5, 5, 5, 5, 5, 5, 5, 5, 5, 5, 5, 5,\n",
      "            5, 5, 5, 5, 5, 5, 5, 5, 5, 5, 5, 5, 5, 5, 5, 5, 5, 5, 5, 5, 5, 5,\n",
      "            5, 5, 5, 5, 5, 5, 5, 5, 5, 5, 5, 5, 5, 5, 5, 5, 5, 5, 5],\n",
      "           dtype='int64', name='ID')\n",
      "Int64Index([6, 6, 6, 6, 6, 6, 6, 6, 6, 6, 6, 6, 6, 6, 6, 6, 6, 6, 6, 6, 6, 6,\n",
      "            6, 6, 6, 6, 6, 6, 6, 6, 6, 6, 6, 6, 6, 6, 6, 6, 6, 6, 6, 6, 6, 6,\n",
      "            6, 6, 6, 6, 7, 7, 7, 7, 7, 7, 7, 7, 7, 7, 7, 7, 7, 7, 7, 7],\n",
      "           dtype='int64', name='ID')\n",
      "Int64Index([  5,   6,   7,   8,   9,  10,  12,  13,  14,  15,\n",
      "            ...\n",
      "            282, 283, 284, 285, 286, 287, 288, 289, 290, 291],\n",
      "           dtype='int64', name='ID', length=281)\n"
     ]
    }
   ],
   "source": [
    "unique_id_count = df.index.nunique()\n",
    "print(unique_id_count)\n",
    "\n",
    "unique_id_count = df_with_id['ID'].nunique()\n",
    "print(unique_id_count)\n",
    "\n",
    "print(df.index[:63])\n",
    "print(df.index[64:128])\n",
    "\n",
    "print(df.index.unique())"
   ]
  }
 ],
 "metadata": {
  "kernelspec": {
   "display_name": "base",
   "language": "python",
   "name": "python3"
  },
  "language_info": {
   "codemirror_mode": {
    "name": "ipython",
    "version": 3
   },
   "file_extension": ".py",
   "mimetype": "text/x-python",
   "name": "python",
   "nbconvert_exporter": "python",
   "pygments_lexer": "ipython3",
   "version": "3.10.9"
  }
 },
 "nbformat": 4,
 "nbformat_minor": 2
}
