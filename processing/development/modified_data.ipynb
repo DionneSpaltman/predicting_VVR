{
 "cells": [
  {
   "cell_type": "markdown",
   "metadata": {},
   "source": [
    "# Modified data\n",
    "In this file, new versions of all the files will be created with the dropped columns. After this, we can make one big file, that includes the id. "
   ]
  },
  {
   "cell_type": "code",
   "execution_count": null,
   "metadata": {},
   "outputs": [],
   "source": [
    "import zipfile\n",
    "import os\n",
    "import pandas as pd\n",
    "\n",
    "# Function to drop columns based on specific patterns\n",
    "def drop_columns_by_patterns(df):\n",
    "    columns_to_drop = [col for col in df.columns if any(x in col for x in ['p', 'Z', 'Y', 'y', 'x', 'gaze', 'eye', 'X', '_c'])]\n",
    "    return df.drop(columns=columns_to_drop)\n",
    "\n",
    "# Define the zip file path and the folder to save modified files\n",
    "zip_file_path = '/Users/dionnespaltman/Desktop/downloading/full donation data.zip'\n",
    "output_folder = '/Users/dionnespaltman/Desktop/downloading/modified_data'\n",
    "\n",
    "# Create the output folder if it doesn't exist\n",
    "os.makedirs(output_folder, exist_ok=True)\n",
    "\n",
    "# Open the zip file\n",
    "with zipfile.ZipFile(zip_file_path, 'r') as zip_file:\n",
    "    # Extract each file and process it\n",
    "    for file_name in zip_file.namelist():\n",
    "        # Read the CSV file from the zip archive into a DataFrame\n",
    "        with zip_file.open(file_name, 'r') as csv_file:\n",
    "            try:\n",
    "                df = pd.read_csv(csv_file)\n",
    "                \n",
    "                # Drop columns based on specific patterns\n",
    "                modified_df = drop_columns_by_patterns(df)\n",
    "                \n",
    "                if not modified_df.empty:\n",
    "                    # Create the output file path\n",
    "                    output_file_path = os.path.join(output_folder, os.path.basename(file_name))\n",
    "                    \n",
    "                    # Save the modified DataFrame to a new CSV file in the output folder\n",
    "                    modified_df.to_csv(output_file_path, index=False)\n",
    "                    print(f\"Processed {file_name} and saved to {output_file_path}\")\n",
    "                else:\n",
    "                    print(f\"DataFrame from {file_name} is empty after dropping columns.\")\n",
    "            except pd.errors.EmptyDataError:\n",
    "                print(f\"No data found in {file_name}.\")\n",
    "            except Exception as e:\n",
    "                print(f\"An error occurred while processing {file_name}: {e}\")\n"
   ]
  },
  {
   "cell_type": "code",
   "execution_count": 13,
   "metadata": {},
   "outputs": [
    {
     "name": "stdout",
     "output_type": "stream",
     "text": [
      "       frame   face_id   confidence   success   AU01_r   AU02_r   AU04_r   AU05_r   AU06_r   AU07_r   AU09_r   AU10_r   AU12_r   AU14_r   AU15_r   AU17_r   AU20_r   AU23_r   AU25_r   AU26_r   AU45_r\n",
      "0          1         0         0.98         1     0.00     0.39     0.00      0.0     0.20     0.48     2.85     0.08     0.29     0.51      0.0     0.74     0.00     0.00     0.00     0.33     0.00\n",
      "1          2         0         0.98         1     0.00     0.14     0.29      0.0     0.28     0.58     2.64     0.52     0.30     0.45      0.0     0.69     0.08     0.01     0.01     0.34     0.05\n",
      "2          3         0         0.98         1     0.00     0.01     0.40      0.0     0.31     0.66     2.48     0.71     0.36     0.28      0.0     0.62     0.22     0.01     0.01     0.40     0.05\n",
      "3          4         0         0.98         1     0.00     0.00     0.32      0.0     0.37     0.58     2.43     0.68     0.35     0.14      0.0     0.64     0.26     0.10     0.00     0.54     0.05\n",
      "4          5         0         0.98         1     0.00     0.00     0.31      0.0     0.44     0.69     2.49     0.63     0.42     0.07      0.0     0.65     0.18     0.16     0.00     0.73     0.00\n",
      "...      ...       ...          ...       ...      ...      ...      ...      ...      ...      ...      ...      ...      ...      ...      ...      ...      ...      ...      ...      ...      ...\n",
      "22995  22996         0         0.98         1     0.01     0.00     0.00      0.0     1.27     0.00     0.28     1.24     2.46     1.33      0.0     0.00     0.66     0.00     1.27     0.00     0.00\n",
      "22996  22997         0         0.98         1     0.00     0.00     0.00      0.0     1.30     0.00     0.32     1.18     2.52     1.34      0.0     0.00     0.73     0.00     1.24     0.00     0.00\n",
      "22997  22998         0         0.98         1     0.00     0.00     0.00      0.0     1.31     0.00     0.27     1.20     2.59     1.30      0.0     0.00     0.73     0.00     1.25     0.00     0.00\n",
      "22998  22999         0         0.98         1     0.00     0.00     0.00      0.0     1.39     0.00     0.18     1.20     2.66     1.30      0.0     0.00     0.58     0.00     1.28     0.00     0.00\n",
      "22999  23000         0         0.98         1     0.00     0.00     0.00      0.0     1.47     0.00     0.09     1.09     2.73     1.38      0.0     0.00     0.43     0.00     1.24     0.00     0.00\n",
      "\n",
      "[23000 rows x 21 columns]\n"
     ]
    }
   ],
   "source": [
    "import pandas as pd\n",
    "\n",
    "output_folder = '/Users/dionnespaltman/Desktop/downloading/modified_data'\n",
    "\n",
    "# Adjusted code\n",
    "file_5 = \"5-03-04-05-06.csv\"  # Assuming the file is within the modified_data folder\n",
    "df_5 = pd.read_csv(os.path.join(output_folder, file_5))\n",
    "pd.set_option('display.max_columns', None)  # Display all columns\n",
    "pd.set_option('display.expand_frame_repr', False)  # Do not wrap DataFrame\n",
    "display(df_5)\n"
   ]
  },
  {
   "cell_type": "markdown",
   "metadata": {},
   "source": [
    "Now I want to add to columns: ID and which timeframe it was "
   ]
  },
  {
   "cell_type": "code",
   "execution_count": 2,
   "metadata": {},
   "outputs": [],
   "source": [
    "# Doesn't work yet!!\n",
    "import os\n",
    "import pandas as pd\n",
    "\n",
    "output_folder = '/Users/dionnespaltman/Desktop/downloading/modified_data'\n",
    "\n",
    "# Get list of files in the modified_data folder\n",
    "file_names = os.listdir(output_folder)\n",
    "\n",
    "# Iterate over each file\n",
    "for file_name in file_names:\n",
    "    # Read the CSV file into a DataFrame\n",
    "    df = pd.read_csv(os.path.join(output_folder, file_name))\n",
    "    \n",
    "    # Extract ID and timeframe from file name\n",
    "    ID = ''\n",
    "    timeframe = ''\n",
    "    parts = file_name.split('_')\n",
    "    if len(parts) > 1:  # If underscore is present\n",
    "        ID = parts[0]  # ID is the part before the underscore\n",
    "        timeframe = parts[1].split('.')[0]  # Timeframe is the part after the underscore, removing the file extension\n",
    "    else:\n",
    "        parts = file_name.split('-')\n",
    "        ID = parts[0][:3]  # ID is the first three characters before the hyphen\n",
    "        timeframe = '-'.join(parts[1:]).split('.')[0]  # Timeframe is the part after the hyphen, removing the file extension\n",
    "    \n",
    "    # Add ID and timeframe columns\n",
    "    df['ID'] = ID\n",
    "    df['Timeframe'] = timeframe\n",
    "    \n",
    "    # Display the DataFrame\n",
    "    pd.set_option('display.max_columns', None)  # Display all columns\n",
    "    pd.set_option('display.expand_frame_repr', False)  # Do not wrap DataFrame\n"
   ]
  }
 ],
 "metadata": {
  "kernelspec": {
   "display_name": "base",
   "language": "python",
   "name": "python3"
  },
  "language_info": {
   "codemirror_mode": {
    "name": "ipython",
    "version": 3
   },
   "file_extension": ".py",
   "mimetype": "text/x-python",
   "name": "python",
   "nbconvert_exporter": "python",
   "pygments_lexer": "ipython3",
   "version": "3.10.9"
  }
 },
 "nbformat": 4,
 "nbformat_minor": 2
}
