{
 "cells": [
  {
   "cell_type": "markdown",
   "metadata": {},
   "source": [
    "# Temp meeting 30 april "
   ]
  },
  {
   "cell_type": "code",
   "execution_count": 3,
   "metadata": {},
   "outputs": [],
   "source": [
    "import pickle\n",
    "import pandas as pd"
   ]
  },
  {
   "cell_type": "code",
   "execution_count": 5,
   "metadata": {},
   "outputs": [],
   "source": [
    "\n",
    "loaded_dataframe = pd.read_pickle('/Users/dionnespaltman/Desktop/downloading_new/big_dataframe.pkl')\n",
    "loaded_dataframe['ID'].to_csv('/Users/dionnespaltman/Desktop/downloading_new/columns_id', index=False)\n"
   ]
  },
  {
   "cell_type": "code",
   "execution_count": 15,
   "metadata": {},
   "outputs": [
    {
     "name": "stdout",
     "output_type": "stream",
     "text": [
      "['80', '324', '87', '78', '328', '92', '38', '129', '85', '95', '300', '97', '290', '312', '127', '40', '101', '118', '144', '113', '52', '31', '125', '64', '146', '49', '89', '76', '68', '33', '94', '111', '39', '93', '50', '326', '42', '103', '79', '292', '310', '81', '74', '135', '302', '139', '66', '48', '128', '119', '99', '306', '114', '57', '140', '123', '62', '318', '105', '296', '314', '131', '288', '58', '142', '322', '45', '106', '46', '107', '330', '37', '115', '54', '29', '83', '130', '73', '91', '70', '61', '34', '122', '308', '43', '100', '44', '294', '316', '298', '304', '112', '51', '332', '320', '72', '133', '35', '60', '32', '98', '124', '121', '117', '136', '109', '75', '301', '65', '18', '69', '291', '313', '77', '41', '102', '325', '138', '67', '30', '53', '145', '329', '134', '84', '96', '88', '86', '104', '293', '311', '55', '303', '116', '143', '110', '47', '327', '132', '71', '36', '63', '120', '323', '331', '90', '319', '82', '307', '289', '297', '315', '59', '28', '141', '108', '321', '295', '317', '309', '305', '299', '16', '7', '20', '14', '13', '21', '22', '9', '5', '12', '26', '25', '10', '24', '23', '15', '17', '8', '19', '27', '11', '6']\n",
      "184\n"
     ]
    }
   ],
   "source": [
    "# Extract unique IDs from the 'ID' column\n",
    "unique_ids = loaded_dataframe['ID'].unique().tolist()\n",
    "\n",
    "# Print the list of unique IDs\n",
    "print(unique_ids)\n",
    "print(len(unique_ids))"
   ]
  },
  {
   "cell_type": "code",
   "execution_count": 13,
   "metadata": {},
   "outputs": [
    {
     "name": "stdout",
     "output_type": "stream",
     "text": [
      "184\n",
      "[5, 6, 7, 8, 9, 10, 11, 12, 13, 14, 15, 16, 17, 18, 19, 20, 21, 22, 23, 24, 25, 26, 27, 28, 29, 30, 31, 32, 33, 34, 35, 36, 37, 38, 39, 40, 41, 42, 43, 44, 45, 46, 47, 48, 49, 50, 51, 52, 53, 54, 55, 57, 58, 59, 60, 61, 62, 63, 64, 65, 66, 67, 68, 69, 70, 71, 72, 73, 74, 75, 76, 77, 78, 79, 80, 81, 82, 83, 84, 85, 86, 87, 88, 89, 90, 91, 92, 93, 94, 95, 96, 97, 98, 99, 100, 101, 102, 103, 104, 105, 106, 107, 108, 109, 110, 111, 112, 113, 114, 115, 116, 117, 118, 119, 120, 121, 122, 123, 124, 125, 127, 128, 129, 130, 131, 132, 133, 134, 135, 136, 138, 139, 140, 141, 142, 143, 144, 145, 146, 288, 289, 290, 291, 292, 293, 294, 295, 296, 297, 298, 299, 300, 301, 302, 303, 304, 305, 306, 307, 308, 309, 310, 311, 312, 313, 314, 315, 316, 317, 318, 319, 320, 321, 322, 323, 324, 325, 326, 327, 328, 329, 330, 331, 332]\n"
     ]
    }
   ],
   "source": [
    "# Extract unique IDs from the 'ID' column, convert them to integers, and sort them\n",
    "unique_ids_sorted = sorted([int(id) for id in loaded_dataframe['ID'].unique()])\n",
    "\n",
    "# Print the sorted list of unique IDs\n",
    "print(len(unique_ids_sorted))\n",
    "\n",
    "print(unique_ids_sorted)\n",
    "\n",
    "# 146, 288\n",
    "# 147 tot 287\n",
    "\n",
    " \n"
   ]
  },
  {
   "cell_type": "code",
   "execution_count": 11,
   "metadata": {},
   "outputs": [
    {
     "name": "stdout",
     "output_type": "stream",
     "text": [
      "Range of unique IDs: 5 - 332\n"
     ]
    }
   ],
   "source": [
    "# Extract unique IDs from the 'ID' column, convert them to integers, and sort them\n",
    "unique_ids_sorted = sorted([int(id) for id in loaded_dataframe['ID'].unique()])\n",
    "\n",
    "# Find the minimum and maximum values\n",
    "min_id = unique_ids_sorted[0]\n",
    "max_id = unique_ids_sorted[-1]\n",
    "\n",
    "# Print the range of unique IDs\n",
    "print(\"Range of unique IDs:\", min_id, \"-\", max_id)\n"
   ]
  }
 ],
 "metadata": {
  "kernelspec": {
   "display_name": "base",
   "language": "python",
   "name": "python3"
  },
  "language_info": {
   "codemirror_mode": {
    "name": "ipython",
    "version": 3
   },
   "file_extension": ".py",
   "mimetype": "text/x-python",
   "name": "python",
   "nbconvert_exporter": "python",
   "pygments_lexer": "ipython3",
   "version": "3.10.9"
  }
 },
 "nbformat": 4,
 "nbformat_minor": 2
}
